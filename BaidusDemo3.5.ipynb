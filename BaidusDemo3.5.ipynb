{
 "cells": [
  {
   "cell_type": "code",
   "execution_count": 1,
   "id": "53f16289",
   "metadata": {},
   "outputs": [
    {
     "name": "stderr",
     "output_type": "stream",
     "text": [
      "2023-06-26 20:15:19.627833: I tensorflow/core/util/port.cc:110] oneDNN custom operations are on. You may see slightly different numerical results due to floating-point round-off errors from different computation orders. To turn them off, set the environment variable `TF_ENABLE_ONEDNN_OPTS=0`.\n",
      "2023-06-26 20:15:19.651921: I tensorflow/core/platform/cpu_feature_guard.cc:182] This TensorFlow binary is optimized to use available CPU instructions in performance-critical operations.\n",
      "To enable the following instructions: AVX2 AVX_VNNI FMA, in other operations, rebuild TensorFlow with the appropriate compiler flags.\n",
      "2023-06-26 20:15:20.003983: W tensorflow/compiler/tf2tensorrt/utils/py_utils.cc:38] TF-TRT Warning: Could not find TensorRT\n"
     ]
    }
   ],
   "source": [
    "import tensorflow as tf"
   ]
  },
  {
   "cell_type": "code",
   "execution_count": 43,
   "id": "f65782be",
   "metadata": {},
   "outputs": [],
   "source": [
    "from tensorflow import keras"
   ]
  },
  {
   "cell_type": "code",
   "execution_count": 5,
   "id": "08171ce2",
   "metadata": {},
   "outputs": [],
   "source": [
    "import pandas as pd\n",
    "import numpy as np\n",
    "import matplotlib.pyplot as plt"
   ]
  },
  {
   "cell_type": "code",
   "execution_count": 6,
   "id": "199df5a6",
   "metadata": {},
   "outputs": [],
   "source": [
    "data=pd.read_csv('./torch-v1.8.0.csv')"
   ]
  },
  {
   "cell_type": "code",
   "execution_count": 23,
   "id": "e610de16",
   "metadata": {},
   "outputs": [
    {
     "data": {
      "text/html": [
       "<div>\n",
       "<style scoped>\n",
       "    .dataframe tbody tr th:only-of-type {\n",
       "        vertical-align: middle;\n",
       "    }\n",
       "\n",
       "    .dataframe tbody tr th {\n",
       "        vertical-align: top;\n",
       "    }\n",
       "\n",
       "    .dataframe thead th {\n",
       "        text-align: right;\n",
       "    }\n",
       "</style>\n",
       "<table border=\"1\" class=\"dataframe\">\n",
       "  <thead>\n",
       "    <tr style=\"text-align: right;\">\n",
       "      <th></th>\n",
       "      <th>API Name</th>\n",
       "      <th>Parameters</th>\n",
       "      <th>Test case</th>\n",
       "      <th>Label</th>\n",
       "      <th>combintedString</th>\n",
       "    </tr>\n",
       "  </thead>\n",
       "  <tbody>\n",
       "    <tr>\n",
       "      <th>0</th>\n",
       "      <td>torch.nn.functional.max_pool3d</td>\n",
       "      <td>arg_0_tensor = torch.rand([20, 16, 50, 44, 31]...</td>\n",
       "      <td>v1.8.0/cuda-oracle/success/torch.nn.functional...</td>\n",
       "      <td>success</td>\n",
       "      <td>torch.nn.functional.max_pool3darg_0_tensor = t...</td>\n",
       "    </tr>\n",
       "    <tr>\n",
       "      <th>1</th>\n",
       "      <td>torch.nn.functional.max_pool3d</td>\n",
       "      <td>arg_0_tensor = torch.rand([20, 16, 50, 44, 31]...</td>\n",
       "      <td>v1.8.0/cuda-oracle/success/torch.nn.functional...</td>\n",
       "      <td>success</td>\n",
       "      <td>torch.nn.functional.max_pool3darg_0_tensor = t...</td>\n",
       "    </tr>\n",
       "    <tr>\n",
       "      <th>2</th>\n",
       "      <td>torch.nn.functional.max_pool3d</td>\n",
       "      <td>arg_0_tensor = torch.rand([20, 16, 51, 33, 15]...</td>\n",
       "      <td>v1.8.0/cuda-oracle/success/torch.nn.functional...</td>\n",
       "      <td>success</td>\n",
       "      <td>torch.nn.functional.max_pool3darg_0_tensor = t...</td>\n",
       "    </tr>\n",
       "    <tr>\n",
       "      <th>3</th>\n",
       "      <td>torch.nn.functional.max_pool3d</td>\n",
       "      <td>arg_0_tensor = torch.rand([20, 16, 51, 33, 15]...</td>\n",
       "      <td>v1.8.0/FreeFuzz_bugs/torch.nn.functional.max_p...</td>\n",
       "      <td>bug</td>\n",
       "      <td>torch.nn.functional.max_pool3darg_0_tensor = t...</td>\n",
       "    </tr>\n",
       "    <tr>\n",
       "      <th>4</th>\n",
       "      <td>torch.isneginf</td>\n",
       "      <td>arg_0_tensor = torch.rand([3], dtype=torch.flo...</td>\n",
       "      <td>v1.8.0/cuda-oracle/success/torch.isneginf/1.py</td>\n",
       "      <td>success</td>\n",
       "      <td>torch.isneginfarg_0_tensor = torch.rand([3], d...</td>\n",
       "    </tr>\n",
       "  </tbody>\n",
       "</table>\n",
       "</div>"
      ],
      "text/plain": [
       "                         API Name  \\\n",
       "0  torch.nn.functional.max_pool3d   \n",
       "1  torch.nn.functional.max_pool3d   \n",
       "2  torch.nn.functional.max_pool3d   \n",
       "3  torch.nn.functional.max_pool3d   \n",
       "4                  torch.isneginf   \n",
       "\n",
       "                                          Parameters  \\\n",
       "0  arg_0_tensor = torch.rand([20, 16, 50, 44, 31]...   \n",
       "1  arg_0_tensor = torch.rand([20, 16, 50, 44, 31]...   \n",
       "2  arg_0_tensor = torch.rand([20, 16, 51, 33, 15]...   \n",
       "3  arg_0_tensor = torch.rand([20, 16, 51, 33, 15]...   \n",
       "4  arg_0_tensor = torch.rand([3], dtype=torch.flo...   \n",
       "\n",
       "                                           Test case    Label  \\\n",
       "0  v1.8.0/cuda-oracle/success/torch.nn.functional...  success   \n",
       "1  v1.8.0/cuda-oracle/success/torch.nn.functional...  success   \n",
       "2  v1.8.0/cuda-oracle/success/torch.nn.functional...  success   \n",
       "3  v1.8.0/FreeFuzz_bugs/torch.nn.functional.max_p...      bug   \n",
       "4     v1.8.0/cuda-oracle/success/torch.isneginf/1.py  success   \n",
       "\n",
       "                                     combintedString  \n",
       "0  torch.nn.functional.max_pool3darg_0_tensor = t...  \n",
       "1  torch.nn.functional.max_pool3darg_0_tensor = t...  \n",
       "2  torch.nn.functional.max_pool3darg_0_tensor = t...  \n",
       "3  torch.nn.functional.max_pool3darg_0_tensor = t...  \n",
       "4  torch.isneginfarg_0_tensor = torch.rand([3], d...  "
      ]
     },
     "execution_count": 23,
     "metadata": {},
     "output_type": "execute_result"
    }
   ],
   "source": [
    "data.head()"
   ]
  },
  {
   "cell_type": "code",
   "execution_count": 16,
   "id": "8dea60de",
   "metadata": {},
   "outputs": [
    {
     "name": "stdout",
     "output_type": "stream",
     "text": [
      "<class 'pandas.core.frame.DataFrame'>\n",
      "RangeIndex: 44143 entries, 0 to 44142\n",
      "Data columns (total 4 columns):\n",
      " #   Column      Non-Null Count  Dtype \n",
      "---  ------      --------------  ----- \n",
      " 0   API Name    44143 non-null  object\n",
      " 1   Parameters  41096 non-null  object\n",
      " 2   Test case   44143 non-null  object\n",
      " 3   Label       44143 non-null  object\n",
      "dtypes: object(4)\n",
      "memory usage: 1.3+ MB\n"
     ]
    }
   ],
   "source": [
    "data.info()"
   ]
  },
  {
   "cell_type": "code",
   "execution_count": 8,
   "id": "7f2dc564",
   "metadata": {},
   "outputs": [
    {
     "data": {
      "text/plain": [
       "success    42666\n",
       "bug         1477\n",
       "Name: Label, dtype: int64"
      ]
     },
     "execution_count": 8,
     "metadata": {},
     "output_type": "execute_result"
    }
   ],
   "source": [
    "data.iloc[:,-1].value_counts()"
   ]
  },
  {
   "cell_type": "code",
   "execution_count": 20,
   "id": "f879fd02",
   "metadata": {},
   "outputs": [
    {
     "data": {
      "text/plain": [
       "0    success\n",
       "1    success\n",
       "2    success\n",
       "3        bug\n",
       "4    success\n",
       "Name: Label, dtype: object"
      ]
     },
     "execution_count": 20,
     "metadata": {},
     "output_type": "execute_result"
    }
   ],
   "source": [
    "data.iloc[:, -2].head()"
   ]
  },
  {
   "cell_type": "code",
   "execution_count": 13,
   "id": "04dfba9d",
   "metadata": {},
   "outputs": [
    {
     "data": {
      "text/plain": [
       "0    1\n",
       "1    1\n",
       "2    1\n",
       "3    0\n",
       "4    1\n",
       "Name: Label, dtype: int64"
      ]
     },
     "execution_count": 13,
     "metadata": {},
     "output_type": "execute_result"
    }
   ],
   "source": [
    "data.iloc[:, -1].replace(\"success\",1).replace(\"bug\",0).head()"
   ]
  },
  {
   "cell_type": "code",
   "execution_count": 17,
   "id": "9c4b73af",
   "metadata": {},
   "outputs": [],
   "source": [
    "data['combintedString']=data[['API Name','Parameters']].apply(lambda x : '{}{}'.format(x[0],x[1]), axis=1)"
   ]
  },
  {
   "cell_type": "code",
   "execution_count": 18,
   "id": "21a5914a",
   "metadata": {},
   "outputs": [
    {
     "data": {
      "text/html": [
       "<div>\n",
       "<style scoped>\n",
       "    .dataframe tbody tr th:only-of-type {\n",
       "        vertical-align: middle;\n",
       "    }\n",
       "\n",
       "    .dataframe tbody tr th {\n",
       "        vertical-align: top;\n",
       "    }\n",
       "\n",
       "    .dataframe thead th {\n",
       "        text-align: right;\n",
       "    }\n",
       "</style>\n",
       "<table border=\"1\" class=\"dataframe\">\n",
       "  <thead>\n",
       "    <tr style=\"text-align: right;\">\n",
       "      <th></th>\n",
       "      <th>API Name</th>\n",
       "      <th>Parameters</th>\n",
       "      <th>Test case</th>\n",
       "      <th>Label</th>\n",
       "      <th>combintedString</th>\n",
       "    </tr>\n",
       "  </thead>\n",
       "  <tbody>\n",
       "    <tr>\n",
       "      <th>0</th>\n",
       "      <td>torch.nn.functional.max_pool3d</td>\n",
       "      <td>arg_0_tensor = torch.rand([20, 16, 50, 44, 31]...</td>\n",
       "      <td>v1.8.0/cuda-oracle/success/torch.nn.functional...</td>\n",
       "      <td>success</td>\n",
       "      <td>torch.nn.functional.max_pool3darg_0_tensor = t...</td>\n",
       "    </tr>\n",
       "    <tr>\n",
       "      <th>1</th>\n",
       "      <td>torch.nn.functional.max_pool3d</td>\n",
       "      <td>arg_0_tensor = torch.rand([20, 16, 50, 44, 31]...</td>\n",
       "      <td>v1.8.0/cuda-oracle/success/torch.nn.functional...</td>\n",
       "      <td>success</td>\n",
       "      <td>torch.nn.functional.max_pool3darg_0_tensor = t...</td>\n",
       "    </tr>\n",
       "    <tr>\n",
       "      <th>2</th>\n",
       "      <td>torch.nn.functional.max_pool3d</td>\n",
       "      <td>arg_0_tensor = torch.rand([20, 16, 51, 33, 15]...</td>\n",
       "      <td>v1.8.0/cuda-oracle/success/torch.nn.functional...</td>\n",
       "      <td>success</td>\n",
       "      <td>torch.nn.functional.max_pool3darg_0_tensor = t...</td>\n",
       "    </tr>\n",
       "    <tr>\n",
       "      <th>3</th>\n",
       "      <td>torch.nn.functional.max_pool3d</td>\n",
       "      <td>arg_0_tensor = torch.rand([20, 16, 51, 33, 15]...</td>\n",
       "      <td>v1.8.0/FreeFuzz_bugs/torch.nn.functional.max_p...</td>\n",
       "      <td>bug</td>\n",
       "      <td>torch.nn.functional.max_pool3darg_0_tensor = t...</td>\n",
       "    </tr>\n",
       "    <tr>\n",
       "      <th>4</th>\n",
       "      <td>torch.isneginf</td>\n",
       "      <td>arg_0_tensor = torch.rand([3], dtype=torch.flo...</td>\n",
       "      <td>v1.8.0/cuda-oracle/success/torch.isneginf/1.py</td>\n",
       "      <td>success</td>\n",
       "      <td>torch.isneginfarg_0_tensor = torch.rand([3], d...</td>\n",
       "    </tr>\n",
       "  </tbody>\n",
       "</table>\n",
       "</div>"
      ],
      "text/plain": [
       "                         API Name  \\\n",
       "0  torch.nn.functional.max_pool3d   \n",
       "1  torch.nn.functional.max_pool3d   \n",
       "2  torch.nn.functional.max_pool3d   \n",
       "3  torch.nn.functional.max_pool3d   \n",
       "4                  torch.isneginf   \n",
       "\n",
       "                                          Parameters  \\\n",
       "0  arg_0_tensor = torch.rand([20, 16, 50, 44, 31]...   \n",
       "1  arg_0_tensor = torch.rand([20, 16, 50, 44, 31]...   \n",
       "2  arg_0_tensor = torch.rand([20, 16, 51, 33, 15]...   \n",
       "3  arg_0_tensor = torch.rand([20, 16, 51, 33, 15]...   \n",
       "4  arg_0_tensor = torch.rand([3], dtype=torch.flo...   \n",
       "\n",
       "                                           Test case    Label  \\\n",
       "0  v1.8.0/cuda-oracle/success/torch.nn.functional...  success   \n",
       "1  v1.8.0/cuda-oracle/success/torch.nn.functional...  success   \n",
       "2  v1.8.0/cuda-oracle/success/torch.nn.functional...  success   \n",
       "3  v1.8.0/FreeFuzz_bugs/torch.nn.functional.max_p...      bug   \n",
       "4     v1.8.0/cuda-oracle/success/torch.isneginf/1.py  success   \n",
       "\n",
       "                                     combintedString  \n",
       "0  torch.nn.functional.max_pool3darg_0_tensor = t...  \n",
       "1  torch.nn.functional.max_pool3darg_0_tensor = t...  \n",
       "2  torch.nn.functional.max_pool3darg_0_tensor = t...  \n",
       "3  torch.nn.functional.max_pool3darg_0_tensor = t...  \n",
       "4  torch.isneginfarg_0_tensor = torch.rand([3], d...  "
      ]
     },
     "execution_count": 18,
     "metadata": {},
     "output_type": "execute_result"
    }
   ],
   "source": [
    "data.head()"
   ]
  },
  {
   "cell_type": "code",
   "execution_count": 21,
   "id": "01f23fd7",
   "metadata": {},
   "outputs": [],
   "source": [
    "x=data.iloc[:, -1]\n",
    "y=data.iloc[:, -2].replace(\"success\",1).replace(\"bug\",0)"
   ]
  },
  {
   "cell_type": "code",
   "execution_count": 22,
   "id": "76166163",
   "metadata": {},
   "outputs": [
    {
     "data": {
      "text/plain": [
       "(44143,)"
      ]
     },
     "execution_count": 22,
     "metadata": {},
     "output_type": "execute_result"
    }
   ],
   "source": [
    "x.shape"
   ]
  },
  {
   "cell_type": "code",
   "execution_count": 24,
   "id": "677b40ea",
   "metadata": {},
   "outputs": [],
   "source": [
    "import re"
   ]
  },
  {
   "cell_type": "code",
   "execution_count": 25,
   "id": "ad662400",
   "metadata": {},
   "outputs": [],
   "source": [
    "token = re.compile('[A-Za-z]+|[!?,.()]')"
   ]
  },
  {
   "cell_type": "code",
   "execution_count": 26,
   "id": "e7bcaab4",
   "metadata": {},
   "outputs": [],
   "source": [
    "def reg_text(text):\n",
    "    new_text = token.findall(text)\n",
    "    new_text = [word.lower() for word in new_text]\n",
    "    return new_text"
   ]
  },
  {
   "cell_type": "code",
   "execution_count": 27,
   "id": "09f6c8b9",
   "metadata": {},
   "outputs": [],
   "source": [
    "data['text'] = data.combintedString.apply(reg_text)"
   ]
  },
  {
   "cell_type": "code",
   "execution_count": 30,
   "id": "1831db98",
   "metadata": {},
   "outputs": [],
   "source": [
    "word_set = set()\n",
    "for text in data.text:\n",
    "    for word in text:\n",
    "        word_set.add(word) "
   ]
  },
  {
   "cell_type": "code",
   "execution_count": 32,
   "id": "c2107387",
   "metadata": {},
   "outputs": [
    {
     "data": {
      "text/plain": [
       "508"
      ]
     },
     "execution_count": 32,
     "metadata": {},
     "output_type": "execute_result"
    }
   ],
   "source": [
    "max_word = len(word_set) + 1\n",
    "max_word"
   ]
  },
  {
   "cell_type": "code",
   "execution_count": 33,
   "id": "5eae692a",
   "metadata": {},
   "outputs": [],
   "source": [
    "word_list = list(word_set)"
   ]
  },
  {
   "cell_type": "code",
   "execution_count": 35,
   "id": "7d345cd8",
   "metadata": {},
   "outputs": [
    {
     "data": {
      "text/plain": [
       "439"
      ]
     },
     "execution_count": 35,
     "metadata": {},
     "output_type": "execute_result"
    }
   ],
   "source": [
    "word_list.index('arg')"
   ]
  },
  {
   "cell_type": "code",
   "execution_count": 36,
   "id": "e0ce63ef",
   "metadata": {},
   "outputs": [],
   "source": [
    "word_index =  dict((word, word_list.index(word) + 1) for word in word_list)"
   ]
  },
  {
   "cell_type": "code",
   "execution_count": 37,
   "id": "758def85",
   "metadata": {},
   "outputs": [
    {
     "data": {
      "text/plain": [
       "{'softshrinknan': 1,\n",
       " 'constant': 2,\n",
       " 'inplace': 3,\n",
       " 'atleast': 4,\n",
       " 'dotarg': 5,\n",
       " 'stride': 6,\n",
       " 'softmaxarg': 7,\n",
       " 'transpose': 8,\n",
       " 'tanharg': 9,\n",
       " 'embeddingarg': 10,\n",
       " 'powerarg': 11,\n",
       " 'powarg': 12,\n",
       " 'rnncellarg': 13,\n",
       " 'nhead': 14,\n",
       " 'logitarg': 15,\n",
       " 'triangular': 16,\n",
       " 'cartesian': 17,\n",
       " 'targ': 18,\n",
       " 'isneginfarg': 19,\n",
       " 'prodarg': 20,\n",
       " 'false': 21,\n",
       " 'transformerdecoderlayerd': 22,\n",
       " 'first': 23,\n",
       " 'sorted': 24,\n",
       " 'detarg': 25,\n",
       " 'unsqueezearg': 26,\n",
       " 'statenan': 27,\n",
       " 'convtranspose': 28,\n",
       " 'rsqrtarg': 29,\n",
       " 'logical': 30,\n",
       " 'ones': 31,\n",
       " 'gearg': 32,\n",
       " 'logsigmoidnan': 33,\n",
       " 'layernormarg': 34,\n",
       " 'argument': 35,\n",
       " 'ceilarg': 36,\n",
       " 'layer': 37,\n",
       " 'gcdarg': 38,\n",
       " 'ii': 39,\n",
       " 'bcelossnan': 40,\n",
       " 'radarg': 41,\n",
       " 'triu': 42,\n",
       " 'i': 43,\n",
       " 'model': 44,\n",
       " 'bfloat': 45,\n",
       " 'softminarg': 46,\n",
       " 'trapzarg': 47,\n",
       " 'dim': 48,\n",
       " 'rnnbasearg': 49,\n",
       " 'deg': 50,\n",
       " 'randintarg': 51,\n",
       " 'requires': 52,\n",
       " 'subarg': 53,\n",
       " 'kthvaluearg': 54,\n",
       " 'flattenarg': 55,\n",
       " 'circular': 56,\n",
       " 'dropoutp': 57,\n",
       " 'indices': 58,\n",
       " 'adaptive': 59,\n",
       " 'training': 60,\n",
       " 'avg': 61,\n",
       " 'dtype': 62,\n",
       " 'typesarg': 63,\n",
       " 'default': 64,\n",
       " 'affine': 65,\n",
       " 'cholesky': 66,\n",
       " 'layers': 67,\n",
       " 'log': 68,\n",
       " 'signbitarg': 69,\n",
       " 'type': 70,\n",
       " 'mean': 71,\n",
       " 'floor': 72,\n",
       " 'complex': 73,\n",
       " 'soft': 74,\n",
       " 'cdistarg': 75,\n",
       " 'geluarg': 76,\n",
       " 'get': 77,\n",
       " 'pairwise': 78,\n",
       " 'nlllossnan': 79,\n",
       " 'threshold': 80,\n",
       " 'poissonnlllossnan': 81,\n",
       " 'vararg': 82,\n",
       " 'vanderarg': 83,\n",
       " 'e': 84,\n",
       " 'std': 85,\n",
       " 'avgpool': 86,\n",
       " 'generator': 87,\n",
       " 'pos': 88,\n",
       " 'lppool': 89,\n",
       " 'nll': 90,\n",
       " 'b': 91,\n",
       " 'rng': 92,\n",
       " '(': 93,\n",
       " 'clonearg': 94,\n",
       " 'normarg': 95,\n",
       " 'reduction': 96,\n",
       " 'einsumarg': 97,\n",
       " 'rnn': 98,\n",
       " 'p': 99,\n",
       " 'fill': 100,\n",
       " 'topkarg': 101,\n",
       " 'relunan': 102,\n",
       " 'col': 103,\n",
       " 'toarg': 104,\n",
       " 'addcmularg': 105,\n",
       " 'ij': 106,\n",
       " 'bias': 107,\n",
       " 'dropoutarg': 108,\n",
       " 'uint': 109,\n",
       " 'maxarg': 110,\n",
       " 'negarg': 111,\n",
       " 'infos': 112,\n",
       " 'maximumarg': 113,\n",
       " 'cumminarg': 114,\n",
       " 'lerparg': 115,\n",
       " 'triuarg': 116,\n",
       " 'addmvarg': 117,\n",
       " 'is': 118,\n",
       " 'similarityarg': 119,\n",
       " 'hardshrinkarg': 120,\n",
       " 'stackarg': 121,\n",
       " 'degarg': 122,\n",
       " 'trilarg': 123,\n",
       " 'logsumexparg': 124,\n",
       " 'matrix': 125,\n",
       " 'true': 126,\n",
       " 'sgnarg': 127,\n",
       " 'ltarg': 128,\n",
       " 'ratio': 129,\n",
       " 'bn': 130,\n",
       " 'end': 131,\n",
       " 'celuarg': 132,\n",
       " 'features': 133,\n",
       " 'copysignarg': 134,\n",
       " 'parameters': 135,\n",
       " 'bins': 136,\n",
       " 'dscale': 137,\n",
       " 'counts': 138,\n",
       " 'dims': 139,\n",
       " 'maxpool': 140,\n",
       " 'seluarg': 141,\n",
       " 'gtarg': 142,\n",
       " 'linearin': 143,\n",
       " 'ctc': 144,\n",
       " 'hardsigmoidnan': 145,\n",
       " 'softmaxdim': 146,\n",
       " 'medianarg': 147,\n",
       " 'var': 148,\n",
       " 'xorarg': 149,\n",
       " 'relu': 150,\n",
       " 'linspacestart': 151,\n",
       " 'bm': 152,\n",
       " 'ctclossnan': 153,\n",
       " 'randpermarg': 154,\n",
       " 'dtypearg': 155,\n",
       " 'view': 156,\n",
       " 'searchsortedarg': 157,\n",
       " 'max': 158,\n",
       " 'groups': 159,\n",
       " 'meanarg': 160,\n",
       " 'tanhshrinknan': 161,\n",
       " 'addcdivarg': 162,\n",
       " 'arangearg': 163,\n",
       " 'exp': 164,\n",
       " 'diagonalarg': 165,\n",
       " 'renormarg': 166,\n",
       " 'descending': 167,\n",
       " 'flipudarg': 168,\n",
       " 'solvearg': 169,\n",
       " 'cosine': 170,\n",
       " 'softmax': 171,\n",
       " 'dkernel': 172,\n",
       " 'right': 173,\n",
       " 'randnarg': 174,\n",
       " 'roundarg': 175,\n",
       " 'flattennan': 176,\n",
       " 'foldarg': 177,\n",
       " 'unique': 178,\n",
       " 'unbindarg': 179,\n",
       " 'sumarg': 180,\n",
       " 'anm': 181,\n",
       " 'likearg': 182,\n",
       " 'crossentropylossnan': 183,\n",
       " 'diagarg': 184,\n",
       " 'fractionalmaxpool': 185,\n",
       " 'anglearg': 186,\n",
       " 'full': 187,\n",
       " 'heavisidearg': 188,\n",
       " 'igammaarg': 189,\n",
       " 'tensor': 190,\n",
       " 'grad': 191,\n",
       " 'clone': 192,\n",
       " 'fracarg': 193,\n",
       " 'catarg': 194,\n",
       " 'keepdim': 195,\n",
       " 'minimumarg': 196,\n",
       " 'kronarg': 197,\n",
       " 'logaddexp': 198,\n",
       " 'offset': 199,\n",
       " 'factor': 200,\n",
       " 'pinversearg': 201,\n",
       " 'eyearg': 202,\n",
       " 'with': 203,\n",
       " 'j': 204,\n",
       " 'momentum': 205,\n",
       " 'inversearg': 206,\n",
       " 'cosarg': 207,\n",
       " 'value': 208,\n",
       " 'mode': 209,\n",
       " 'margin': 210,\n",
       " 'diagonal': 211,\n",
       " 'isfinitearg': 212,\n",
       " 'sum': 213,\n",
       " 'reshapearg': 214,\n",
       " 'some': 215,\n",
       " 'rad': 216,\n",
       " 'format': 217,\n",
       " 'rollarg': 218,\n",
       " 'multinomialarg': 219,\n",
       " 'gatherarg': 220,\n",
       " 'divarg': 221,\n",
       " 'sqrtarg': 222,\n",
       " 'gerarg': 223,\n",
       " 'grucellarg': 224,\n",
       " 'lgammaarg': 225,\n",
       " 'sigmoidarg': 226,\n",
       " 'reluarg': 227,\n",
       " 'ravelarg': 228,\n",
       " 'preserve': 229,\n",
       " 'splitarg': 230,\n",
       " 'nearg': 231,\n",
       " 'compute': 232,\n",
       " 'softshrinkarg': 233,\n",
       " 'uv': 234,\n",
       " 'tensorarg': 235,\n",
       " 'beta': 236,\n",
       " 'tensordotarg': 237,\n",
       " 'shapesarg': 238,\n",
       " 'orarg': 239,\n",
       " 'padding': 240,\n",
       " 'bik': 241,\n",
       " 'poissonarg': 242,\n",
       " 'acosharg': 243,\n",
       " 'n': 244,\n",
       " 'narrowarg': 245,\n",
       " 'parg': 246,\n",
       " 'rankarg': 247,\n",
       " 'tanhnan': 248,\n",
       " 'distancearg': 249,\n",
       " 'replacement': 250,\n",
       " 'erfcarg': 251,\n",
       " 'tor': 252,\n",
       " 'alphadropoutp': 253,\n",
       " 'contiguous': 254,\n",
       " 'maxunpool': 255,\n",
       " 'emptyarg': 256,\n",
       " 'cross': 257,\n",
       " 'softplusnan': 258,\n",
       " 'index': 259,\n",
       " 'lp': 260,\n",
       " 'chunks': 261,\n",
       " 'bool': 262,\n",
       " 'gruinput': 263,\n",
       " 'torch': 264,\n",
       " 'pool': 265,\n",
       " '.': 266,\n",
       " 'takearg': 267,\n",
       " 'batch': 268,\n",
       " 'upsamplingnearest': 269,\n",
       " 'dstackarg': 270,\n",
       " 'crossarg': 271,\n",
       " 'squeezearg': 272,\n",
       " 'zeropad': 273,\n",
       " 'kernel': 274,\n",
       " 'innerarg': 275,\n",
       " 'logcumsumexparg': 276,\n",
       " 'reflectionpad': 277,\n",
       " 'bilineararg': 278,\n",
       " 'alpha': 279,\n",
       " ',': 280,\n",
       " 'uniquearg': 281,\n",
       " 'selunan': 282,\n",
       " 'amaxarg': 283,\n",
       " 'distarg': 284,\n",
       " 'embedarg': 285,\n",
       " 'normalarg': 286,\n",
       " 'channels': 287,\n",
       " 'matmularg': 288,\n",
       " 'xlogyarg': 289,\n",
       " 'linspacearg': 290,\n",
       " 'learg': 291,\n",
       " 'baddbmmarg': 292,\n",
       " 'num': 293,\n",
       " 'sigmoidnan': 294,\n",
       " 'last': 295,\n",
       " 'fliparg': 296,\n",
       " 'indicesarg': 297,\n",
       " 'isnanarg': 298,\n",
       " 'unpool': 299,\n",
       " 'symeigarg': 300,\n",
       " 'set': 301,\n",
       " 'nanmedianarg': 302,\n",
       " 'promote': 303,\n",
       " 'pixelshufflearg': 304,\n",
       " 'nansumarg': 305,\n",
       " 'response': 306,\n",
       " 'msortarg': 307,\n",
       " 'histcarg': 308,\n",
       " 'tripletmarginlossmargin': 309,\n",
       " 'none': 310,\n",
       " 'device': 311,\n",
       " 'slogdetarg': 312,\n",
       " 'sortarg': 313,\n",
       " 'increasing': 314,\n",
       " 'ji': 315,\n",
       " 'tril': 316,\n",
       " 'siluarg': 317,\n",
       " 'modearg': 318,\n",
       " 'normalmean': 319,\n",
       " 'bitwise': 320,\n",
       " 'mvlgammaarg': 321,\n",
       " 'instance': 322,\n",
       " 'logdetarg': 323,\n",
       " 'functional': 324,\n",
       " 'leakyreluarg': 325,\n",
       " 'nn': 326,\n",
       " 'lineararg': 327,\n",
       " 'dividearg': 328,\n",
       " 'batchnorm': 329,\n",
       " 'lstmarg': 330,\n",
       " 'high': 331,\n",
       " 'bidirectional': 332,\n",
       " 'vstackarg': 333,\n",
       " 'randint': 334,\n",
       " 'binary': 335,\n",
       " 'r': 336,\n",
       " 'cpu': 337,\n",
       " ')': 338,\n",
       " 'cosinesimilaritydim': 339,\n",
       " 'normalizearg': 340,\n",
       " 'eluinplace': 341,\n",
       " 'logsoftmaxnan': 342,\n",
       " 'lstmcellarg': 343,\n",
       " 'truncarg': 344,\n",
       " 'block': 345,\n",
       " 'darg': 346,\n",
       " 'reciprocalarg': 347,\n",
       " 'fmodarg': 348,\n",
       " 'isposinfarg': 349,\n",
       " 'mvarg': 350,\n",
       " 'thresholdarg': 351,\n",
       " 'svdarg': 352,\n",
       " 'minarg': 353,\n",
       " 'chunkarg': 354,\n",
       " 'randarg': 355,\n",
       " 'reluinplace': 356,\n",
       " 'complexarg': 357,\n",
       " 'isinfarg': 358,\n",
       " 'signarg': 359,\n",
       " 'start': 360,\n",
       " 'rrelu': 361,\n",
       " 'addmmarg': 362,\n",
       " 'eqarg': 363,\n",
       " 'weight': 364,\n",
       " 'broadcast': 365,\n",
       " 'notarg': 366,\n",
       " 'sinarg': 367,\n",
       " 'multilabelmarginlossnan': 368,\n",
       " 'typearg': 369,\n",
       " 'elunan': 370,\n",
       " 'digammaarg': 371,\n",
       " 'conjarg': 372,\n",
       " 'entropyarg': 373,\n",
       " 'ranking': 374,\n",
       " 'fliplrarg': 375,\n",
       " 'aminarg': 376,\n",
       " 'hstackarg': 377,\n",
       " 'indicesrow': 378,\n",
       " 'bernoulliarg': 379,\n",
       " 'ar': 380,\n",
       " 'bjk': 381,\n",
       " 'multilabelsoftmarginlossnan': 382,\n",
       " 'erfarg': 383,\n",
       " 'absarg': 384,\n",
       " 'padarg': 385,\n",
       " 'hypotarg': 386,\n",
       " 'cosharg': 387,\n",
       " 'luarg': 388,\n",
       " 'lstsqarg': 389,\n",
       " 'poisson': 390,\n",
       " 'imagarg': 391,\n",
       " 'largest': 392,\n",
       " 'hardtanharg': 393,\n",
       " 'andarg': 394,\n",
       " 'mularg': 395,\n",
       " 'shufflearg': 396,\n",
       " 'out': 397,\n",
       " 'isrealarg': 398,\n",
       " 'addrarg': 399,\n",
       " 'nuc': 400,\n",
       " 'adaptiveavgpool': 401,\n",
       " 'rot': 402,\n",
       " 'float': 403,\n",
       " 'hardshrinknan': 404,\n",
       " 'replicate': 405,\n",
       " 'randintlow': 406,\n",
       " 'sinharg': 407,\n",
       " 'identitynan': 408,\n",
       " 'l': 409,\n",
       " 'cumsumarg': 410,\n",
       " 'polygammaarg': 411,\n",
       " 'dnan': 412,\n",
       " 'logsoftmaxdim': 413,\n",
       " 'norm': 414,\n",
       " 'pixel': 415,\n",
       " 'fullarg': 416,\n",
       " 'prelunan': 417,\n",
       " 'groupnormarg': 418,\n",
       " 'bilinear': 419,\n",
       " 'shifts': 420,\n",
       " 'zeros': 421,\n",
       " 'd': 422,\n",
       " 'randn': 423,\n",
       " 'tanarg': 424,\n",
       " 'utils': 425,\n",
       " 'hardsigmoidarg': 426,\n",
       " 'softplusarg': 427,\n",
       " 'dropoutnan': 428,\n",
       " 'scatterarg': 429,\n",
       " 'coo': 430,\n",
       " 'dp': 431,\n",
       " 'multiheadattentionarg': 432,\n",
       " 'squarearg': 433,\n",
       " 'eps': 434,\n",
       " 'erfinvarg': 435,\n",
       " 'constantpad': 436,\n",
       " 'size': 437,\n",
       " 'multilabel': 438,\n",
       " 'replicationpad': 439,\n",
       " 'arg': 440,\n",
       " 'output': 441,\n",
       " 'diag': 442,\n",
       " 'gruarg': 443,\n",
       " 'realarg': 444,\n",
       " 'bcewithlogitslossnan': 445,\n",
       " 'atan': 446,\n",
       " 'sparse': 447,\n",
       " 'entropy': 448,\n",
       " 'tanhshrinkarg': 449,\n",
       " 'preluarg': 450,\n",
       " 'floorarg': 451,\n",
       " 'logarg': 452,\n",
       " 'hidden': 453,\n",
       " 'bij': 454,\n",
       " 'unused': 455,\n",
       " 'swapaxesarg': 456,\n",
       " 'silunan': 457,\n",
       " 'stridedarg': 458,\n",
       " 'qrarg': 459,\n",
       " 'rand': 460,\n",
       " 'memory': 461,\n",
       " 'stacklevel': 462,\n",
       " 'dropout': 463,\n",
       " 'min': 464,\n",
       " 'int': 465,\n",
       " 'scatter': 466,\n",
       " 'ba': 467,\n",
       " 'atanarg': 468,\n",
       " 'return': 469,\n",
       " 'addarg': 470,\n",
       " 'clip': 471,\n",
       " 'eluarg': 472,\n",
       " 'instancenorm': 473,\n",
       " 'nonzeroarg': 474,\n",
       " 'upper': 475,\n",
       " 'logaddexparg': 476,\n",
       " 'local': 477,\n",
       " 'conv': 478,\n",
       " 'tanh': 479,\n",
       " 'argsortarg': 480,\n",
       " 'as': 481,\n",
       " 'softsignnan': 482,\n",
       " 'logitsarg': 483,\n",
       " 'eigarg': 484,\n",
       " 'fro': 485,\n",
       " 'tuple': 486,\n",
       " 'celunan': 487,\n",
       " 'marginrankinglossnan': 488,\n",
       " 'tensorsarg': 489,\n",
       " 'fullsize': 490,\n",
       " 'lossarg': 491,\n",
       " 'steps': 492,\n",
       " 'adaptivemaxpool': 493,\n",
       " 'cumprodarg': 494,\n",
       " 'selectarg': 495,\n",
       " 'lossnan': 496,\n",
       " 'eigenvectors': 497,\n",
       " 'exparg': 498,\n",
       " 'consecutivearg': 499,\n",
       " 'input': 500,\n",
       " 'swapdimsarg': 501,\n",
       " 'leaky': 502,\n",
       " 'inverse': 503,\n",
       " 'result': 504,\n",
       " 'reflect': 505,\n",
       " 'identityarg': 506,\n",
       " 'choleskyarg': 507}"
      ]
     },
     "execution_count": 37,
     "metadata": {},
     "output_type": "execute_result"
    }
   ],
   "source": [
    "word_index"
   ]
  },
  {
   "cell_type": "code",
   "execution_count": 38,
   "id": "59b4cbde",
   "metadata": {},
   "outputs": [],
   "source": [
    "data_ok = data.text.apply(lambda x: [word_index.get(word, 0) for word in x])"
   ]
  },
  {
   "cell_type": "code",
   "execution_count": 39,
   "id": "2c92da37",
   "metadata": {},
   "outputs": [
    {
     "data": {
      "text/plain": [
       "39"
      ]
     },
     "execution_count": 39,
     "metadata": {},
     "output_type": "execute_result"
    }
   ],
   "source": [
    "len(data_ok.iloc[2])"
   ]
  },
  {
   "cell_type": "code",
   "execution_count": 40,
   "id": "8958e3d4",
   "metadata": {},
   "outputs": [],
   "source": [
    "maxlen = max(len(x) for x in data_ok)"
   ]
  },
  {
   "cell_type": "code",
   "execution_count": 41,
   "id": "980c67a3",
   "metadata": {},
   "outputs": [
    {
     "data": {
      "text/plain": [
       "14262"
      ]
     },
     "execution_count": 41,
     "metadata": {},
     "output_type": "execute_result"
    }
   ],
   "source": [
    "maxlen"
   ]
  },
  {
   "cell_type": "code",
   "execution_count": 44,
   "id": "da5c5162",
   "metadata": {},
   "outputs": [],
   "source": [
    "data_ok = keras.preprocessing.sequence.pad_sequences(data_ok.values, maxlen=maxlen)"
   ]
  },
  {
   "cell_type": "code",
   "execution_count": 45,
   "id": "5c452521",
   "metadata": {},
   "outputs": [
    {
     "data": {
      "text/plain": [
       "(44143, 14262)"
      ]
     },
     "execution_count": 45,
     "metadata": {},
     "output_type": "execute_result"
    }
   ],
   "source": [
    "data_ok.shape"
   ]
  },
  {
   "cell_type": "code",
   "execution_count": 52,
   "id": "5ec12d9a",
   "metadata": {},
   "outputs": [
    {
     "ename": "AttributeError",
     "evalue": "'Series' object has no attribute 'review'",
     "output_type": "error",
     "traceback": [
      "\u001b[0;31m---------------------------------------------------------------------------\u001b[0m",
      "\u001b[0;31mAttributeError\u001b[0m                            Traceback (most recent call last)",
      "Cell \u001b[0;32mIn[52], line 1\u001b[0m\n\u001b[0;32m----> 1\u001b[0m \u001b[43my\u001b[49m\u001b[38;5;241;43m.\u001b[39;49m\u001b[43mreview\u001b[49m\u001b[38;5;241m.\u001b[39mvalues\n",
      "File \u001b[0;32m~/anaconda3/lib/python3.10/site-packages/pandas/core/generic.py:5902\u001b[0m, in \u001b[0;36mNDFrame.__getattr__\u001b[0;34m(self, name)\u001b[0m\n\u001b[1;32m   5895\u001b[0m \u001b[38;5;28;01mif\u001b[39;00m (\n\u001b[1;32m   5896\u001b[0m     name \u001b[38;5;129;01mnot\u001b[39;00m \u001b[38;5;129;01min\u001b[39;00m \u001b[38;5;28mself\u001b[39m\u001b[38;5;241m.\u001b[39m_internal_names_set\n\u001b[1;32m   5897\u001b[0m     \u001b[38;5;129;01mand\u001b[39;00m name \u001b[38;5;129;01mnot\u001b[39;00m \u001b[38;5;129;01min\u001b[39;00m \u001b[38;5;28mself\u001b[39m\u001b[38;5;241m.\u001b[39m_metadata\n\u001b[1;32m   5898\u001b[0m     \u001b[38;5;129;01mand\u001b[39;00m name \u001b[38;5;129;01mnot\u001b[39;00m \u001b[38;5;129;01min\u001b[39;00m \u001b[38;5;28mself\u001b[39m\u001b[38;5;241m.\u001b[39m_accessors\n\u001b[1;32m   5899\u001b[0m     \u001b[38;5;129;01mand\u001b[39;00m \u001b[38;5;28mself\u001b[39m\u001b[38;5;241m.\u001b[39m_info_axis\u001b[38;5;241m.\u001b[39m_can_hold_identifiers_and_holds_name(name)\n\u001b[1;32m   5900\u001b[0m ):\n\u001b[1;32m   5901\u001b[0m     \u001b[38;5;28;01mreturn\u001b[39;00m \u001b[38;5;28mself\u001b[39m[name]\n\u001b[0;32m-> 5902\u001b[0m \u001b[38;5;28;01mreturn\u001b[39;00m \u001b[38;5;28;43mobject\u001b[39;49m\u001b[38;5;241;43m.\u001b[39;49m\u001b[38;5;21;43m__getattribute__\u001b[39;49m\u001b[43m(\u001b[49m\u001b[38;5;28;43mself\u001b[39;49m\u001b[43m,\u001b[49m\u001b[43m \u001b[49m\u001b[43mname\u001b[49m\u001b[43m)\u001b[49m\n",
      "\u001b[0;31mAttributeError\u001b[0m: 'Series' object has no attribute 'review'"
     ]
    }
   ],
   "source": [
    "y.review.values"
   ]
  },
  {
   "cell_type": "code",
   "execution_count": 46,
   "id": "5f788639",
   "metadata": {},
   "outputs": [
    {
     "name": "stderr",
     "output_type": "stream",
     "text": [
      "2023-06-26 22:20:36.377249: I tensorflow/compiler/xla/stream_executor/cuda/cuda_gpu_executor.cc:996] successful NUMA node read from SysFS had negative value (-1), but there must be at least one NUMA node, so returning NUMA node zero. See more at https://github.com/torvalds/linux/blob/v6.0/Documentation/ABI/testing/sysfs-bus-pci#L344-L355\n",
      "2023-06-26 22:20:36.395984: I tensorflow/compiler/xla/stream_executor/cuda/cuda_gpu_executor.cc:996] successful NUMA node read from SysFS had negative value (-1), but there must be at least one NUMA node, so returning NUMA node zero. See more at https://github.com/torvalds/linux/blob/v6.0/Documentation/ABI/testing/sysfs-bus-pci#L344-L355\n",
      "2023-06-26 22:20:36.396079: I tensorflow/compiler/xla/stream_executor/cuda/cuda_gpu_executor.cc:996] successful NUMA node read from SysFS had negative value (-1), but there must be at least one NUMA node, so returning NUMA node zero. See more at https://github.com/torvalds/linux/blob/v6.0/Documentation/ABI/testing/sysfs-bus-pci#L344-L355\n",
      "2023-06-26 22:20:36.396767: I tensorflow/compiler/xla/stream_executor/cuda/cuda_gpu_executor.cc:996] successful NUMA node read from SysFS had negative value (-1), but there must be at least one NUMA node, so returning NUMA node zero. See more at https://github.com/torvalds/linux/blob/v6.0/Documentation/ABI/testing/sysfs-bus-pci#L344-L355\n",
      "2023-06-26 22:20:36.396837: I tensorflow/compiler/xla/stream_executor/cuda/cuda_gpu_executor.cc:996] successful NUMA node read from SysFS had negative value (-1), but there must be at least one NUMA node, so returning NUMA node zero. See more at https://github.com/torvalds/linux/blob/v6.0/Documentation/ABI/testing/sysfs-bus-pci#L344-L355\n",
      "2023-06-26 22:20:36.396880: I tensorflow/compiler/xla/stream_executor/cuda/cuda_gpu_executor.cc:996] successful NUMA node read from SysFS had negative value (-1), but there must be at least one NUMA node, so returning NUMA node zero. See more at https://github.com/torvalds/linux/blob/v6.0/Documentation/ABI/testing/sysfs-bus-pci#L344-L355\n",
      "2023-06-26 22:20:36.760691: I tensorflow/compiler/xla/stream_executor/cuda/cuda_gpu_executor.cc:996] successful NUMA node read from SysFS had negative value (-1), but there must be at least one NUMA node, so returning NUMA node zero. See more at https://github.com/torvalds/linux/blob/v6.0/Documentation/ABI/testing/sysfs-bus-pci#L344-L355\n",
      "2023-06-26 22:20:36.760799: I tensorflow/compiler/xla/stream_executor/cuda/cuda_gpu_executor.cc:996] successful NUMA node read from SysFS had negative value (-1), but there must be at least one NUMA node, so returning NUMA node zero. See more at https://github.com/torvalds/linux/blob/v6.0/Documentation/ABI/testing/sysfs-bus-pci#L344-L355\n",
      "2023-06-26 22:20:36.760848: I tensorflow/compiler/xla/stream_executor/cuda/cuda_gpu_executor.cc:996] successful NUMA node read from SysFS had negative value (-1), but there must be at least one NUMA node, so returning NUMA node zero. See more at https://github.com/torvalds/linux/blob/v6.0/Documentation/ABI/testing/sysfs-bus-pci#L344-L355\n",
      "2023-06-26 22:20:36.760893: I tensorflow/core/common_runtime/gpu/gpu_device.cc:1635] Created device /job:localhost/replica:0/task:0/device:GPU:0 with 7046 MB memory:  -> device: 0, name: NVIDIA GeForce RTX 3080, pci bus id: 0000:01:00.0, compute capability: 8.6\n"
     ]
    }
   ],
   "source": [
    "model = tf.keras.Sequential()"
   ]
  },
  {
   "cell_type": "code",
   "execution_count": 54,
   "id": "f7e08be4",
   "metadata": {},
   "outputs": [],
   "source": [
    "model = tf.keras.Sequential()\n",
    "model.add(tf.keras.layers.Embedding(max_word, 50, input_length=maxlen))\n",
    "model.add(tf.keras.layers.Conv1D(32, 7, activation='relu', padding='same'))\n",
    "model.add(tf.keras.layers.MaxPooling1D(3))\n",
    "model.add(tf.keras.layers.Conv1D(32, 7, activation='relu', padding='same'))\n",
    "model.add(tf.keras.layers.GlobalAveragePooling1D())\n",
    "model.add(tf.keras.layers.Dense(1, activation='sigmoid'))"
   ]
  },
  {
   "cell_type": "code",
   "execution_count": 55,
   "id": "01bbe590",
   "metadata": {
    "scrolled": false
   },
   "outputs": [
    {
     "name": "stdout",
     "output_type": "stream",
     "text": [
      "Model: \"sequential_3\"\n",
      "_________________________________________________________________\n",
      " Layer (type)                Output Shape              Param #   \n",
      "=================================================================\n",
      " embedding_1 (Embedding)     (None, 14262, 50)         25400     \n",
      "                                                                 \n",
      " conv1d_2 (Conv1D)           (None, 14262, 32)         11232     \n",
      "                                                                 \n",
      " max_pooling1d_1 (MaxPooling  (None, 4754, 32)         0         \n",
      " 1D)                                                             \n",
      "                                                                 \n",
      " conv1d_3 (Conv1D)           (None, 4754, 32)          7200      \n",
      "                                                                 \n",
      " global_average_pooling1d_1   (None, 32)               0         \n",
      " (GlobalAveragePooling1D)                                        \n",
      "                                                                 \n",
      " dense_1 (Dense)             (None, 1)                 33        \n",
      "                                                                 \n",
      "=================================================================\n",
      "Total params: 43,865\n",
      "Trainable params: 43,865\n",
      "Non-trainable params: 0\n",
      "_________________________________________________________________\n"
     ]
    }
   ],
   "source": [
    "model.summary()"
   ]
  },
  {
   "cell_type": "code",
   "execution_count": 56,
   "id": "48d70fe7",
   "metadata": {},
   "outputs": [],
   "source": [
    "model.compile(optimizer=keras.optimizers.RMSprop(),loss='binary_crossentropy',metrics=['acc'])#accuricy"
   ]
  },
  {
   "cell_type": "code",
   "execution_count": 57,
   "id": "4b44c714",
   "metadata": {},
   "outputs": [
    {
     "name": "stdout",
     "output_type": "stream",
     "text": [
      "Epoch 1/10\n",
      "276/276 [==============================] - 16s 57ms/step - loss: 0.1559 - acc: 0.9664 - val_loss: 0.1898 - val_acc: 0.9537\n",
      "Epoch 2/10\n",
      "276/276 [==============================] - 12s 43ms/step - loss: 0.1369 - acc: 0.9698 - val_loss: 0.1902 - val_acc: 0.9537\n",
      "Epoch 3/10\n",
      "276/276 [==============================] - 12s 42ms/step - loss: 0.1366 - acc: 0.9698 - val_loss: 0.1989 - val_acc: 0.9537\n",
      "Epoch 4/10\n",
      "276/276 [==============================] - 12s 42ms/step - loss: 0.1363 - acc: 0.9698 - val_loss: 0.1980 - val_acc: 0.9537\n",
      "Epoch 5/10\n",
      "276/276 [==============================] - 12s 42ms/step - loss: 0.1364 - acc: 0.9698 - val_loss: 0.1921 - val_acc: 0.9537\n",
      "Epoch 6/10\n",
      "276/276 [==============================] - 12s 43ms/step - loss: 0.1364 - acc: 0.9698 - val_loss: 0.1983 - val_acc: 0.9537\n",
      "Epoch 7/10\n",
      "276/276 [==============================] - 12s 42ms/step - loss: 0.1365 - acc: 0.9698 - val_loss: 0.1961 - val_acc: 0.9537\n",
      "Epoch 8/10\n",
      "276/276 [==============================] - 12s 42ms/step - loss: 0.1367 - acc: 0.9698 - val_loss: 0.1929 - val_acc: 0.9537\n",
      "Epoch 9/10\n",
      "276/276 [==============================] - 12s 42ms/step - loss: 0.1362 - acc: 0.9698 - val_loss: 0.1906 - val_acc: 0.9537\n",
      "Epoch 10/10\n",
      "276/276 [==============================] - 12s 42ms/step - loss: 0.1364 - acc: 0.9698 - val_loss: 0.1899 - val_acc: 0.9537\n"
     ]
    }
   ],
   "source": [
    "history=model.fit(data_ok,y,epochs=10, batch_size=128, validation_split=0.2)"
   ]
  },
  {
   "cell_type": "code",
   "execution_count": 58,
   "id": "fd383ef4",
   "metadata": {},
   "outputs": [
    {
     "data": {
      "text/plain": [
       "dict_keys(['loss', 'acc', 'val_loss', 'val_acc'])"
      ]
     },
     "execution_count": 58,
     "metadata": {},
     "output_type": "execute_result"
    }
   ],
   "source": [
    "history.history.keys()"
   ]
  },
  {
   "cell_type": "code",
   "execution_count": 59,
   "id": "c96bfd3d",
   "metadata": {},
   "outputs": [
    {
     "data": {
      "text/plain": [
       "[<matplotlib.lines.Line2D at 0x7f718e669b40>]"
      ]
     },
     "execution_count": 59,
     "metadata": {},
     "output_type": "execute_result"
    },
    {
     "data": {
      "image/png": "[encoded data removed]",
      "text/plain": [
       "<Figure size 640x480 with 1 Axes>"
      ]
     },
     "metadata": {},
     "output_type": "display_data"
    }
   ],
   "source": [
    "plt.plot(history.epoch,history.history.get('loss'))"
   ]
  },
  {
   "cell_type": "code",
   "execution_count": 60,
   "id": "71bc9690",
   "metadata": {},
   "outputs": [
    {
     "data": {
      "text/plain": [
       "<bound method Model.evaluate of <keras.engine.sequential.Sequential object at 0x7f7193a8fa30>>"
      ]
     },
     "execution_count": 60,
     "metadata": {},
     "output_type": "execute_result"
    }
   ],
   "source": [
    "model.evaluate"
   ]
  },
  {
   "cell_type": "code",
   "execution_count": null,
   "id": "5e657616",
   "metadata": {},
   "outputs": [],
   "source": [
    "#for test data"
   ]
  },
  {
   "cell_type": "code",
   "execution_count": null,
   "id": "c4c2903e",
   "metadata": {},
   "outputs": [],
   "source": [
    "test_data=pd.read_csv('./torch-testdata.csv')"
   ]
  }
 ],
 "metadata": {
  "kernelspec": {
   "display_name": "Python 3 (ipykernel)",
   "language": "python",
   "name": "python3"
  },
  "language_info": {
   "codemirror_mode": {
    "name": "ipython",
    "version": 3
   },
   "file_extension": ".py",
   "mimetype": "text/x-python",
   "name": "python",
   "nbconvert_exporter": "python",
   "pygments_lexer": "ipython3",
   "version": "3.8.16"
  }
 },
 "nbformat": 4,
 "nbformat_minor": 5
}
