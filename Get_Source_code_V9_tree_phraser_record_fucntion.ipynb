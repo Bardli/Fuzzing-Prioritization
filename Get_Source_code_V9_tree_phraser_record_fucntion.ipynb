{
 "cells": [
  {
   "cell_type": "code",
   "execution_count": null,
   "id": "589df72b",
   "metadata": {},
   "outputs": [],
   "source": [
    "'''\n",
    "To use the phraser we need build the tool first\n",
    "\n",
    "git clone https://github.com/tree-sitter/tree-sitter-c.git\n",
    "\n",
    "git clone https://github.com/tree-sitter/tree-sitter-cpp.git\n",
    "\n",
    "git clone https://github.com/tree-sitter/tree-sitter-python.git\n",
    "\n",
    "\n",
    "'''"
   ]
  },
  {
   "cell_type": "code",
   "execution_count": 1,
   "id": "e5f6c0b1",
   "metadata": {},
   "outputs": [],
   "source": [
    "import os\n",
    "import json\n",
    "from tree_sitter import Language, Parser\n",
    "\n",
    "# Load the languages\n",
    "Language.build_library(\n",
    "  'build/experimental-phraser.so',\n",
    "  ['tree-sitter-c', 'tree-sitter-cpp', 'tree-sitter-python']\n",
    ")\n",
    "\n",
    "C_LANGUAGE = Language('build/experimental-phraser.so', 'c')\n",
    "CPP_LANGUAGE = Language('build/experimental-phraser.so', 'cpp')\n",
    "PYTHON_LANGUAGE = Language('build/experimental-phraser.so', 'python')"
   ]
  },
  {
   "cell_type": "code",
   "execution_count": 7,
   "id": "a614584b",
   "metadata": {},
   "outputs": [],
   "source": [
    "def extract_info_c_def(file_path, language):\n",
    "    with open(file_path, 'r') as file:\n",
    "        code = file.read().encode('utf-8')\n",
    "    parser = Parser()\n",
    "    parser.set_language(language)\n",
    "    tree = parser.parse(code)\n",
    "\n",
    "    query_string = \"\"\"\n",
    "    (\n",
    "        function_declarator\n",
    "        declarator: (identifier) @function.def\n",
    "    )\n",
    "\n",
    "    (\n",
    "        struct_specifier\n",
    "        name: (type_identifier) @struct.def\n",
    "    )\n",
    "    \"\"\"\n",
    "    query = language.query(query_string)\n",
    "    captures = query.captures(tree.root_node)\n",
    "\n",
    "    functions = [{'name': code[node.start_byte:node.end_byte].decode(), 'definition': code[node.parent.parent.start_byte:node.parent.parent.end_byte].decode()} for node, capture in captures if capture == 'function.def']\n",
    "    structs = [{'name': code[node.start_byte:node.end_byte].decode(), 'definition': code[node.parent.start_byte:node.parent.end_byte].decode()} for node, capture in captures if capture == 'struct.def']\n",
    "\n",
    "    return {'file_path': file_path, 'functions': functions, 'structs': structs}\n",
    "\n"
   ]
  },
  {
   "cell_type": "code",
   "execution_count": 3,
   "id": "76c09708",
   "metadata": {},
   "outputs": [],
   "source": [
    "def extract_info_cpp_def(file_path, language):\n",
    "    with open(file_path, 'r') as file:\n",
    "        code = file.read().encode('utf-8')\n",
    "    parser = Parser()\n",
    "    parser.set_language(language)\n",
    "    tree = parser.parse(code)\n",
    "\n",
    "    query_string = \"\"\"\n",
    "    (\n",
    "        function_declarator\n",
    "        declarator: (identifier) @function.def\n",
    "    )\n",
    "\n",
    "    (\n",
    "        class_specifier\n",
    "        name: (type_identifier) @class.def\n",
    "    )\n",
    "    \"\"\"\n",
    "    query = language.query(query_string)\n",
    "    captures = query.captures(tree.root_node)\n",
    "\n",
    "    functions = [{'name': code[node.start_byte:node.end_byte].decode(), 'definition': code[node.parent.parent.start_byte:node.parent.parent.end_byte].decode()} for node, capture in captures if capture == 'function.def']\n",
    "    structs = [{'name': code[node.start_byte:node.end_byte].decode(), 'definition': code[node.parent.start_byte:node.parent.end_byte].decode()} for node, capture in captures if capture == 'class.def']\n",
    "\n",
    "    return {'file_path': file_path, 'functions': functions, 'structs': structs}\n"
   ]
  },
  {
   "cell_type": "code",
   "execution_count": 4,
   "id": "2aa6355f",
   "metadata": {},
   "outputs": [],
   "source": [
    "def extract_info_py_def(file_path, language):\n",
    "    with open(file_path, 'r') as file:\n",
    "        code = file.read().encode('utf-8')\n",
    "    parser = Parser()\n",
    "    parser.set_language(language)\n",
    "    tree = parser.parse(code)\n",
    "\n",
    "    query_string = \"\"\"\n",
    "    (\n",
    "        function_definition\n",
    "        name: (identifier) @function.def\n",
    "    )\n",
    "\n",
    "    (\n",
    "        class_definition\n",
    "        name: (identifier) @class.def\n",
    "    )\n",
    "    \"\"\"\n",
    "    query = language.query(query_string)\n",
    "    captures = query.captures(tree.root_node)\n",
    "\n",
    "    functions = [{'name': code[node.start_byte:node.end_byte].decode(), 'definition': code[node.parent.start_byte:node.parent.end_byte].decode()} for node, capture in captures if capture == 'function.def']\n",
    "    classes = [{'name': code[node.start_byte:node.end_byte].decode(), 'definition': code[node.parent.start_byte:node.parent.end_byte].decode()} for node, capture in captures if capture == 'class.def']\n",
    "\n",
    "    return {'file_path': file_path, 'functions': functions, 'structs': classes}\n"
   ]
  },
  {
   "cell_type": "code",
   "execution_count": 5,
   "id": "44bafb2e",
   "metadata": {},
   "outputs": [],
   "source": [
    "def record_code_elements(root_dir):\n",
    "    data = []\n",
    "\n",
    "    for dir_name, sub_dirs, files in os.walk(root_dir):\n",
    "        for file in files:\n",
    "            if file.endswith('.c'):\n",
    "                info = extract_info_c_def(os.path.join(dir_name, file), C_LANGUAGE)\n",
    "                if info:\n",
    "                    data.append(info)\n",
    "            elif file.endswith('.cpp'):\n",
    "                info = extract_info_cpp_def(os.path.join(dir_name, file), CPP_LANGUAGE)\n",
    "                if info:\n",
    "                    data.append(info)\n",
    "            elif file.endswith('.py'):\n",
    "                info = extract_info_py_def(os.path.join(dir_name, file), PYTHON_LANGUAGE)\n",
    "                if info:\n",
    "                    data.append(info)\n",
    "\n",
    "    with open('code_elements_tree_phraser_with_code.json', 'w') as f:\n",
    "        json.dump(data, f, indent=4)\n"
   ]
  },
  {
   "cell_type": "code",
   "execution_count": 8,
   "id": "dc22deef",
   "metadata": {},
   "outputs": [],
   "source": [
    "record_code_elements('../pytorch')"
   ]
  },
  {
   "cell_type": "code",
   "execution_count": null,
   "id": "114d4fa8",
   "metadata": {},
   "outputs": [],
   "source": []
  }
 ],
 "metadata": {
  "kernelspec": {
   "display_name": "Python 3 (ipykernel)",
   "language": "python",
   "name": "python3"
  },
  "language_info": {
   "codemirror_mode": {
    "name": "ipython",
    "version": 3
   },
   "file_extension": ".py",
   "mimetype": "text/x-python",
   "name": "python",
   "nbconvert_exporter": "python",
   "pygments_lexer": "ipython3",
   "version": "3.10.9"
  }
 },
 "nbformat": 4,
 "nbformat_minor": 5
}
