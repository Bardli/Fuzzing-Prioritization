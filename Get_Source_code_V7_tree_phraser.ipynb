{
 "cells": [
  {
   "cell_type": "code",
   "execution_count": null,
   "id": "8bfe4018",
   "metadata": {},
   "outputs": [],
   "source": [
    "'''\n",
    "To use the phraser we need build the tool first\n",
    "\n",
    "git clone https://github.com/tree-sitter/tree-sitter-c.git\n",
    "\n",
    "git clone https://github.com/tree-sitter/tree-sitter-cpp.git\n",
    "\n",
    "git clone https://github.com/tree-sitter/tree-sitter-python.git\n",
    "\n",
    "\n",
    "'''"
   ]
  },
  {
   "cell_type": "code",
   "execution_count": 24,
   "id": "c27b41dd",
   "metadata": {},
   "outputs": [],
   "source": [
    "import os\n",
    "import json\n",
    "from tree_sitter import Language, Parser\n",
    "\n",
    "# Load the languages\n",
    "Language.build_library(\n",
    "  'build/experimental-phraser.so',\n",
    "  ['tree-sitter-c', 'tree-sitter-cpp', 'tree-sitter-python']\n",
    ")\n",
    "\n",
    "C_LANGUAGE = Language('build/experimental-phraser.so', 'c')\n",
    "CPP_LANGUAGE = Language('build/experimental-phraser.so', 'cpp')\n",
    "PYTHON_LANGUAGE = Language('build/experimental-phraser.so', 'python')\n",
    "\n",
    "def extract_info(file_path, language):\n",
    "    with open(file_path, 'r', encoding='utf-8') as f:\n",
    "        code = f.read()\n",
    "\n",
    "    parser = Parser()\n",
    "    parser.set_language(language)\n",
    "\n",
    "    tree = parser.parse(bytes(code, \"utf8\"))\n",
    "\n",
    "    # Get the root node of the syntax tree\n",
    "    root_node = tree.root_node\n",
    "\n",
    "    functions = []\n",
    "    classes = []\n",
    "\n",
    "    # Use tree traversal to get the function and class names\n",
    "    for child in root_node.children:\n",
    "        if child.type == 'function_definition':\n",
    "            # The function name is the first child of the function definition\n",
    "            functions.append(child['function_declarator']['identifier'])\n",
    "        elif child.type in ['class_specifier', 'class_definition']:\n",
    "            # The class name is the first child of the class specifier or definition\n",
    "            classes.append(code[child.children[1].start_byte:child.children[1].end_byte])\n",
    "\n",
    "    return {\n",
    "        'file_path': file_path,\n",
    "        'functions': functions,\n",
    "        'classes': classes\n",
    "    }\n"
   ]
  },
  {
   "cell_type": "code",
   "execution_count": 25,
   "id": "6313698e",
   "metadata": {},
   "outputs": [],
   "source": [
    "def record_code_elements(root_dir):\n",
    "    data = []\n",
    "\n",
    "    for dir_name, sub_dirs, files in os.walk(root_dir):\n",
    "        for file in files:\n",
    "            if file.endswith('.c'):\n",
    "                info = extract_info(os.path.join(dir_name, file), C_LANGUAGE)\n",
    "                if info:\n",
    "                    data.append(info)\n",
    "            elif file.endswith('.cpp'):\n",
    "                info = extract_info(os.path.join(dir_name, file), CPP_LANGUAGE)\n",
    "                if info:\n",
    "                    data.append(info)\n",
    "            elif file.endswith('.py'):\n",
    "                info = extract_info(os.path.join(dir_name, file), PYTHON_LANGUAGE)\n",
    "                if info:\n",
    "                    data.append(info)\n",
    "\n",
    "    with open('code_elements_tree_phraser.json', 'w') as f:\n",
    "        json.dump(data, f, indent=4)\n"
   ]
  },
  {
   "cell_type": "code",
   "execution_count": 26,
   "id": "c8b0a59e",
   "metadata": {},
   "outputs": [
    {
     "ename": "TypeError",
     "evalue": "'tree_sitter.Node' object is not subscriptable",
     "output_type": "error",
     "traceback": [
      "\u001b[0;31m---------------------------------------------------------------------------\u001b[0m",
      "\u001b[0;31mTypeError\u001b[0m                                 Traceback (most recent call last)",
      "Cell \u001b[0;32mIn[26], line 1\u001b[0m\n\u001b[0;32m----> 1\u001b[0m \u001b[43mrecord_code_elements\u001b[49m\u001b[43m(\u001b[49m\u001b[38;5;124;43m'\u001b[39;49m\u001b[38;5;124;43m../pytorch\u001b[39;49m\u001b[38;5;124;43m'\u001b[39;49m\u001b[43m)\u001b[49m\n",
      "Cell \u001b[0;32mIn[25], line 15\u001b[0m, in \u001b[0;36mrecord_code_elements\u001b[0;34m(root_dir)\u001b[0m\n\u001b[1;32m     13\u001b[0m         data\u001b[38;5;241m.\u001b[39mappend(info)\n\u001b[1;32m     14\u001b[0m \u001b[38;5;28;01melif\u001b[39;00m file\u001b[38;5;241m.\u001b[39mendswith(\u001b[38;5;124m'\u001b[39m\u001b[38;5;124m.py\u001b[39m\u001b[38;5;124m'\u001b[39m):\n\u001b[0;32m---> 15\u001b[0m     info \u001b[38;5;241m=\u001b[39m \u001b[43mextract_info\u001b[49m\u001b[43m(\u001b[49m\u001b[43mos\u001b[49m\u001b[38;5;241;43m.\u001b[39;49m\u001b[43mpath\u001b[49m\u001b[38;5;241;43m.\u001b[39;49m\u001b[43mjoin\u001b[49m\u001b[43m(\u001b[49m\u001b[43mdir_name\u001b[49m\u001b[43m,\u001b[49m\u001b[43m \u001b[49m\u001b[43mfile\u001b[49m\u001b[43m)\u001b[49m\u001b[43m,\u001b[49m\u001b[43m \u001b[49m\u001b[43mPYTHON_LANGUAGE\u001b[49m\u001b[43m)\u001b[49m\n\u001b[1;32m     16\u001b[0m     \u001b[38;5;28;01mif\u001b[39;00m info:\n\u001b[1;32m     17\u001b[0m         data\u001b[38;5;241m.\u001b[39mappend(info)\n",
      "Cell \u001b[0;32mIn[24], line 34\u001b[0m, in \u001b[0;36mextract_info\u001b[0;34m(file_path, language)\u001b[0m\n\u001b[1;32m     31\u001b[0m \u001b[38;5;28;01mfor\u001b[39;00m child \u001b[38;5;129;01min\u001b[39;00m root_node\u001b[38;5;241m.\u001b[39mchildren:\n\u001b[1;32m     32\u001b[0m     \u001b[38;5;28;01mif\u001b[39;00m child\u001b[38;5;241m.\u001b[39mtype \u001b[38;5;241m==\u001b[39m \u001b[38;5;124m'\u001b[39m\u001b[38;5;124mfunction_definition\u001b[39m\u001b[38;5;124m'\u001b[39m:\n\u001b[1;32m     33\u001b[0m         \u001b[38;5;66;03m# The function name is the first child of the function definition\u001b[39;00m\n\u001b[0;32m---> 34\u001b[0m         functions\u001b[38;5;241m.\u001b[39mappend(\u001b[43mchild\u001b[49m\u001b[43m[\u001b[49m\u001b[38;5;124;43m'\u001b[39;49m\u001b[38;5;124;43mfunction_declarator\u001b[39;49m\u001b[38;5;124;43m'\u001b[39;49m\u001b[43m]\u001b[49m[\u001b[38;5;124m'\u001b[39m\u001b[38;5;124midentifier\u001b[39m\u001b[38;5;124m'\u001b[39m])\n\u001b[1;32m     35\u001b[0m     \u001b[38;5;28;01melif\u001b[39;00m child\u001b[38;5;241m.\u001b[39mtype \u001b[38;5;129;01min\u001b[39;00m [\u001b[38;5;124m'\u001b[39m\u001b[38;5;124mclass_specifier\u001b[39m\u001b[38;5;124m'\u001b[39m, \u001b[38;5;124m'\u001b[39m\u001b[38;5;124mclass_definition\u001b[39m\u001b[38;5;124m'\u001b[39m]:\n\u001b[1;32m     36\u001b[0m         \u001b[38;5;66;03m# The class name is the first child of the class specifier or definition\u001b[39;00m\n\u001b[1;32m     37\u001b[0m         classes\u001b[38;5;241m.\u001b[39mappend(code[child\u001b[38;5;241m.\u001b[39mchildren[\u001b[38;5;241m1\u001b[39m]\u001b[38;5;241m.\u001b[39mstart_byte:child\u001b[38;5;241m.\u001b[39mchildren[\u001b[38;5;241m1\u001b[39m]\u001b[38;5;241m.\u001b[39mend_byte])\n",
      "\u001b[0;31mTypeError\u001b[0m: 'tree_sitter.Node' object is not subscriptable"
     ]
    }
   ],
   "source": [
    "record_code_elements('../pytorch')"
   ]
  },
  {
   "cell_type": "code",
   "execution_count": null,
   "id": "07b5b353",
   "metadata": {},
   "outputs": [],
   "source": []
  }
 ],
 "metadata": {
  "kernelspec": {
   "display_name": "Python 3 (ipykernel)",
   "language": "python",
   "name": "python3"
  },
  "language_info": {
   "codemirror_mode": {
    "name": "ipython",
    "version": 3
   },
   "file_extension": ".py",
   "mimetype": "text/x-python",
   "name": "python",
   "nbconvert_exporter": "python",
   "pygments_lexer": "ipython3",
   "version": "3.10.9"
  }
 },
 "nbformat": 4,
 "nbformat_minor": 5
}
