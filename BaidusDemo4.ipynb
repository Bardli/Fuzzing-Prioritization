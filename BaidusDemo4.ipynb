{
 "cells": [
  {
   "cell_type": "code",
   "execution_count": 1,
   "id": "67e13bed",
   "metadata": {},
   "outputs": [],
   "source": [
    "import pandas as pd\n",
    "import numpy as np\n",
    "from sklearn.model_selection import train_test_split\n",
    "from imblearn.over_sampling import SMOTE\n",
    "from sklearn.feature_extraction.text import TfidfVectorizer\n",
    "from sklearn.preprocessing import LabelEncoder\n",
    "from sklearn.preprocessing import MinMaxScaler\n",
    "import sklearn.preprocessing\n",
    "#OrdinalEncoder could be used\n",
    "\n",
    "# Assuming data is in a csv file\n",
    "data = pd.read_csv(\"new_torch_balenced_data.csv\")\n",
    "api_list=pd.read_csv(\"FreeFuzz_torch_API_list.csv\")\n",
    "#api_list=pd.read_csv(\"FreeFuzz_torch_API_list.csv\")\n",
    "# Convert API names and parameters to string if not already\n",
    "data[\"API Name\"] = data[\"API Name\"].astype(str)\n",
    "data[\"Parameters\"] = data[\"Parameters\"].astype(str)\n",
    "api_list[\"API Name\"]=api_list[\"API Name\"].astype(str)\n",
    "#api_list[\"API Name\"]=api_list[\"API Name\"].astype(str)\n",
    "# Initialize TF-IDF vectorizer and Label Encoder\n",
    "tfidf = TfidfVectorizer(max_features=1000)\n",
    "le = LabelEncoder()\n",
    "# Define the MinMaxScaler\n",
    "scaler = MinMaxScaler()\n",
    "\n",
    "# Encode API names\n",
    "#api_names_encoded = le.fit_transform(data[\"API Name\"])\n",
    "dictionary = le.fit_transform(api_list[\"API Name\"])\n",
    "api_names_encoded=le.transform(data[\"API Name\"])\n",
    "\n",
    "# Reshape the encoded API names to 2D array\n",
    "api_names_encoded = api_names_encoded.reshape(-1, 1)\n",
    "\n",
    "# Fit and transform the encoded API names with MinMaxScaler\n",
    "api_names_normalized = scaler.fit_transform(api_names_encoded)\n",
    "\n",
    "\n",
    "# Convert them back to 1D\n",
    "#api_names_normalized = api_names_normalized.flatten()\n",
    "\n",
    "# Convert parameters into TF-IDF vectors\n",
    "parameters_tfidf = tfidf.fit_transform(data[\"Parameters\"])\n",
    "\n",
    "# Combine the encoded API names and TF-IDF parameter vectors\n",
    "X = np.concatenate((api_names_normalized, parameters_tfidf.toarray()), axis=1)\n",
    "\n",
    "# Convert labels into binary format\n",
    "y = data[\"Label\"].map({'bug': 1, 'success': 0})\n",
    "\n",
    "# Split data into training and testing sets\n",
    "X_train, X_test, y_train, y_test = train_test_split(X, y, test_size=0.2, random_state=42)\n",
    "\n",
    "# Perform SMOTE\n",
    "smote = SMOTE(random_state=42)\n",
    "X_train_smote, y_train_smote = smote.fit_resample(X_train, y_train)\n"
   ]
  },
  {
   "cell_type": "code",
   "execution_count": 36,
   "id": "881980d9",
   "metadata": {},
   "outputs": [
    {
     "name": "stdout",
     "output_type": "stream",
     "text": [
      "MinMaxScaler()\n"
     ]
    }
   ],
   "source": [
    "print(api_names_encoded_normed)"
   ]
  },
  {
   "cell_type": "code",
   "execution_count": 2,
   "id": "318a549c",
   "metadata": {},
   "outputs": [
    {
     "name": "stderr",
     "output_type": "stream",
     "text": [
      "2023-07-10 12:33:28.321033: I tensorflow/core/util/port.cc:110] oneDNN custom operations are on. You may see slightly different numerical results due to floating-point round-off errors from different computation orders. To turn them off, set the environment variable `TF_ENABLE_ONEDNN_OPTS=0`.\n",
      "2023-07-10 12:33:28.665635: I tensorflow/core/platform/cpu_feature_guard.cc:182] This TensorFlow binary is optimized to use available CPU instructions in performance-critical operations.\n",
      "To enable the following instructions: AVX2 AVX_VNNI FMA, in other operations, rebuild TensorFlow with the appropriate compiler flags.\n",
      "2023-07-10 12:33:29.409814: W tensorflow/compiler/tf2tensorrt/utils/py_utils.cc:38] TF-TRT Warning: Could not find TensorRT\n"
     ]
    }
   ],
   "source": [
    "from tensorflow.keras import backend as K\n",
    "\n",
    "# F1 Score\n",
    "def f1_score(y_true, y_pred):\n",
    "    true_positives = K.sum(K.round(K.clip(y_true * y_pred, 0, 1)))\n",
    "    possible_positives = K.sum(K.round(K.clip(y_true, 0, 1)))\n",
    "    predicted_positives = K.sum(K.round(K.clip(y_pred, 0, 1)))\n",
    "    precision = true_positives / (predicted_positives + K.epsilon())\n",
    "    recall = true_positives / (possible_positives + K.epsilon())\n",
    "    f1_val = 2*(precision*recall)/(precision+recall+K.epsilon())\n",
    "    return f1_val"
   ]
  },
  {
   "cell_type": "code",
   "execution_count": 42,
   "id": "8d363cdb",
   "metadata": {},
   "outputs": [
    {
     "name": "stdout",
     "output_type": "stream",
     "text": [
      "0.8347639484978541 0.0 0.0 0.0 0.0 0.0 0.0 0.0 0.0 0.0 0.0 0.0 0.0 0.0 0.0 0.0 0.0 0.0 0.0 0.0 0.0 0.0 0.0 0.0 0.0 0.0 0.0 0.0 0.0 0.0 0.0 0.0 0.0 0.0 0.0 0.0 0.0 0.0 0.0 0.0 0.0 0.0 0.0 0.0 0.0 0.0 0.0 0.0 0.0 0.0 0.0 0.0 0.0 0.0 0.0 0.0 0.0 0.0 0.0 0.0 0.0 0.0 0.0 0.0 0.0 0.0 0.0 0.0 0.0 0.0 0.0 0.0 0.0 0.0 0.0 0.0 0.0 0.0 0.0 0.0 0.0 0.0 0.0 0.0 0.0 0.0 0.0 0.0 0.0 0.0 0.0 0.0 0.0 0.0 0.0 0.0 0.0 0.0 0.0 0.0 0.0 0.0 0.0 0.0 0.0 0.0 0.0 0.0 0.0 0.0 0.0 0.0 0.0 0.0 0.0 0.0 0.0 0.0 0.0 0.0 0.0 0.0 0.0 0.0 0.0 0.0 0.0 0.0 0.0 0.0 0.0 0.0 0.0 0.0 0.0 0.0 0.0 0.0 0.0 0.0 0.0 0.0 0.0 0.0 0.0 0.0 0.0 0.0 0.0 0.0 0.0 0.0 0.0 0.0 0.0 0.0 0.0 0.0 0.0 0.0 0.0 0.0 0.0 0.0 0.0 0.0 0.0 0.0 0.0 0.0 0.0 0.0 0.0 0.0 0.0 0.0 0.0 0.0 0.0 0.7483270487092359 0.0 0.0 0.0 0.0 0.0 0.0 0.0 0.0 0.0 0.0 0.0 0.0 0.0 0.0 0.0 0.0 0.0 0.0 0.0 0.0 0.0 0.0 0.0 0.0 0.0 0.0 0.0 0.0 0.0 0.0 0.0 0.0 0.0 0.0 0.0 0.0 0.0 0.0 0.0 0.0 0.0 0.0 0.0 0.0 0.0 0.0 0.0 0.0 0.0 0.0 0.0 0.0 0.0 0.0 0.0 0.0 0.0 0.0 0.0 0.0 0.0 0.0 0.0 0.0 0.0 0.0 0.0 0.0 0.0 0.0 0.0 0.0 0.0 0.0 0.0 0.0 0.0 0.0 0.0 0.0 0.0 0.0 0.0 0.0 0.0 0.0 0.0 0.0 0.0 0.0 0.0 0.0 0.0 0.0 0.0 0.0 0.0 0.0 0.0 0.0 0.0 0.0 0.0 0.0 0.0 0.0 0.0 0.0 0.0 0.0 0.0 0.0 0.0 0.0 0.0 0.0 0.0 0.0 0.13716799114459743 0.0 0.0 0.0 0.0 0.0 0.0 0.0 0.0 0.0 0.0 0.0 0.0 0.0 0.0 0.0 0.0 0.0 0.0 0.0 0.0 0.0 0.0 0.0 0.0 0.0 0.0 0.0 0.0 0.0 0.0 0.0 0.0 0.0 0.0 0.0 0.0 0.0 0.0 0.0 0.0 0.0 0.0 0.0 0.0 0.0 0.0 0.0 0.0 0.0 0.0 0.0 0.0 0.0 0.0 0.0 0.0 0.0 0.0 0.0 0.0 0.0 0.0 0.0 0.0 0.0 0.0 0.0 0.0 0.0 0.0 0.0 0.0 0.0 0.0 0.0 0.0 0.0 0.0 0.0 0.0 0.0 0.0 0.0 0.0 0.0 0.0 0.0 0.0 0.0 0.0 0.0 0.0 0.0 0.0 0.0 0.0 0.0 0.0 0.0 0.0 0.0 0.0 0.0 0.0 0.0 0.0 0.0 0.0 0.0 0.0 0.0 0.0 0.0 0.0 0.0 0.0 0.0 0.0 0.0 0.0 0.0 0.0 0.0 0.0 0.0 0.0 0.0 0.0 0.0 0.0 0.0 0.0 0.0 0.0 0.0 0.0 0.0 0.0 0.0 0.0 0.0 0.0 0.0 0.0 0.0 0.0 0.0 0.0 0.0 0.0 0.0 0.0 0.0 0.0 0.0 0.0 0.0 0.0 0.0 0.0 0.0 0.0 0.0 0.0 0.0 0.0 0.3638737496855368 0.0 0.0 0.0 0.0 0.0 0.0 0.0 0.0 0.0 0.0 0.0 0.0 0.0 0.0 0.0 0.0 0.0 0.0 0.0 0.0 0.0 0.0 0.0 0.0 0.0 0.0 0.0 0.0 0.0 0.0 0.0 0.0 0.0 0.0 0.0 0.0 0.0 0.0 0.0 0.0 0.0 0.0 0.0 0.0 0.0 0.0 0.0 0.0 0.0 0.0 0.0 0.0 0.0 0.0 0.0 0.0 0.0 0.0 0.0 0.0 0.0 0.0 0.0 0.0 0.0 0.0 0.0 0.0 0.0 0.0 0.0 0.0 0.0 0.0 0.0 0.0 0.0 0.0 0.0 0.0 0.0 0.0 0.0 0.0 0.0 0.0 0.0 0.0 0.0 0.0 0.0 0.0 0.0 0.0 0.0 0.0 0.0 0.0 0.0 0.0 0.0 0.0 0.0 0.0 0.0 0.0 0.0 0.0 0.0 0.0 0.0 0.0 0.0 0.0 0.0 0.0 0.0 0.0 0.0 0.0 0.0 0.0 0.0 0.0 0.0 0.0 0.0 0.0 0.0 0.0 0.0 0.0 0.0 0.0 0.0 0.0 0.0 0.0 0.0 0.0 0.0 0.0 0.0 0.0 0.0 0.0 0.0 0.0 0.0 0.0 0.0 0.0 0.0 0.0 0.0 0.0 0.0 0.0 0.0 0.17190825942828028 0.0 0.0 0.0 0.0 0.0 0.0 0.0 0.0 0.0 0.0 0.0 0.0 0.0 0.0 0.0 0.16170523303235082 0.0 0.0 0.0 0.0 0.0 0.0 0.31277084263707816 0.0 0.0 0.0 0.0 0.0 0.0 0.0 0.0 0.0 0.0 0.0 0.0 0.0 0.0 0.0 0.0 0.0 0.0 0.0 0.0 0.0 0.0 0.0 0.0 0.0 0.0 0.0 0.0 0.17511853999923735 0.0 0.0 0.0 0.0 0.0 0.0 0.0 0.0 0.0 0.0 0.0 0.0 0.0 0.0 0.0 0.0 0.0 0.0 0.0 0.0 0.0 0.0 0.0 0.0 0.0 0.0 0.0 0.32341046606470164 0.0 0.0 0.0 0.0 0.0 0.0\n"
     ]
    }
   ],
   "source": [
    "print(*X_train[0])"
   ]
  },
  {
   "cell_type": "code",
   "execution_count": 29,
   "id": "04bb8918",
   "metadata": {},
   "outputs": [
    {
     "name": "stdout",
     "output_type": "stream",
     "text": [
      "1 0 0 1 0 1 1 1 0 1 0 1 0 1 0 0 0 0 1 0 1 0 1 1 1 1 0 1 0 0 0 1 0 1 1 0 1 1 1 1 0 0 1 0 1 0 0 0 1 1 0 0 0 1 1 1 1 0 1 0 0 1 1 1 0 1 1 1 0 0 1 0 1 1 0 1 1 1 0 0 0 0 1 1 0 0 0 0 0 1 0 0 0 1 1 0 1 0 1 1 1 1 1 0 0 1 0 0 0 0 0 1 1 0 0 0 0 0 0 0 1 1 0 1 0 0 1 1 1 1 0 0 0 0 0 0 0 1 0 0 0 1 1 1 0 0 0 1 1 1 0 1 1 0 0 0 0 1 1 1 0 0 0 1 0 1 1 1 1 1 1 0 0 0 0 1 1 1 1 0 1 0 1 0 0 1 0 1 0 0 1 0 1 0 1 0 1 0 0 1 1 0 0 0 0 1 0 0 1 1 1 1 0 0 0 1 0 0 1 1 0 1 1 0 1 0 1 1 1 1 1 0 1 1 1 0 1 0 1 1 0 0 0 1 1 1 1 0 0 0 1 0 0 1 0 1 1 0 1 0 1 1 1 0 0 1 1 0 0 1 0 1 1 0 0 0 0 0 0 1 0 1 0 1 1 1 0 1 1 1 0 1 1 1 1 0 0 0 0 1 0 1 0 0 1 0 0 0 0 1 1 1 1 0 1 1 0 1 0 1 1 1 0 1 1 0 1 1 1 1 1 0 0 0 1 1 1 1 1 0 1 1 0 0 0 0 1 1 0 0 0 1 1 0 0 1 0 1 1 0 1 1 1 0 0 0 1 1 1 1 0 1 0 0 0 1 0 1 1 1 1 1 1 0 0 0 0 0 1 1 0 0 0 1 0 0 1 0 0 1 0 0 0 1 1 1 0 0 0 1 0 0 1 1 1 0 0 0 1 1 1 0 1 0 1 0 1 0 0 1 1 0 1 0 0 0 1 1 0 0 1 0 0 0 1 1 0 0 1 0 0 1 0 0 0 1 1 0 0 0 0 0 0 0 1 1 0 1 1 1 0 1 0 0 0 0 1 1 0 0 1 0 1 0 1 1 0 0 1 1 0 0 1 1 1 1 0 1 0 1 1 0 0 1 1 0 0 1 0 0 0 0 0 0 1 0 0 0 1 0 0 1 0 0 0 0 0 1 0 0 0 1 1 0 1 1 1 1 0 0 0 1 1 1 0 1 0 0 0 0 1 1 0 1 0 1 1 0 0 1 0 1 0 1 1 0 1 0 0 1 0 1 1 1 0 0 1 0 1 1 0 1 0 0 0 0 0 1 1 0 1 1 0 0 1 0 0 1 1 0 0 1 0 1 0 1 0 0 1 0 1 0 1 0 0 1 1 0 1 0 1 0 1 1 0 1 1 1 1 0 0 0 1 1 1 1 1 0 1 1 1 0 1 1 0 1 0 0 0 1 1 1 0 1 1 1 1 0 0 1 0 1 0 0 0 1 1 0 1 1 0 1 0 1 0 0 1 0 1 0 0 0 1 0 0 0 0 1 0 0 0 1 1 0 1 0 0 0 1 0 1 0 0 1 1 0 1 1 0 0 1 1 0 0 1 1 1 0 0 1 1 0 1 0 0 1 0 0 1 1 1 1 0 0 0 0 0 1 0 1 1 1 0 1 0 1 0 0 0 1 0 0 1 0 0 1 1 0 0 0 0 0 0 0 1 1 1 1 0 0 1 0 1 1 0 0 1 1 1 1 0 0 1 0 1 0 1 0 0 1 0 1 1 1 0 0 1 0 0 0 1 1 0 1 0 1 1 1 1 0 1 0 0 0 1 0 1 1 1 0 1 1 0 1 1 1 0 0 1 0 1 1 0 0 0 1 0 0 1 1 1 0 0 1 0 0 0 0 0 1 1 0 1 1 0 1 0 1 1 0 1 1 0 1 0 0 1 1 1 0 1 1 1 1 0 0 1 0 1 1 1 1 1 1 1 0 1 0 0 0 0 0 0 0 0 0 0 1 0 1 1 0 0 1 1 1 1 0 1 0 0 0 0 1 1 0 1 0 1 1 0 1 0 1 0 0 1 0 0 1 1 1 0 0 1 1 1 1 1 0 1 1 0 0 1 1 0 1 0 1 0 0 0 1 1 0 1 1 0 0 0 0 0 0 1 1 1 1 1 1 1 1 0 1 0 1 1 0 1 0 0 0 1 1 0 0 1 1 1 0 1 1 1 1 0 0 1 0 0 1 0 1 0 1 1 0 1 1 0 1 1 1 0 1 0 1 0 0 1 0 1 0 1 1 0 1 1 1 0 1 1 1 1 1 1 1 0 0 0 1 1\n"
     ]
    }
   ],
   "source": [
    "print(*y_train)"
   ]
  },
  {
   "cell_type": "code",
   "execution_count": 5,
   "id": "14949fad",
   "metadata": {},
   "outputs": [
    {
     "name": "stdout",
     "output_type": "stream",
     "text": [
      "0       1\n",
      "1       0\n",
      "2       0\n",
      "3       1\n",
      "4       0\n",
      "       ..\n",
      "1037    0\n",
      "1038    0\n",
      "1039    1\n",
      "1040    1\n",
      "1041    0\n",
      "Name: Label, Length: 1042, dtype: int64\n"
     ]
    }
   ],
   "source": [
    "print(y_train_smote)"
   ]
  },
  {
   "cell_type": "code",
   "execution_count": 3,
   "id": "2cd43329",
   "metadata": {},
   "outputs": [
    {
     "name": "stderr",
     "output_type": "stream",
     "text": [
      "2023-07-10 12:33:33.682182: I tensorflow/compiler/xla/stream_executor/cuda/cuda_gpu_executor.cc:996] successful NUMA node read from SysFS had negative value (-1), but there must be at least one NUMA node, so returning NUMA node zero. See more at https://github.com/torvalds/linux/blob/v6.0/Documentation/ABI/testing/sysfs-bus-pci#L344-L355\n",
      "2023-07-10 12:33:34.079684: I tensorflow/compiler/xla/stream_executor/cuda/cuda_gpu_executor.cc:996] successful NUMA node read from SysFS had negative value (-1), but there must be at least one NUMA node, so returning NUMA node zero. See more at https://github.com/torvalds/linux/blob/v6.0/Documentation/ABI/testing/sysfs-bus-pci#L344-L355\n",
      "2023-07-10 12:33:34.079795: I tensorflow/compiler/xla/stream_executor/cuda/cuda_gpu_executor.cc:996] successful NUMA node read from SysFS had negative value (-1), but there must be at least one NUMA node, so returning NUMA node zero. See more at https://github.com/torvalds/linux/blob/v6.0/Documentation/ABI/testing/sysfs-bus-pci#L344-L355\n",
      "2023-07-10 12:33:34.080498: I tensorflow/compiler/xla/stream_executor/cuda/cuda_gpu_executor.cc:996] successful NUMA node read from SysFS had negative value (-1), but there must be at least one NUMA node, so returning NUMA node zero. See more at https://github.com/torvalds/linux/blob/v6.0/Documentation/ABI/testing/sysfs-bus-pci#L344-L355\n",
      "2023-07-10 12:33:34.080576: I tensorflow/compiler/xla/stream_executor/cuda/cuda_gpu_executor.cc:996] successful NUMA node read from SysFS had negative value (-1), but there must be at least one NUMA node, so returning NUMA node zero. See more at https://github.com/torvalds/linux/blob/v6.0/Documentation/ABI/testing/sysfs-bus-pci#L344-L355\n",
      "2023-07-10 12:33:34.080623: I tensorflow/compiler/xla/stream_executor/cuda/cuda_gpu_executor.cc:996] successful NUMA node read from SysFS had negative value (-1), but there must be at least one NUMA node, so returning NUMA node zero. See more at https://github.com/torvalds/linux/blob/v6.0/Documentation/ABI/testing/sysfs-bus-pci#L344-L355\n",
      "2023-07-10 12:33:35.020244: I tensorflow/compiler/xla/stream_executor/cuda/cuda_gpu_executor.cc:996] successful NUMA node read from SysFS had negative value (-1), but there must be at least one NUMA node, so returning NUMA node zero. See more at https://github.com/torvalds/linux/blob/v6.0/Documentation/ABI/testing/sysfs-bus-pci#L344-L355\n",
      "2023-07-10 12:33:35.020395: I tensorflow/compiler/xla/stream_executor/cuda/cuda_gpu_executor.cc:996] successful NUMA node read from SysFS had negative value (-1), but there must be at least one NUMA node, so returning NUMA node zero. See more at https://github.com/torvalds/linux/blob/v6.0/Documentation/ABI/testing/sysfs-bus-pci#L344-L355\n",
      "2023-07-10 12:33:35.020497: I tensorflow/compiler/xla/stream_executor/cuda/cuda_gpu_executor.cc:996] successful NUMA node read from SysFS had negative value (-1), but there must be at least one NUMA node, so returning NUMA node zero. See more at https://github.com/torvalds/linux/blob/v6.0/Documentation/ABI/testing/sysfs-bus-pci#L344-L355\n",
      "2023-07-10 12:33:35.020578: I tensorflow/core/common_runtime/gpu/gpu_device.cc:1635] Created device /job:localhost/replica:0/task:0/device:GPU:0 with 7294 MB memory:  -> device: 0, name: NVIDIA GeForce RTX 3080, pci bus id: 0000:01:00.0, compute capability: 8.6\n"
     ]
    },
    {
     "name": "stdout",
     "output_type": "stream",
     "text": [
      "Epoch 1/30\n"
     ]
    },
    {
     "name": "stderr",
     "output_type": "stream",
     "text": [
      "2023-07-10 12:33:36.951189: I tensorflow/compiler/xla/stream_executor/cuda/cuda_blas.cc:637] TensorFloat-32 will be used for the matrix multiplication. This will only be logged once.\n",
      "2023-07-10 12:33:37.000952: I tensorflow/compiler/xla/service/service.cc:169] XLA service 0x7fcc9c015690 initialized for platform CUDA (this does not guarantee that XLA will be used). Devices:\n",
      "2023-07-10 12:33:37.000963: I tensorflow/compiler/xla/service/service.cc:177]   StreamExecutor device (0): NVIDIA GeForce RTX 3080, Compute Capability 8.6\n",
      "2023-07-10 12:33:37.045692: I tensorflow/compiler/mlir/tensorflow/utils/dump_mlir_util.cc:269] disabling MLIR crash reproducer, set env var `MLIR_CRASH_REPRODUCER_DIRECTORY` to enable.\n",
      "2023-07-10 12:33:38.742553: I tensorflow/compiler/xla/stream_executor/cuda/cuda_dnn.cc:424] Loaded cuDNN version 8902\n",
      "2023-07-10 12:33:39.017837: I ./tensorflow/compiler/jit/device_compiler.h:180] Compiled cluster using XLA!  This line is logged at most once for the lifetime of the process.\n"
     ]
    },
    {
     "name": "stdout",
     "output_type": "stream",
     "text": [
      "33/33 [==============================] - 4s 5ms/step - loss: 0.6806 - precision: 0.5675 - recall: 0.7908 - f1_score: 0.6542 - val_loss: 0.6637 - val_precision: 0.6200 - val_recall: 0.9538 - val_f1_score: 0.7380\n",
      "Epoch 2/30\n",
      "33/33 [==============================] - 0s 2ms/step - loss: 0.6415 - precision: 0.6714 - recall: 0.8234 - f1_score: 0.7338 - val_loss: 0.6102 - val_precision: 0.7303 - val_recall: 0.8538 - val_f1_score: 0.7448\n",
      "Epoch 3/30\n",
      "33/33 [==============================] - 0s 2ms/step - loss: 0.5664 - precision: 0.7483 - recall: 0.8215 - f1_score: 0.7800 - val_loss: 0.5178 - val_precision: 0.7635 - val_recall: 0.8692 - val_f1_score: 0.7749\n",
      "Epoch 4/30\n",
      "33/33 [==============================] - 0s 2ms/step - loss: 0.4869 - precision: 0.7672 - recall: 0.8541 - f1_score: 0.8070 - val_loss: 0.4762 - val_precision: 0.7956 - val_recall: 0.8385 - val_f1_score: 0.7786\n",
      "Epoch 5/30\n",
      "33/33 [==============================] - 0s 2ms/step - loss: 0.4389 - precision: 0.7996 - recall: 0.8349 - f1_score: 0.8145 - val_loss: 0.4620 - val_precision: 0.7786 - val_recall: 0.8385 - val_f1_score: 0.7702\n",
      "Epoch 6/30\n",
      "33/33 [==============================] - 0s 2ms/step - loss: 0.4097 - precision: 0.8053 - recall: 0.8733 - f1_score: 0.8361 - val_loss: 0.4412 - val_precision: 0.7887 - val_recall: 0.8615 - val_f1_score: 0.7862\n",
      "Epoch 7/30\n",
      "33/33 [==============================] - 0s 2ms/step - loss: 0.3710 - precision: 0.8271 - recall: 0.8906 - f1_score: 0.8555 - val_loss: 0.4438 - val_precision: 0.7868 - val_recall: 0.8231 - val_f1_score: 0.7690\n",
      "Epoch 8/30\n",
      "33/33 [==============================] - 0s 2ms/step - loss: 0.3613 - precision: 0.8292 - recall: 0.8944 - f1_score: 0.8577 - val_loss: 0.4525 - val_precision: 0.7660 - val_recall: 0.8308 - val_f1_score: 0.7620\n",
      "Epoch 9/30\n",
      "33/33 [==============================] - 0s 2ms/step - loss: 0.3387 - precision: 0.8537 - recall: 0.8964 - f1_score: 0.8687 - val_loss: 0.4532 - val_precision: 0.7516 - val_recall: 0.8846 - val_f1_score: 0.8036\n",
      "Epoch 10/30\n",
      "33/33 [==============================] - 0s 2ms/step - loss: 0.3165 - precision: 0.8486 - recall: 0.9040 - f1_score: 0.8746 - val_loss: 0.4590 - val_precision: 0.7500 - val_recall: 0.8538 - val_f1_score: 0.7915\n",
      "Epoch 11/30\n",
      "33/33 [==============================] - 0s 2ms/step - loss: 0.3082 - precision: 0.8623 - recall: 0.9251 - f1_score: 0.8896 - val_loss: 0.4569 - val_precision: 0.7537 - val_recall: 0.7769 - val_f1_score: 0.7334\n",
      "Epoch 12/30\n",
      "33/33 [==============================] - 0s 2ms/step - loss: 0.2855 - precision: 0.8669 - recall: 0.9251 - f1_score: 0.8917 - val_loss: 0.4604 - val_precision: 0.7727 - val_recall: 0.7846 - val_f1_score: 0.7442\n",
      "Epoch 13/30\n",
      "33/33 [==============================] - 0s 2ms/step - loss: 0.2772 - precision: 0.8723 - recall: 0.9309 - f1_score: 0.8959 - val_loss: 0.4703 - val_precision: 0.7612 - val_recall: 0.7846 - val_f1_score: 0.7399\n",
      "Epoch 14/30\n",
      "33/33 [==============================] - 0s 2ms/step - loss: 0.2621 - precision: 0.8826 - recall: 0.9232 - f1_score: 0.9012 - val_loss: 0.4833 - val_precision: 0.7857 - val_recall: 0.7615 - val_f1_score: 0.7389\n",
      "Epoch 15/30\n",
      "33/33 [==============================] - 0s 2ms/step - loss: 0.2614 - precision: 0.8784 - recall: 0.9290 - f1_score: 0.8991 - val_loss: 0.4895 - val_precision: 0.7812 - val_recall: 0.7692 - val_f1_score: 0.7406\n",
      "Epoch 16/30\n",
      "33/33 [==============================] - 0s 2ms/step - loss: 0.2381 - precision: 0.8911 - recall: 0.9424 - f1_score: 0.9174 - val_loss: 0.4913 - val_precision: 0.7744 - val_recall: 0.7923 - val_f1_score: 0.7498\n",
      "Epoch 17/30\n",
      "33/33 [==============================] - 0s 2ms/step - loss: 0.2262 - precision: 0.9077 - recall: 0.9443 - f1_score: 0.9269 - val_loss: 0.5008 - val_precision: 0.7727 - val_recall: 0.7846 - val_f1_score: 0.7451\n",
      "Epoch 18/30\n",
      "33/33 [==============================] - 0s 2ms/step - loss: 0.2300 - precision: 0.8949 - recall: 0.9482 - f1_score: 0.9144 - val_loss: 0.5149 - val_precision: 0.7778 - val_recall: 0.8077 - val_f1_score: 0.7865\n",
      "Epoch 19/30\n",
      "33/33 [==============================] - 0s 2ms/step - loss: 0.2197 - precision: 0.9048 - recall: 0.9482 - f1_score: 0.9234 - val_loss: 0.5401 - val_precision: 0.7609 - val_recall: 0.8077 - val_f1_score: 0.7790\n",
      "Epoch 20/30\n",
      "33/33 [==============================] - 0s 2ms/step - loss: 0.2179 - precision: 0.9031 - recall: 0.9482 - f1_score: 0.9246 - val_loss: 0.5315 - val_precision: 0.7622 - val_recall: 0.8385 - val_f1_score: 0.7907\n",
      "Epoch 21/30\n",
      "33/33 [==============================] - 0s 2ms/step - loss: 0.2091 - precision: 0.9101 - recall: 0.9520 - f1_score: 0.9268 - val_loss: 0.5420 - val_precision: 0.7769 - val_recall: 0.7769 - val_f1_score: 0.7442\n",
      "Epoch 22/30\n",
      "33/33 [==============================] - 0s 2ms/step - loss: 0.1981 - precision: 0.9145 - recall: 0.9443 - f1_score: 0.9279 - val_loss: 0.5607 - val_precision: 0.7383 - val_recall: 0.8462 - val_f1_score: 0.7813\n",
      "Epoch 23/30\n",
      "33/33 [==============================] - 0s 2ms/step - loss: 0.2024 - precision: 0.9004 - recall: 0.9539 - f1_score: 0.9235 - val_loss: 0.5471 - val_precision: 0.7744 - val_recall: 0.7923 - val_f1_score: 0.7776\n",
      "Epoch 24/30\n",
      "33/33 [==============================] - 0s 2ms/step - loss: 0.1820 - precision: 0.9153 - recall: 0.9539 - f1_score: 0.9303 - val_loss: 0.5789 - val_precision: 0.7552 - val_recall: 0.8308 - val_f1_score: 0.7844\n",
      "Epoch 25/30\n",
      "33/33 [==============================] - 0s 2ms/step - loss: 0.1868 - precision: 0.9234 - recall: 0.9482 - f1_score: 0.9314 - val_loss: 0.5715 - val_precision: 0.7500 - val_recall: 0.8308 - val_f1_score: 0.7815\n",
      "Epoch 26/30\n",
      "33/33 [==============================] - 0s 2ms/step - loss: 0.1801 - precision: 0.9193 - recall: 0.9616 - f1_score: 0.9388 - val_loss: 0.5864 - val_precision: 0.7554 - val_recall: 0.8077 - val_f1_score: 0.7761\n",
      "Epoch 27/30\n",
      "33/33 [==============================] - 0s 2ms/step - loss: 0.1706 - precision: 0.9258 - recall: 0.9578 - f1_score: 0.9401 - val_loss: 0.6044 - val_precision: 0.7681 - val_recall: 0.8154 - val_f1_score: 0.7851\n",
      "Epoch 28/30\n",
      "33/33 [==============================] - 0s 2ms/step - loss: 0.1854 - precision: 0.9173 - recall: 0.9578 - f1_score: 0.9362 - val_loss: 0.5947 - val_precision: 0.7737 - val_recall: 0.8154 - val_f1_score: 0.7874\n",
      "Epoch 29/30\n",
      "33/33 [==============================] - 0s 2ms/step - loss: 0.1718 - precision: 0.9276 - recall: 0.9597 - f1_score: 0.9407 - val_loss: 0.6343 - val_precision: 0.7466 - val_recall: 0.8385 - val_f1_score: 0.7831\n",
      "Epoch 30/30\n",
      "33/33 [==============================] - 0s 2ms/step - loss: 0.1627 - precision: 0.9266 - recall: 0.9693 - f1_score: 0.9444 - val_loss: 0.6366 - val_precision: 0.7589 - val_recall: 0.8231 - val_f1_score: 0.7833\n"
     ]
    }
   ],
   "source": [
    "import tensorflow as tf\n",
    "\n",
    "# Model Architecture\n",
    "model = tf.keras.models.Sequential([\n",
    "    tf.keras.layers.Dense(128, activation='relu', input_dim=X_train_smote.shape[1]),\n",
    "    tf.keras.layers.Dropout(0.5),\n",
    "    tf.keras.layers.Dense(64, activation='relu'),\n",
    "    tf.keras.layers.Dropout(0.5),\n",
    "    tf.keras.layers.Dense(1, activation='sigmoid')\n",
    "])\n",
    "# Early stopping callback\n",
    "early_stopping = tf.keras.callbacks.EarlyStopping(\n",
    "    monitor='val_recall', \n",
    "    verbose=1,\n",
    "    patience=10,\n",
    "    mode='max',\n",
    "    restore_best_weights=True)\n",
    "\n",
    "# Compile the Model\n",
    "model.compile(optimizer='adam',\n",
    "              loss='binary_crossentropy',\n",
    "              metrics=[tf.keras.metrics.Precision(), tf.keras.metrics.Recall(), f1_score])\n",
    "\n",
    "# Train the Model\n",
    "history = model.fit(\n",
    "    X_train_smote, y_train_smote, \n",
    "    epochs=30, \n",
    "    batch_size=32, \n",
    "    validation_data=(X_test, y_test))"
   ]
  },
  {
   "cell_type": "code",
   "execution_count": 4,
   "id": "0ffcaccb",
   "metadata": {},
   "outputs": [
    {
     "data": {
      "text/plain": [
       "dict_keys(['loss', 'precision', 'recall', 'f1_score', 'val_loss', 'val_precision', 'val_recall', 'val_f1_score'])"
      ]
     },
     "execution_count": 4,
     "metadata": {},
     "output_type": "execute_result"
    }
   ],
   "source": [
    "history.history.keys()"
   ]
  },
  {
   "cell_type": "code",
   "execution_count": 6,
   "id": "cae0e1be",
   "metadata": {},
   "outputs": [],
   "source": [
    "import matplotlib.pyplot as plt"
   ]
  },
  {
   "cell_type": "code",
   "execution_count": 7,
   "id": "ef34e8c9",
   "metadata": {
    "scrolled": true
   },
   "outputs": [
    {
     "data": {
      "text/plain": [
       "[<matplotlib.lines.Line2D at 0x7fcd5c1c6b00>]"
      ]
     },
     "execution_count": 7,
     "metadata": {},
     "output_type": "execute_result"
    },
    {
     "data": {
      "image/png": "[encoded data removed]",
      "text/plain": [
       "<Figure size 640x480 with 1 Axes>"
      ]
     },
     "metadata": {},
     "output_type": "display_data"
    }
   ],
   "source": [
    "plt.plot(history.epoch,history.history.get('val_recall'))"
   ]
  },
  {
   "cell_type": "code",
   "execution_count": 8,
   "id": "4bf8a6ab",
   "metadata": {},
   "outputs": [
    {
     "name": "stdout",
     "output_type": "stream",
     "text": [
      "389/389 [==============================] - 0s 399us/step\n"
     ]
    }
   ],
   "source": [
    "# Read new data from a csv file\n",
    "new_data = pd.read_csv(\"torch_seed_data.csv\")\n",
    "\n",
    "# Ensure API names and parameters are strings\n",
    "new_data[\"API Name\"] = new_data[\"API Name\"].astype(str)\n",
    "new_data[\"Parameters\"] = new_data[\"Parameters\"].astype(str)\n",
    "\n",
    "# Perform the same preprocessing steps as before\n",
    "new_data_tfidf = tfidf.transform(new_data[\"Parameters\"]).toarray()\n",
    "new_api_names_encoded = le.transform(new_data[\"API Name\"])\n",
    "\n",
    "# Reshape the encoded API names to 2D array\n",
    "new_api_names_encoded = new_api_names_encoded.reshape(-1, 1)\n",
    "\n",
    "# Fit and transform the encoded API names with MinMaxScaler\n",
    "api_names_normalized = scaler.transform(new_api_names_encoded)\n",
    "\n",
    "\n",
    "X_new = np.concatenate((api_names_normalized, new_data_tfidf), axis=1)\n",
    "\n",
    "# Predict the labels\n",
    "predictions = model.predict(X_new)\n",
    "new_data[\"Potential\"]=predictions\n",
    "# Convert the probabilities to class labels\n",
    "#predictions_labels = (predictions > 0.5).astype(int)\n",
    "\n",
    "# Add the predictions to the new_data DataFrame\n",
    "#new_data[\"Label_model\"] = [\"success\" if element == 0 else \"bug\" for element in predictions_labels]\n",
    "\n",
    "# Write the DataFrame with the predictions to a new csv file\n",
    "new_data.to_csv(\"torch_seed_data_predicted.csv\", index=False)\n"
   ]
  },
  {
   "cell_type": "code",
   "execution_count": null,
   "id": "ba3642e3",
   "metadata": {},
   "outputs": [],
   "source": []
  }
 ],
 "metadata": {
  "kernelspec": {
   "display_name": "Python 3 (ipykernel)",
   "language": "python",
   "name": "python3"
  },
  "language_info": {
   "codemirror_mode": {
    "name": "ipython",
    "version": 3
   },
   "file_extension": ".py",
   "mimetype": "text/x-python",
   "name": "python",
   "nbconvert_exporter": "python",
   "pygments_lexer": "ipython3",
   "version": "3.10.9"
  }
 },
 "nbformat": 4,
 "nbformat_minor": 5
}
