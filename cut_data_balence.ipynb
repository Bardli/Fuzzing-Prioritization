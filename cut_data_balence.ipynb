{
 "cells": [
  {
   "cell_type": "code",
   "execution_count": 1,
   "id": "17e623da",
   "metadata": {},
   "outputs": [],
   "source": [
    "import pandas as pd\n",
    "\n",
    "# Read the existing CSV file into a DataFrame\n",
    "data = pd.read_csv('torch-v1.8.0.csv')"
   ]
  },
  {
   "cell_type": "code",
   "execution_count": 2,
   "id": "3cf09c6a",
   "metadata": {},
   "outputs": [],
   "source": [
    "# Split the data based on labels\n",
    "success_data = data[data['Label'] == 'success']\n",
    "bug_data = data[data['Label'] == 'bug']"
   ]
  },
  {
   "cell_type": "code",
   "execution_count": 3,
   "id": "7f185c1e",
   "metadata": {},
   "outputs": [],
   "source": [
    "# Determine the smaller subset size to ensure equal sampling\n",
    "sample_size = min(len(success_data), len(bug_data))\n",
    "\n",
    "# Randomly sample equal sizes from both subsets\n",
    "success_samples = success_data.sample(n=sample_size)\n",
    "bug_samples = bug_data.sample(n=sample_size)\n"
   ]
  },
  {
   "cell_type": "code",
   "execution_count": 4,
   "id": "1b57cf96",
   "metadata": {},
   "outputs": [],
   "source": [
    "# Concatenate the sampled subsets\n",
    "new_data = pd.concat([success_samples, bug_samples])"
   ]
  },
  {
   "cell_type": "code",
   "execution_count": 5,
   "id": "d0329f21",
   "metadata": {},
   "outputs": [
    {
     "data": {
      "text/plain": [
       "success    651\n",
       "bug        651\n",
       "Name: Label, dtype: int64"
      ]
     },
     "execution_count": 5,
     "metadata": {},
     "output_type": "execute_result"
    }
   ],
   "source": [
    "new_data.iloc[:,-1].value_counts()"
   ]
  },
  {
   "cell_type": "code",
   "execution_count": 6,
   "id": "8bd0449c",
   "metadata": {},
   "outputs": [],
   "source": [
    "new_data = new_data.sample(frac=1).reset_index(drop=True)# shuffle all data"
   ]
  },
  {
   "cell_type": "code",
   "execution_count": 7,
   "id": "29830813",
   "metadata": {},
   "outputs": [],
   "source": [
    "# Save the new dataset to a CSV file\n",
    "new_data.to_csv('new_torch_balenced_data.csv', index=False)"
   ]
  },
  {
   "cell_type": "code",
   "execution_count": null,
   "id": "b202902a",
   "metadata": {},
   "outputs": [],
   "source": []
  }
 ],
 "metadata": {
  "kernelspec": {
   "display_name": "Python 3 (ipykernel)",
   "language": "python",
   "name": "python3"
  },
  "language_info": {
   "codemirror_mode": {
    "name": "ipython",
    "version": 3
   },
   "file_extension": ".py",
   "mimetype": "text/x-python",
   "name": "python",
   "nbconvert_exporter": "python",
   "pygments_lexer": "ipython3",
   "version": "3.10.9"
  }
 },
 "nbformat": 4,
 "nbformat_minor": 5
}
