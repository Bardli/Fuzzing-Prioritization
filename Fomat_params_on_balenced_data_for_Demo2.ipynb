{
 "cells": [
  {
   "cell_type": "code",
   "execution_count": 3,
   "id": "17552863",
   "metadata": {},
   "outputs": [],
   "source": [
    "import pandas as pd\n",
    "import numpy as np\n",
    "\n",
    "# Step 1: Load the dataset\n",
    "csv_file_path = 'balenced_torch_data.csv'\n",
    "api_data = pd.read_csv(csv_file_path)\n",
    "\n",
    "# Step 2: Format the 'Parameters' column\n",
    "def format_parameters(param_string):\n",
    "    if isinstance(param_string, str):\n",
    "        # Assuming 'Parameters' column contains a single string with newline-separated key-value pairs\n",
    "        param_lines = param_string.strip().split('\\n')\n",
    "        param_dict = {}\n",
    "        for line in param_lines:\n",
    "            try:\n",
    "                key, value = line.split('=')\n",
    "                param_dict[key.strip()] = value.strip()\n",
    "            except ValueError:\n",
    "                # Handle lines that do not adhere to the expected format\n",
    "                # You can choose to skip these lines or handle them differently\n",
    "                pass\n",
    "\n",
    "        return str(param_dict)  # Convert the dictionary to a string representation\n",
    "    \n",
    "    # Return NaN for float values or non-string values\n",
    "    return np.nan\n",
    "\n",
    "api_data['Parameters'] = api_data['Parameters'].apply(format_parameters)\n",
    "\n",
    "# Step 3: Save the formatted data to a new CSV file\n",
    "output_csv_file_path = 'balenced_formatted_torch_data.csv'\n",
    "api_data.to_csv(output_csv_file_path, index=False)\n"
   ]
  },
  {
   "cell_type": "code",
   "execution_count": null,
   "id": "9602316e",
   "metadata": {},
   "outputs": [],
   "source": []
  }
 ],
 "metadata": {
  "kernelspec": {
   "display_name": "Python 3 (ipykernel)",
   "language": "python",
   "name": "python3"
  },
  "language_info": {
   "codemirror_mode": {
    "name": "ipython",
    "version": 3
   },
   "file_extension": ".py",
   "mimetype": "text/x-python",
   "name": "python",
   "nbconvert_exporter": "python",
   "pygments_lexer": "ipython3",
   "version": "3.10.9"
  }
 },
 "nbformat": 4,
 "nbformat_minor": 5
}
