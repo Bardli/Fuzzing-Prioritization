{
 "cells": [
  {
   "cell_type": "code",
   "execution_count": 18,
   "id": "afb5b3e1",
   "metadata": {},
   "outputs": [],
   "source": [
    "from pymongo import MongoClient# Connect to MongoDB\n",
    "import pandas as pd"
   ]
  },
  {
   "cell_type": "code",
   "execution_count": 21,
   "id": "06b24424",
   "metadata": {},
   "outputs": [],
   "source": [
    "client = MongoClient('mongodb://localhost:27017')\n",
    "\n",
    "# Access your database\n",
    "db = client['freefuzz-torch']\n",
    "\n",
    "# Get the list of collection names\n",
    "collection_names = db.list_collection_names()\n",
    "df=pd.read_csv('torch_balenced_Demo3_labelled_test_data.csv')            "
   ]
  },
  {
   "cell_type": "code",
   "execution_count": 23,
   "id": "e6712016",
   "metadata": {},
   "outputs": [],
   "source": [
    "#filter all buggy apis\n",
    "buggy_seed=df[df['Label']=='bug']"
   ]
  },
  {
   "cell_type": "code",
   "execution_count": 24,
   "id": "e8b5e0a9",
   "metadata": {},
   "outputs": [],
   "source": [
    "# Extract the collection names as a list\n",
    "useful_collections = buggy_seed['API Name'].tolist()\n",
    "useful_seeds=buggy_seed['Seed'].tolist()\n",
    "useful_collections.append('argVS')\n",
    "useful_collections.append('signature')\n",
    "useful_collections.append('similarity')\n",
    "\n"
   ]
  },
  {
   "cell_type": "code",
   "execution_count": 25,
   "id": "d460edd2",
   "metadata": {},
   "outputs": [],
   "source": [
    "for collection_name in collection_names:\n",
    "    if collection_name not in useful_collections:\n",
    "        db[collection_name].drop()\n",
    "    else:\n",
    "        if collection_name in ['argVS','signature','similarity']:\n",
    "            continue\n",
    "        #the api is keep\n",
    "        for document_name in db[collection_name].find({}):\n",
    "            if str(document_name[\"_id\"]) not in useful_seeds:\n",
    "                deleted=db[collection_name].find_one_and_delete({'_id':document_name[\"_id\"]})\n",
    "                #print(deleted,\"/n\",\"has been deleted\",\"/n\")"
   ]
  },
  {
   "cell_type": "code",
   "execution_count": null,
   "id": "10109f1c",
   "metadata": {},
   "outputs": [],
   "source": []
  }
 ],
 "metadata": {
  "kernelspec": {
   "display_name": "Python 3 (ipykernel)",
   "language": "python",
   "name": "python3"
  },
  "language_info": {
   "codemirror_mode": {
    "name": "ipython",
    "version": 3
   },
   "file_extension": ".py",
   "mimetype": "text/x-python",
   "name": "python",
   "nbconvert_exporter": "python",
   "pygments_lexer": "ipython3",
   "version": "3.10.9"
  }
 },
 "nbformat": 4,
 "nbformat_minor": 5
}
