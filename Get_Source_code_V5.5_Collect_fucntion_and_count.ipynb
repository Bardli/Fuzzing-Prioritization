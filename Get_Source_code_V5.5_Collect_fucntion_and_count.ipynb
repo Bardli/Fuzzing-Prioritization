{
 "cells": [
  {
   "cell_type": "code",
   "execution_count": 1,
   "id": "b5dbebd7",
   "metadata": {},
   "outputs": [],
   "source": [
    "import ast\n",
    "import os\n",
    "import json\n",
    "\n",
    "def record_python_elements(root_dir):\n",
    "    data = []\n",
    "\n",
    "    for dir_name, sub_dirs, files in os.walk(root_dir):\n",
    "        for file in files:\n",
    "            if file.endswith('.py'):\n",
    "                file_path = os.path.join(dir_name, file)\n",
    "                    function_name = 'isfinite'\n",
    "    matches = search_function_in_json(function_name)\n",
    "    if matches:\n",
    "        print(f'Found {len(matches)} matches for \"{function_name}\":')\n",
    "        for match in matches:\n",
    "            print(f'Function name: {match[\"function_name\"]}, found in the file: {match[\"file_path\"]}')\n",
    "    else:\n",
    "        print(f'No matches for \"{function_name}\" were found.') as source:\n",
    "                    try:\n",
    "                        tree = ast.parse(source.read())\n",
    "                    except SyntaxError as e:\n",
    "                        print(f\"Syntax error in {file_path}: {e}\")\n",
    "                        continue\n",
    "\n",
    "                    functions = [node.name for node in ast.walk(tree) if isinstance(node, ast.FunctionDef)]\n",
    "                    classes = [node.name for node in ast.walk(tree) if isinstance(node, ast.ClassDef)]\n",
    "\n",
    "                    if functions or classes:\n",
    "                        data.append({\n",
    "                            'file_path': file_path,\n",
    "                            'functions': functions,\n",
    "                            'classes': classes\n",
    "                        })\n",
    "\n",
    "    with open('python_elements.json', 'w') as f:\n",
    "        json.dump(data, f, indent=4)"
   ]
  },
  {
   "cell_type": "code",
   "execution_count": 2,
   "id": "41aab902",
   "metadata": {},
   "outputs": [],
   "source": [
    "record_python_elements('../pytorch/torch')"
   ]
  },
  {
   "cell_type": "code",
   "execution_count": 1,
   "id": "eab8ffe0",
   "metadata": {},
   "outputs": [],
   "source": [
    "import json\n",
    "\n",
    "def search_function_in_json(function_name, json_file='code_elements.json'):\n",
    "    with open(json_file, 'r') as f:\n",
    "        data = json.load(f)\n",
    "\n",
    "    matches = []\n",
    "\n",
    "    for item in data:\n",
    "        for func in item['functions']:\n",
    "            if function_name in func:\n",
    "                matches.append({\n",
    "                    'file_path': item['file_path'],\n",
    "                    'function_name': func\n",
    "                })\n",
    "\n",
    "    return matches"
   ]
  },
  {
   "cell_type": "code",
   "execution_count": 2,
   "id": "39499b5c",
   "metadata": {},
   "outputs": [
    {
     "name": "stdout",
     "output_type": "stream",
     "text": [
      "No matches for \"isfinite\" were found.\n"
     ]
    }
   ],
   "source": [
    "    function_name = 'isfinite'\n",
    "    matches = search_function_in_json(function_name)\n",
    "    if matches:\n",
    "        print(f'Found {len(matches)} matches for \"{function_name}\":')\n",
    "        for match in matches:\n",
    "            print(f'Function name: {match[\"function_name\"]}, found in the file: {match[\"file_path\"]}')\n",
    "    else:\n",
    "        print(f'No matches for \"{function_name}\" were found.')"
   ]
  },
  {
   "cell_type": "code",
   "execution_count": 3,
   "id": "f82d63bd",
   "metadata": {},
   "outputs": [],
   "source": [
    "def cut_fuction_name(raw_name):\n",
    "    module_name, raw_name = raw_name.rsplit('.', 1)\n",
    "    return raw_name"
   ]
  },
  {
   "cell_type": "code",
   "execution_count": 4,
   "id": "4c7bb71f",
   "metadata": {},
   "outputs": [
    {
     "name": "stdout",
     "output_type": "stream",
     "text": [
      "0      Not Found\n",
      "1          Found\n",
      "2          Found\n",
      "3          Found\n",
      "4      Not Found\n",
      "         ...    \n",
      "463        Found\n",
      "464    Not Found\n",
      "465    Not Found\n",
      "466    Not Found\n",
      "467        Found\n",
      "Name: Found, Length: 468, dtype: object\n",
      "Found        286\n",
      "Not Found    182\n",
      "Name: Found, dtype: int64\n"
     ]
    }
   ],
   "source": [
    "import pandas as pt\n",
    "file=pt.read_csv('FreeFuzz_torch_API_list.csv')\n",
    "file[\"API Name\"] = file[\"API Name\"].astype(str)\n",
    "results=file[\"API Name\"].apply(cut_fuction_name).apply(search_function_in_json)\n",
    "file[\"Found\"]=[\"Found\" if element != [] else \"Not Found\" for element in results]\n",
    "print(file[\"Found\"])\n",
    "print(file[\"Found\"].value_counts())"
   ]
  },
  {
   "cell_type": "code",
   "execution_count": 11,
   "id": "ba1ebc5c",
   "metadata": {},
   "outputs": [
    {
     "name": "stdout",
     "output_type": "stream",
     "text": [
      "Not Found Found Found Found Not Found Not Found Not Found Not Found Not Found Not Found Found Found Not Found Found Found Not Found Found Found Not Found Found Found Found Found Found Found Found Found Found Found Not Found Not Found Found Found Found Not Found Not Found Not Found Found Found Found Found Found Not Found Found Found Found Found Found Found Found Found Found Not Found Not Found Not Found Found Found Not Found Not Found Found Not Found Found Not Found Found Found Found Not Found Not Found Found Found Found Not Found Found Found Not Found Not Found Found Not Found Found Found Found Not Found Not Found Found Not Found Found Not Found Not Found Not Found Found Found Not Found Found Found Not Found Not Found Found Found Not Found Not Found Found Found Not Found Found Found Not Found Found Not Found Not Found Found Found Not Found Found Not Found Found Not Found Not Found Not Found Found Not Found Found Not Found Found Not Found Not Found Found Found Not Found Found Not Found Not Found Found Found Found Not Found Not Found Found Not Found Found Not Found Not Found Found Found Found Not Found Not Found Found Not Found Found Not Found Found Not Found Found Found Found Found Not Found Not Found Found Not Found Not Found Found Found Not Found Not Found Not Found Not Found Found Not Found Not Found Found Not Found Found Found Not Found Found Not Found Not Found Not Found Found Found Found Found Not Found Found Found Found Not Found Not Found Found Found Not Found Not Found Found Not Found Found Not Found Not Found Not Found Found Not Found Not Found Found Found Not Found Not Found Found Not Found Found Not Found Not Found Not Found Found Not Found Found Found Not Found Not Found Not Found Found Not Found Not Found Not Found Found Not Found Found Not Found Found Found Not Found Not Found Not Found Found Not Found Not Found Not Found Not Found Found Found Found Found Not Found Not Found Not Found Not Found Found Not Found Found Found Not Found Found Found Found Found Found Not Found Found Found Not Found Found Found Not Found Not Found Not Found Found Not Found Found Not Found Found Found Found Found Not Found Found Found Not Found Not Found Not Found Found Not Found Found Not Found Found Not Found Not Found Not Found Found Found Found Found Found Found Not Found Not Found Found Found Found Found Not Found Found Found Found Not Found Found Found Not Found Not Found Found Found Not Found Not Found Not Found Not Found Found Not Found Found Not Found Found Not Found Found Found Not Found Found Found Found Not Found Found Found Found Found Found Found Found Found Not Found Not Found Found Not Found Found Not Found Found Not Found Not Found Found Found Not Found Not Found Found Found Not Found Not Found Not Found Found Found Found Found Found Not Found Not Found Not Found Not Found Found Not Found Found Found Found Not Found Not Found Found Found Found Found Found Found Not Found Not Found Not Found Found Found Not Found Found Not Found Found Found Found Found Found Found Found Not Found Found Found Not Found Found Not Found Not Found Found Found Found Found Not Found Not Found Found Not Found Not Found Not Found Not Found Found Found Found Found Found Not Found Found Found Found Not Found Not Found Found Found Not Found Not Found Found Found Not Found Found Not Found Found Not Found Not Found Found Not Found Found Not Found Not Found Found Not Found Found Not Found Found Not Found Found Found Not Found Found Not Found Not Found Not Found Found Not Found Found Found Found Not Found Found Not Found Found Not Found Found Not Found Found Found Found Found Not Found Not Found Not Found Found\n"
     ]
    }
   ],
   "source": [
    "print(*file[\"Found\"])"
   ]
  },
  {
   "cell_type": "code",
   "execution_count": null,
   "id": "2e4a0af5",
   "metadata": {},
   "outputs": [],
   "source": []
  }
 ],
 "metadata": {
  "kernelspec": {
   "display_name": "Python 3 (ipykernel)",
   "language": "python",
   "name": "python3"
  },
  "language_info": {
   "codemirror_mode": {
    "name": "ipython",
    "version": 3
   },
   "file_extension": ".py",
   "mimetype": "text/x-python",
   "name": "python",
   "nbconvert_exporter": "python",
   "pygments_lexer": "ipython3",
   "version": "3.10.9"
  }
 },
 "nbformat": 4,
 "nbformat_minor": 5
}
