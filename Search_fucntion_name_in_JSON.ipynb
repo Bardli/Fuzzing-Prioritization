{
 "cells": [
  {
   "cell_type": "code",
   "execution_count": 1,
   "id": "90f2dbf0",
   "metadata": {},
   "outputs": [],
   "source": [
    "import json\n",
    "\n",
    "def search_function_in_json(function_name, json_file='code_elements_tree_phraser.json'):\n",
    "    with open(json_file, 'r') as f:\n",
    "        data = json.load(f)\n",
    "\n",
    "    matches = []\n",
    "\n",
    "    for item in data:\n",
    "        for func in item['functions']:\n",
    "            if function_name in func:\n",
    "                matches.append({\n",
    "                    'file_path': item['file_path'],\n",
    "                    'function_name': func\n",
    "                })\n",
    "\n",
    "    return matches"
   ]
  },
  {
   "cell_type": "code",
   "execution_count": 2,
   "id": "878c7dbc",
   "metadata": {},
   "outputs": [],
   "source": [
    "def cut_fuction_name(raw_name):\n",
    "    module_name, raw_name = raw_name.rsplit('.', 1)\n",
    "    return raw_name"
   ]
  },
  {
   "cell_type": "code",
   "execution_count": 3,
   "id": "f80cec18",
   "metadata": {},
   "outputs": [
    {
     "name": "stdout",
     "output_type": "stream",
     "text": [
      "0      Not Found\n",
      "1          Found\n",
      "2          Found\n",
      "3          Found\n",
      "4          Found\n",
      "         ...    \n",
      "463        Found\n",
      "464    Not Found\n",
      "465    Not Found\n",
      "466    Not Found\n",
      "467        Found\n",
      "Name: Found, Length: 468, dtype: object\n",
      "Found        381\n",
      "Not Found     87\n",
      "Name: Found, dtype: int64\n"
     ]
    }
   ],
   "source": [
    "import pandas as pt\n",
    "file=pt.read_csv('FreeFuzz_torch_API_list.csv')\n",
    "file[\"API Name\"] = file[\"API Name\"].astype(str)\n",
    "results=file[\"API Name\"].apply(cut_fuction_name).apply(search_function_in_json)\n",
    "file[\"Found\"]=[\"Found\" if element != [] else \"Not Found\" for element in results]\n",
    "print(file[\"Found\"])\n",
    "print(file[\"Found\"].value_counts())"
   ]
  },
  {
   "cell_type": "code",
   "execution_count": null,
   "id": "30bd406a",
   "metadata": {},
   "outputs": [],
   "source": []
  }
 ],
 "metadata": {
  "kernelspec": {
   "display_name": "Python 3 (ipykernel)",
   "language": "python",
   "name": "python3"
  },
  "language_info": {
   "codemirror_mode": {
    "name": "ipython",
    "version": 3
   },
   "file_extension": ".py",
   "mimetype": "text/x-python",
   "name": "python",
   "nbconvert_exporter": "python",
   "pygments_lexer": "ipython3",
   "version": "3.10.9"
  }
 },
 "nbformat": 4,
 "nbformat_minor": 5
}
