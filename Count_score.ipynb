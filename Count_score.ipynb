{
 "cells": [
  {
   "cell_type": "code",
   "execution_count": 1,
   "id": "36a639b4",
   "metadata": {},
   "outputs": [
    {
     "name": "stdout",
     "output_type": "stream",
     "text": [
      "Precision: 0.12\n",
      "Recall: 0.76\n",
      "F1: 0.20\n"
     ]
    }
   ],
   "source": [
    "import pandas as pd\n",
    "from sklearn.metrics import precision_score, recall_score, f1_score\n",
    "\n",
    "# Load the data from CSV file\n",
    "data = pd.read_csv('torch-v1.10.0-predicted-data.csv')\n",
    "\n",
    "# Convert 'bug' and 'success' into binary form for both actual and predicted labels\n",
    "data['Label'] = data['Label'].map({'bug': 1, 'success': 0})\n",
    "data['Label_model'] = data['Label_model'].map({'bug': 1, 'success': 0})\n",
    "\n",
    "# Compute precision, recall and F1-score\n",
    "precision = precision_score(data['Label'], data['Label_model'])\n",
    "recall = recall_score(data['Label'], data['Label_model'])\n",
    "f1 = f1_score(data['Label'], data['Label_model'])\n",
    "\n",
    "print('Precision: {:.2f}'.format(precision))\n",
    "print('Recall: {:.2f}'.format(recall))\n",
    "print('F1: {:.2f}'.format(f1))\n"
   ]
  },
  {
   "cell_type": "code",
   "execution_count": null,
   "id": "6ccb48b1",
   "metadata": {},
   "outputs": [],
   "source": []
  }
 ],
 "metadata": {
  "kernelspec": {
   "display_name": "Python 3 (ipykernel)",
   "language": "python",
   "name": "python3"
  },
  "language_info": {
   "codemirror_mode": {
    "name": "ipython",
    "version": 3
   },
   "file_extension": ".py",
   "mimetype": "text/x-python",
   "name": "python",
   "nbconvert_exporter": "python",
   "pygments_lexer": "ipython3",
   "version": "3.10.9"
  }
 },
 "nbformat": 4,
 "nbformat_minor": 5
}
