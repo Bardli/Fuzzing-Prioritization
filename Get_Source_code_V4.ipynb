{
 "cells": [
  {
   "cell_type": "code",
   "execution_count": 7,
   "id": "9865d22a",
   "metadata": {},
   "outputs": [],
   "source": [
    "import os\n",
    "import requests\n",
    "import shutil\n",
    "import zipfile\n",
    "import glob\n",
    "\n",
    "def search_files(directory, search_string):\n",
    "    for foldername, subfolders, filenames in os.walk(directory):\n",
    "        for filename in filenames:\n",
    "            if filename.endswith('.cpp') or filename.endswith('.cu'):  # search in C++ and CUDA files\n",
    "                with open(os.path.join(foldername, filename), 'r', errors='ignore') as file:\n",
    "                    if search_string in file.read():\n",
    "                        print(f'Found \"{search_string}\" in {foldername}/{filename}')\n",
    "\n",
    "def download_extract_pytorch():\n",
    "    url = 'https://github.com/pytorch/pytorch/archive/refs/heads/master.zip'\n",
    "    local_file = 'pytorch.zip'\n",
    "    \n",
    "    with requests.get(url, stream=True) as r:\n",
    "        with open(local_file, 'wb') as f:\n",
    "            shutil.copyfileobj(r.raw, f)\n",
    "\n",
    "    with zipfile.ZipFile(local_file, 'r') as zip_ref:\n",
    "        zip_ref.extractall()\n",
    "        \n",
    "    print('PyTorch source code downloaded and extracted.')\n",
    "\n",
    "# Adjust the directory and function_name in the get_pytorch_source_code function\n",
    "def get_pytorch_source_code(function_name):\n",
    "    if not os.path.exists('pytorch-main'):\n",
    "        print('Downloading PyTorch source code...')\n",
    "        download_extract_pytorch()\n",
    "\n",
    "    print('Searching for function in PyTorch source code...')\n",
    "    # Specify the directories to search in\n",
    "    directories_to_search = ['pytorch-main/aten/src/ATen/native']\n",
    "    for directory in directories_to_search:\n",
    "        search_files(directory, function_name)"
   ]
  },
  {
   "cell_type": "code",
   "execution_count": 9,
   "id": "b765852b",
   "metadata": {},
   "outputs": [
    {
     "name": "stdout",
     "output_type": "stream",
     "text": [
      "Downloading PyTorch source code...\n",
      "PyTorch source code downloaded and extracted.\n",
      "Searching for function in PyTorch source code...\n"
     ]
    }
   ],
   "source": [
    "# Example usage:\n",
    "get_pytorch_source_code('Hardshrink')"
   ]
  },
  {
   "cell_type": "code",
   "execution_count": null,
   "id": "c5f06657",
   "metadata": {},
   "outputs": [],
   "source": []
  }
 ],
 "metadata": {
  "kernelspec": {
   "display_name": "Python 3 (ipykernel)",
   "language": "python",
   "name": "python3"
  },
  "language_info": {
   "codemirror_mode": {
    "name": "ipython",
    "version": 3
   },
   "file_extension": ".py",
   "mimetype": "text/x-python",
   "name": "python",
   "nbconvert_exporter": "python",
   "pygments_lexer": "ipython3",
   "version": "3.10.9"
  }
 },
 "nbformat": 4,
 "nbformat_minor": 5
}
