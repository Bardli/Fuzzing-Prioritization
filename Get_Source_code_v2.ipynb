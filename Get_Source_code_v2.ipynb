{
 "cells": [
  {
   "cell_type": "code",
   "execution_count": 1,
   "id": "74fd395c",
   "metadata": {},
   "outputs": [],
   "source": [
    "import os\n",
    "\n",
    "def search_files(directory, search_string):\n",
    "    for foldername, subfolders, filenames in os.walk(directory):\n",
    "        for filename in filenames: \n",
    "            if filename.endswith('.cpp')or filename.endswith('.h'):\n",
    "                with open(os.path.join(foldername, filename), 'r') as file:\n",
    "                    if search_string in file.read().lower():\n",
    "                        print(f'Found \"{search_string}\" in {foldername}/{filename}')"
   ]
  },
  {
   "cell_type": "code",
   "execution_count": 3,
   "id": "c82b08dc",
   "metadata": {},
   "outputs": [],
   "source": [
    "# Usage example:\n",
    "search_files('pytorch-main', 'class hardshrink')"
   ]
  },
  {
   "cell_type": "code",
   "execution_count": null,
   "id": "300cfb1f",
   "metadata": {},
   "outputs": [],
   "source": []
  }
 ],
 "metadata": {
  "kernelspec": {
   "display_name": "Python 3 (ipykernel)",
   "language": "python",
   "name": "python3"
  },
  "language_info": {
   "codemirror_mode": {
    "name": "ipython",
    "version": 3
   },
   "file_extension": ".py",
   "mimetype": "text/x-python",
   "name": "python",
   "nbconvert_exporter": "python",
   "pygments_lexer": "ipython3",
   "version": "3.10.9"
  }
 },
 "nbformat": 4,
 "nbformat_minor": 5
}
