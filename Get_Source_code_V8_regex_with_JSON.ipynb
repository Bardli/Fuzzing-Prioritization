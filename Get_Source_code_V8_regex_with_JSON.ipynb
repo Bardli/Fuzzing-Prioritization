{
 "cells": [
  {
   "cell_type": "code",
   "execution_count": 9,
   "id": "f944fb61",
   "metadata": {},
   "outputs": [],
   "source": [
    "import re\n",
    "import os\n",
    "import json\n",
    "def extract_info_py(file_path):\n",
    "    with open(file_path, 'r') as file:\n",
    "        code = file.read()\n",
    "\n",
    "    # regex patterns for function and class definitions\n",
    "    function_pattern = re.compile(r'\\bdef\\b\\s+([a-zA-Z_][a-zA-Z0-9_]*)(?=\\s*\\()', re.MULTILINE)\n",
    "    class_pattern = re.compile(r'\\bclass\\b\\s+([a-zA-Z_][a-zA-Z0-9_]*)(?=\\s*:)', re.MULTILINE)\n",
    "\n",
    "    # Extract names from the code\n",
    "    functions = function_pattern.findall(code)\n",
    "    classes = class_pattern.findall(code)\n",
    "\n",
    "    if functions or classes:\n",
    "        return {'file_path': file_path, 'functions': functions, 'classes': classes}\n"
   ]
  },
  {
   "cell_type": "code",
   "execution_count": 13,
   "id": "7b9b1357",
   "metadata": {},
   "outputs": [],
   "source": [
    "import re\n",
    "\n",
    "def extract_info_c(file_path):\n",
    "    with open(file_path, 'r') as file:\n",
    "        code = file.read()\n",
    "\n",
    "    # regex patterns for function and class definitions\n",
    "    function_pattern = re.compile(r'\\b([a-zA-Z_][a-zA-Z0-9_]*)\\s+([a-zA-Z_][a-zA-Z0-9_]*)\\s*\\([^)]*\\)\\s*(?=\\{)', re.MULTILINE)\n",
    "    class_pattern = re.compile(r'\\bclass\\b\\s+([a-zA-Z_][a-zA-Z0-9_]*)(?=\\s*{)', re.MULTILINE)\n",
    "\n",
    "    # Extract names from the code\n",
    "    functions = function_pattern.findall(code)\n",
    "    classes = class_pattern.findall(code)\n",
    "\n",
    "    if functions or classes:\n",
    "        return {'file_path': file_path, 'functions': functions, 'classes': classes}\n"
   ]
  },
  {
   "cell_type": "code",
   "execution_count": 14,
   "id": "ae4fa5ee",
   "metadata": {},
   "outputs": [],
   "source": [
    "def record_code_elements(root_dir):\n",
    "    data = []\n",
    "\n",
    "    for dir_name, sub_dirs, files in os.walk(root_dir):\n",
    "        for file in files:\n",
    "            if file.endswith('.py'):\n",
    "                info = extract_info_py(os.path.join(dir_name, file))\n",
    "                if info:\n",
    "                    data.append(info)\n",
    "            elif file.endswith('.c') or file.endswith('.cpp'):\n",
    "                info = extract_info_c(os.path.join(dir_name, file))\n",
    "                if info:\n",
    "                    data.append(info)\n",
    "\n",
    "    with open('code_elements_regex.json', 'w') as f:\n",
    "        json.dump(data, f, indent=4)\n"
   ]
  },
  {
   "cell_type": "code",
   "execution_count": 15,
   "id": "e9eaf121",
   "metadata": {},
   "outputs": [],
   "source": [
    "record_code_elements('../pytorch')"
   ]
  },
  {
   "cell_type": "code",
   "execution_count": null,
   "id": "f2ff976a",
   "metadata": {},
   "outputs": [],
   "source": []
  }
 ],
 "metadata": {
  "kernelspec": {
   "display_name": "Python 3 (ipykernel)",
   "language": "python",
   "name": "python3"
  },
  "language_info": {
   "codemirror_mode": {
    "name": "ipython",
    "version": 3
   },
   "file_extension": ".py",
   "mimetype": "text/x-python",
   "name": "python",
   "nbconvert_exporter": "python",
   "pygments_lexer": "ipython3",
   "version": "3.10.9"
  }
 },
 "nbformat": 4,
 "nbformat_minor": 5
}
