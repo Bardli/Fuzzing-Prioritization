{
 "cells": [
  {
   "cell_type": "code",
   "execution_count": 1,
   "id": "53f16289",
   "metadata": {
    "scrolled": true
   },
   "outputs": [
    {
     "name": "stderr",
     "output_type": "stream",
     "text": [
      "2023-06-27 11:44:18.565308: I tensorflow/core/util/port.cc:110] oneDNN custom operations are on. You may see slightly different numerical results due to floating-point round-off errors from different computation orders. To turn them off, set the environment variable `TF_ENABLE_ONEDNN_OPTS=0`.\n",
      "2023-06-27 11:44:18.588222: I tensorflow/core/platform/cpu_feature_guard.cc:182] This TensorFlow binary is optimized to use available CPU instructions in performance-critical operations.\n",
      "To enable the following instructions: AVX2 AVX_VNNI FMA, in other operations, rebuild TensorFlow with the appropriate compiler flags.\n",
      "2023-06-27 11:44:18.928667: W tensorflow/compiler/tf2tensorrt/utils/py_utils.cc:38] TF-TRT Warning: Could not find TensorRT\n"
     ]
    }
   ],
   "source": [
    "import tensorflow as tf"
   ]
  },
  {
   "cell_type": "code",
   "execution_count": 2,
   "id": "9415d5f3",
   "metadata": {},
   "outputs": [],
   "source": [
    "from tensorflow import keras"
   ]
  },
  {
   "cell_type": "code",
   "execution_count": 3,
   "id": "08171ce2",
   "metadata": {},
   "outputs": [],
   "source": [
    "import pandas as pd\n",
    "import numpy as np\n",
    "import matplotlib.pyplot as plt"
   ]
  },
  {
   "cell_type": "code",
   "execution_count": 4,
   "id": "1fdfa67a",
   "metadata": {},
   "outputs": [],
   "source": [
    "data=pd.read_csv('./torch-v1.8.0.csv')"
   ]
  },
  {
   "cell_type": "code",
   "execution_count": 5,
   "id": "871d3744",
   "metadata": {},
   "outputs": [
    {
     "data": {
      "text/html": [
       "<div>\n",
       "<style scoped>\n",
       "    .dataframe tbody tr th:only-of-type {\n",
       "        vertical-align: middle;\n",
       "    }\n",
       "\n",
       "    .dataframe tbody tr th {\n",
       "        vertical-align: top;\n",
       "    }\n",
       "\n",
       "    .dataframe thead th {\n",
       "        text-align: right;\n",
       "    }\n",
       "</style>\n",
       "<table border=\"1\" class=\"dataframe\">\n",
       "  <thead>\n",
       "    <tr style=\"text-align: right;\">\n",
       "      <th></th>\n",
       "      <th>API Name</th>\n",
       "      <th>Parameters</th>\n",
       "      <th>Test case</th>\n",
       "      <th>Label</th>\n",
       "    </tr>\n",
       "  </thead>\n",
       "  <tbody>\n",
       "    <tr>\n",
       "      <th>0</th>\n",
       "      <td>torch.nn.functional.max_pool3d</td>\n",
       "      <td>arg_0_tensor = torch.rand([20, 16, 50, 44, 31]...</td>\n",
       "      <td>v1.8.0/cuda-oracle/success/torch.nn.functional...</td>\n",
       "      <td>success</td>\n",
       "    </tr>\n",
       "    <tr>\n",
       "      <th>1</th>\n",
       "      <td>torch.nn.functional.max_pool3d</td>\n",
       "      <td>arg_0_tensor = torch.rand([20, 16, 50, 44, 31]...</td>\n",
       "      <td>v1.8.0/cuda-oracle/success/torch.nn.functional...</td>\n",
       "      <td>success</td>\n",
       "    </tr>\n",
       "    <tr>\n",
       "      <th>2</th>\n",
       "      <td>torch.nn.functional.max_pool3d</td>\n",
       "      <td>arg_0_tensor = torch.rand([20, 16, 51, 33, 15]...</td>\n",
       "      <td>v1.8.0/cuda-oracle/success/torch.nn.functional...</td>\n",
       "      <td>success</td>\n",
       "    </tr>\n",
       "    <tr>\n",
       "      <th>3</th>\n",
       "      <td>torch.nn.functional.max_pool3d</td>\n",
       "      <td>arg_0_tensor = torch.rand([20, 16, 51, 33, 15]...</td>\n",
       "      <td>v1.8.0/FreeFuzz_bugs/torch.nn.functional.max_p...</td>\n",
       "      <td>bug</td>\n",
       "    </tr>\n",
       "    <tr>\n",
       "      <th>4</th>\n",
       "      <td>torch.isneginf</td>\n",
       "      <td>arg_0_tensor = torch.rand([3], dtype=torch.flo...</td>\n",
       "      <td>v1.8.0/cuda-oracle/success/torch.isneginf/1.py</td>\n",
       "      <td>success</td>\n",
       "    </tr>\n",
       "  </tbody>\n",
       "</table>\n",
       "</div>"
      ],
      "text/plain": [
       "                         API Name  \\\n",
       "0  torch.nn.functional.max_pool3d   \n",
       "1  torch.nn.functional.max_pool3d   \n",
       "2  torch.nn.functional.max_pool3d   \n",
       "3  torch.nn.functional.max_pool3d   \n",
       "4                  torch.isneginf   \n",
       "\n",
       "                                          Parameters  \\\n",
       "0  arg_0_tensor = torch.rand([20, 16, 50, 44, 31]...   \n",
       "1  arg_0_tensor = torch.rand([20, 16, 50, 44, 31]...   \n",
       "2  arg_0_tensor = torch.rand([20, 16, 51, 33, 15]...   \n",
       "3  arg_0_tensor = torch.rand([20, 16, 51, 33, 15]...   \n",
       "4  arg_0_tensor = torch.rand([3], dtype=torch.flo...   \n",
       "\n",
       "                                           Test case    Label  \n",
       "0  v1.8.0/cuda-oracle/success/torch.nn.functional...  success  \n",
       "1  v1.8.0/cuda-oracle/success/torch.nn.functional...  success  \n",
       "2  v1.8.0/cuda-oracle/success/torch.nn.functional...  success  \n",
       "3  v1.8.0/FreeFuzz_bugs/torch.nn.functional.max_p...      bug  \n",
       "4     v1.8.0/cuda-oracle/success/torch.isneginf/1.py  success  "
      ]
     },
     "execution_count": 5,
     "metadata": {},
     "output_type": "execute_result"
    }
   ],
   "source": [
    "data.head()"
   ]
  },
  {
   "cell_type": "code",
   "execution_count": 6,
   "id": "a71b9d4d",
   "metadata": {},
   "outputs": [
    {
     "name": "stdout",
     "output_type": "stream",
     "text": [
      "<class 'pandas.core.frame.DataFrame'>\n",
      "RangeIndex: 44143 entries, 0 to 44142\n",
      "Data columns (total 4 columns):\n",
      " #   Column      Non-Null Count  Dtype \n",
      "---  ------      --------------  ----- \n",
      " 0   API Name    44143 non-null  object\n",
      " 1   Parameters  41096 non-null  object\n",
      " 2   Test case   44143 non-null  object\n",
      " 3   Label       44143 non-null  object\n",
      "dtypes: object(4)\n",
      "memory usage: 1.3+ MB\n"
     ]
    }
   ],
   "source": [
    "data.info()"
   ]
  },
  {
   "cell_type": "code",
   "execution_count": 7,
   "id": "86933ba0",
   "metadata": {},
   "outputs": [
    {
     "data": {
      "text/plain": [
       "success    42666\n",
       "bug         1477\n",
       "Name: Label, dtype: int64"
      ]
     },
     "execution_count": 7,
     "metadata": {},
     "output_type": "execute_result"
    }
   ],
   "source": [
    "data.iloc[:,-1].value_counts()"
   ]
  },
  {
   "cell_type": "code",
   "execution_count": 8,
   "id": "ab32bd2f",
   "metadata": {},
   "outputs": [
    {
     "data": {
      "text/plain": [
       "0    v1.8.0/cuda-oracle/success/torch.nn.functional...\n",
       "1    v1.8.0/cuda-oracle/success/torch.nn.functional...\n",
       "2    v1.8.0/cuda-oracle/success/torch.nn.functional...\n",
       "3    v1.8.0/FreeFuzz_bugs/torch.nn.functional.max_p...\n",
       "4       v1.8.0/cuda-oracle/success/torch.isneginf/1.py\n",
       "Name: Test case, dtype: object"
      ]
     },
     "execution_count": 8,
     "metadata": {},
     "output_type": "execute_result"
    }
   ],
   "source": [
    "data.iloc[:, -2].head()"
   ]
  },
  {
   "cell_type": "code",
   "execution_count": 9,
   "id": "3e5dd8e8",
   "metadata": {},
   "outputs": [
    {
     "data": {
      "text/plain": [
       "0    1\n",
       "1    1\n",
       "2    1\n",
       "3    0\n",
       "4    1\n",
       "Name: Label, dtype: int64"
      ]
     },
     "execution_count": 9,
     "metadata": {},
     "output_type": "execute_result"
    }
   ],
   "source": [
    "data.iloc[:, -1].replace(\"success\",1).replace(\"bug\",0).head()"
   ]
  },
  {
   "cell_type": "code",
   "execution_count": 10,
   "id": "0dc5eec1",
   "metadata": {},
   "outputs": [],
   "source": [
    "data['combintedString']=data[['API Name','Parameters']].apply(lambda x : '{}{}'.format(x[0],x[1]), axis=1)"
   ]
  },
  {
   "cell_type": "code",
   "execution_count": 11,
   "id": "9451d108",
   "metadata": {},
   "outputs": [
    {
     "data": {
      "text/html": [
       "<div>\n",
       "<style scoped>\n",
       "    .dataframe tbody tr th:only-of-type {\n",
       "        vertical-align: middle;\n",
       "    }\n",
       "\n",
       "    .dataframe tbody tr th {\n",
       "        vertical-align: top;\n",
       "    }\n",
       "\n",
       "    .dataframe thead th {\n",
       "        text-align: right;\n",
       "    }\n",
       "</style>\n",
       "<table border=\"1\" class=\"dataframe\">\n",
       "  <thead>\n",
       "    <tr style=\"text-align: right;\">\n",
       "      <th></th>\n",
       "      <th>API Name</th>\n",
       "      <th>Parameters</th>\n",
       "      <th>Test case</th>\n",
       "      <th>Label</th>\n",
       "      <th>combintedString</th>\n",
       "    </tr>\n",
       "  </thead>\n",
       "  <tbody>\n",
       "    <tr>\n",
       "      <th>0</th>\n",
       "      <td>torch.nn.functional.max_pool3d</td>\n",
       "      <td>arg_0_tensor = torch.rand([20, 16, 50, 44, 31]...</td>\n",
       "      <td>v1.8.0/cuda-oracle/success/torch.nn.functional...</td>\n",
       "      <td>success</td>\n",
       "      <td>torch.nn.functional.max_pool3darg_0_tensor = t...</td>\n",
       "    </tr>\n",
       "    <tr>\n",
       "      <th>1</th>\n",
       "      <td>torch.nn.functional.max_pool3d</td>\n",
       "      <td>arg_0_tensor = torch.rand([20, 16, 50, 44, 31]...</td>\n",
       "      <td>v1.8.0/cuda-oracle/success/torch.nn.functional...</td>\n",
       "      <td>success</td>\n",
       "      <td>torch.nn.functional.max_pool3darg_0_tensor = t...</td>\n",
       "    </tr>\n",
       "    <tr>\n",
       "      <th>2</th>\n",
       "      <td>torch.nn.functional.max_pool3d</td>\n",
       "      <td>arg_0_tensor = torch.rand([20, 16, 51, 33, 15]...</td>\n",
       "      <td>v1.8.0/cuda-oracle/success/torch.nn.functional...</td>\n",
       "      <td>success</td>\n",
       "      <td>torch.nn.functional.max_pool3darg_0_tensor = t...</td>\n",
       "    </tr>\n",
       "    <tr>\n",
       "      <th>3</th>\n",
       "      <td>torch.nn.functional.max_pool3d</td>\n",
       "      <td>arg_0_tensor = torch.rand([20, 16, 51, 33, 15]...</td>\n",
       "      <td>v1.8.0/FreeFuzz_bugs/torch.nn.functional.max_p...</td>\n",
       "      <td>bug</td>\n",
       "      <td>torch.nn.functional.max_pool3darg_0_tensor = t...</td>\n",
       "    </tr>\n",
       "    <tr>\n",
       "      <th>4</th>\n",
       "      <td>torch.isneginf</td>\n",
       "      <td>arg_0_tensor = torch.rand([3], dtype=torch.flo...</td>\n",
       "      <td>v1.8.0/cuda-oracle/success/torch.isneginf/1.py</td>\n",
       "      <td>success</td>\n",
       "      <td>torch.isneginfarg_0_tensor = torch.rand([3], d...</td>\n",
       "    </tr>\n",
       "  </tbody>\n",
       "</table>\n",
       "</div>"
      ],
      "text/plain": [
       "                         API Name  \\\n",
       "0  torch.nn.functional.max_pool3d   \n",
       "1  torch.nn.functional.max_pool3d   \n",
       "2  torch.nn.functional.max_pool3d   \n",
       "3  torch.nn.functional.max_pool3d   \n",
       "4                  torch.isneginf   \n",
       "\n",
       "                                          Parameters  \\\n",
       "0  arg_0_tensor = torch.rand([20, 16, 50, 44, 31]...   \n",
       "1  arg_0_tensor = torch.rand([20, 16, 50, 44, 31]...   \n",
       "2  arg_0_tensor = torch.rand([20, 16, 51, 33, 15]...   \n",
       "3  arg_0_tensor = torch.rand([20, 16, 51, 33, 15]...   \n",
       "4  arg_0_tensor = torch.rand([3], dtype=torch.flo...   \n",
       "\n",
       "                                           Test case    Label  \\\n",
       "0  v1.8.0/cuda-oracle/success/torch.nn.functional...  success   \n",
       "1  v1.8.0/cuda-oracle/success/torch.nn.functional...  success   \n",
       "2  v1.8.0/cuda-oracle/success/torch.nn.functional...  success   \n",
       "3  v1.8.0/FreeFuzz_bugs/torch.nn.functional.max_p...      bug   \n",
       "4     v1.8.0/cuda-oracle/success/torch.isneginf/1.py  success   \n",
       "\n",
       "                                     combintedString  \n",
       "0  torch.nn.functional.max_pool3darg_0_tensor = t...  \n",
       "1  torch.nn.functional.max_pool3darg_0_tensor = t...  \n",
       "2  torch.nn.functional.max_pool3darg_0_tensor = t...  \n",
       "3  torch.nn.functional.max_pool3darg_0_tensor = t...  \n",
       "4  torch.isneginfarg_0_tensor = torch.rand([3], d...  "
      ]
     },
     "execution_count": 11,
     "metadata": {},
     "output_type": "execute_result"
    }
   ],
   "source": [
    "data.head()"
   ]
  },
  {
   "cell_type": "code",
   "execution_count": 12,
   "id": "40836d4d",
   "metadata": {},
   "outputs": [],
   "source": [
    "x=data.iloc[:, -1]\n",
    "y=data.iloc[:, -2].replace(\"success\",1).replace(\"bug\",0)"
   ]
  },
  {
   "cell_type": "code",
   "execution_count": 13,
   "id": "10a94320",
   "metadata": {},
   "outputs": [
    {
     "data": {
      "text/plain": [
       "(44143,)"
      ]
     },
     "execution_count": 13,
     "metadata": {},
     "output_type": "execute_result"
    }
   ],
   "source": [
    "x.shape"
   ]
  },
  {
   "cell_type": "code",
   "execution_count": 14,
   "id": "b1ce8029",
   "metadata": {},
   "outputs": [],
   "source": [
    "import re"
   ]
  },
  {
   "cell_type": "code",
   "execution_count": 15,
   "id": "f65d56a3",
   "metadata": {},
   "outputs": [],
   "source": [
    "token = re.compile('[A-Za-z]+|[!?,.()]')"
   ]
  },
  {
   "cell_type": "code",
   "execution_count": 16,
   "id": "164c3a4f",
   "metadata": {},
   "outputs": [],
   "source": [
    "def reg_text(text):\n",
    "    new_text = token.findall(text)\n",
    "    new_text = [word.lower() for word in new_text]\n",
    "    return new_text"
   ]
  },
  {
   "cell_type": "code",
   "execution_count": 17,
   "id": "b563e5c0",
   "metadata": {},
   "outputs": [],
   "source": [
    "data['text'] = data.combintedString.apply(reg_text)"
   ]
  },
  {
   "cell_type": "code",
   "execution_count": 18,
   "id": "028ce8e4",
   "metadata": {},
   "outputs": [],
   "source": [
    "word_set = set()\n",
    "for text in data.text:\n",
    "    for word in text:\n",
    "        word_set.add(word) "
   ]
  },
  {
   "cell_type": "code",
   "execution_count": 19,
   "id": "24d7d9b2",
   "metadata": {},
   "outputs": [
    {
     "data": {
      "text/plain": [
       "508"
      ]
     },
     "execution_count": 19,
     "metadata": {},
     "output_type": "execute_result"
    }
   ],
   "source": [
    "max_word = len(word_set) + 1\n",
    "max_word"
   ]
  },
  {
   "cell_type": "code",
   "execution_count": 20,
   "id": "2d2be945",
   "metadata": {},
   "outputs": [],
   "source": [
    "word_list = list(word_set)"
   ]
  },
  {
   "cell_type": "code",
   "execution_count": 21,
   "id": "ef117da5",
   "metadata": {},
   "outputs": [
    {
     "data": {
      "text/plain": [
       "448"
      ]
     },
     "execution_count": 21,
     "metadata": {},
     "output_type": "execute_result"
    }
   ],
   "source": [
    "word_list.index('arg')"
   ]
  },
  {
   "cell_type": "code",
   "execution_count": 22,
   "id": "96d05220",
   "metadata": {},
   "outputs": [],
   "source": [
    "word_index =  dict((word, word_list.index(word) + 1) for word in word_list)"
   ]
  },
  {
   "cell_type": "code",
   "execution_count": 23,
   "id": "685dc3a0",
   "metadata": {},
   "outputs": [
    {
     "data": {
      "text/plain": [
       "{'pixelshufflearg': 1,\n",
       " 'celunan': 2,\n",
       " 'trilarg': 3,\n",
       " 'matmularg': 4,\n",
       " 'b': 5,\n",
       " 'crossentropylossnan': 6,\n",
       " 'reluarg': 7,\n",
       " 'logdetarg': 8,\n",
       " 'stacklevel': 9,\n",
       " 'block': 10,\n",
       " 'randint': 11,\n",
       " 'constant': 12,\n",
       " 'dscale': 13,\n",
       " 'minarg': 14,\n",
       " 'unique': 15,\n",
       " 'bn': 16,\n",
       " 'lstmcellarg': 17,\n",
       " 'unbindarg': 18,\n",
       " 'bcelossnan': 19,\n",
       " 'reduction': 20,\n",
       " 'parameters': 21,\n",
       " 'sumarg': 22,\n",
       " 'exparg': 23,\n",
       " 'bm': 24,\n",
       " 'e': 25,\n",
       " 'baddbmmarg': 26,\n",
       " 'xorarg': 27,\n",
       " 'sinharg': 28,\n",
       " 'is': 29,\n",
       " 'bilinear': 30,\n",
       " 'tanhshrinkarg': 31,\n",
       " 'layers': 32,\n",
       " 'marginrankinglossnan': 33,\n",
       " 'constantpad': 34,\n",
       " 'isnanarg': 35,\n",
       " 'num': 36,\n",
       " 'medianarg': 37,\n",
       " '(': 38,\n",
       " 'compute': 39,\n",
       " 'tril': 40,\n",
       " 'conjarg': 41,\n",
       " 'logaddexparg': 42,\n",
       " 'response': 43,\n",
       " 'rand': 44,\n",
       " 'ravelarg': 45,\n",
       " 'diagarg': 46,\n",
       " 'selunan': 47,\n",
       " 'bernoulliarg': 48,\n",
       " 'negarg': 49,\n",
       " 'int': 50,\n",
       " 'generator': 51,\n",
       " 'replicate': 52,\n",
       " 'keepdim': 53,\n",
       " 'groupnormarg': 54,\n",
       " 'high': 55,\n",
       " 'diagonalarg': 56,\n",
       " 'rot': 57,\n",
       " 'qrarg': 58,\n",
       " 'igammaarg': 59,\n",
       " 'batch': 60,\n",
       " 'signbitarg': 61,\n",
       " 'ctclossnan': 62,\n",
       " 'sum': 63,\n",
       " 'bjk': 64,\n",
       " 'triuarg': 65,\n",
       " 'indicesrow': 66,\n",
       " 'cross': 67,\n",
       " 'scatterarg': 68,\n",
       " 'steps': 69,\n",
       " 'erfcarg': 70,\n",
       " 'zeros': 71,\n",
       " 'tor': 72,\n",
       " 'learg': 73,\n",
       " 'distancearg': 74,\n",
       " 'tensorsarg': 75,\n",
       " 'tensor': 76,\n",
       " 'relu': 77,\n",
       " 'logitsarg': 78,\n",
       " 'typesarg': 79,\n",
       " 'dropoutp': 80,\n",
       " 'anglearg': 81,\n",
       " '.': 82,\n",
       " 'dotarg': 83,\n",
       " 'ii': 84,\n",
       " 'hidden': 85,\n",
       " 'torch': 86,\n",
       " 'inplace': 87,\n",
       " 'normalarg': 88,\n",
       " 'emptyarg': 89,\n",
       " 'as': 90,\n",
       " 'slogdetarg': 91,\n",
       " 'arangearg': 92,\n",
       " 'groups': 93,\n",
       " 'ranking': 94,\n",
       " 'softplusnan': 95,\n",
       " 'bool': 96,\n",
       " 'log': 97,\n",
       " 'unsqueezearg': 98,\n",
       " 'float': 99,\n",
       " 'mvlgammaarg': 100,\n",
       " 'hypotarg': 101,\n",
       " 'msortarg': 102,\n",
       " 'nn': 103,\n",
       " 'dp': 104,\n",
       " 'transpose': 105,\n",
       " 'renormarg': 106,\n",
       " 'preluarg': 107,\n",
       " 'nanmedianarg': 108,\n",
       " 'polygammaarg': 109,\n",
       " 'cholesky': 110,\n",
       " 'bilineararg': 111,\n",
       " 'counts': 112,\n",
       " 'addmmarg': 113,\n",
       " 'stackarg': 114,\n",
       " 'r': 115,\n",
       " 'reciprocalarg': 116,\n",
       " 'scatter': 117,\n",
       " 'p': 118,\n",
       " 'alpha': 119,\n",
       " 'kronarg': 120,\n",
       " 'size': 121,\n",
       " 'acosharg': 122,\n",
       " 'none': 123,\n",
       " 'fullarg': 124,\n",
       " 'instance': 125,\n",
       " 'increasing': 126,\n",
       " 'replicationpad': 127,\n",
       " 'bitwise': 128,\n",
       " 'dims': 129,\n",
       " 'dtype': 130,\n",
       " 'imagarg': 131,\n",
       " 'fractionalmaxpool': 132,\n",
       " 'atleast': 133,\n",
       " 'hardshrinkarg': 134,\n",
       " 'searchsortedarg': 135,\n",
       " 'lp': 136,\n",
       " 'similarityarg': 137,\n",
       " 'heavisidearg': 138,\n",
       " 'training': 139,\n",
       " 'anm': 140,\n",
       " 'value': 141,\n",
       " 'j': 142,\n",
       " 'radarg': 143,\n",
       " 'detarg': 144,\n",
       " 'local': 145,\n",
       " 'hardtanharg': 146,\n",
       " 'triangular': 147,\n",
       " 'grad': 148,\n",
       " 'return': 149,\n",
       " 'linspacearg': 150,\n",
       " 'mularg': 151,\n",
       " 'tripletmarginlossmargin': 152,\n",
       " 'selectarg': 153,\n",
       " 'rnncellarg': 154,\n",
       " 'tanarg': 155,\n",
       " 'celuarg': 156,\n",
       " 'inverse': 157,\n",
       " 'gruarg': 158,\n",
       " 'out': 159,\n",
       " 'eigarg': 160,\n",
       " 'erfarg': 161,\n",
       " 'minimumarg': 162,\n",
       " 'factor': 163,\n",
       " 'lppool': 164,\n",
       " 'swapaxesarg': 165,\n",
       " 'avg': 166,\n",
       " 'flattennan': 167,\n",
       " 'atan': 168,\n",
       " 'coo': 169,\n",
       " 'right': 170,\n",
       " 'infos': 171,\n",
       " 'diag': 172,\n",
       " 'largest': 173,\n",
       " 'zeropad': 174,\n",
       " 'isfinitearg': 175,\n",
       " 'powerarg': 176,\n",
       " 'lstmarg': 177,\n",
       " 'poissonarg': 178,\n",
       " 'eyearg': 179,\n",
       " 'logcumsumexparg': 180,\n",
       " 'upper': 181,\n",
       " 'poissonnlllossnan': 182,\n",
       " 'cdistarg': 183,\n",
       " 'trapzarg': 184,\n",
       " 'luarg': 185,\n",
       " 'pool': 186,\n",
       " 'gatherarg': 187,\n",
       " 'ceilarg': 188,\n",
       " 'dim': 189,\n",
       " 'exp': 190,\n",
       " 'avgpool': 191,\n",
       " 'cosine': 192,\n",
       " 'normalmean': 193,\n",
       " 'bik': 194,\n",
       " 'clonearg': 195,\n",
       " 'multiheadattentionarg': 196,\n",
       " 'divarg': 197,\n",
       " 'bins': 198,\n",
       " 'binary': 199,\n",
       " 'catarg': 200,\n",
       " 'ji': 201,\n",
       " 'cartesian': 202,\n",
       " 'narrowarg': 203,\n",
       " 'multilabel': 204,\n",
       " ',': 205,\n",
       " 'std': 206,\n",
       " 'modearg': 207,\n",
       " 'linspacestart': 208,\n",
       " 'channels': 209,\n",
       " 'mean': 210,\n",
       " 'layer': 211,\n",
       " 'ba': 212,\n",
       " 'mvarg': 213,\n",
       " 'fracarg': 214,\n",
       " 'complex': 215,\n",
       " 'truncarg': 216,\n",
       " 'fro': 217,\n",
       " 'logsumexparg': 218,\n",
       " 'isrealarg': 219,\n",
       " 'erfinvarg': 220,\n",
       " 'siluarg': 221,\n",
       " 'identityarg': 222,\n",
       " 'with': 223,\n",
       " 'reflectionpad': 224,\n",
       " 'leakyreluarg': 225,\n",
       " 'lineararg': 226,\n",
       " 'tuple': 227,\n",
       " 'gruinput': 228,\n",
       " ')': 229,\n",
       " 'stride': 230,\n",
       " 'rng': 231,\n",
       " 'randn': 232,\n",
       " 'likearg': 233,\n",
       " 'prelunan': 234,\n",
       " 'hstackarg': 235,\n",
       " 'rnn': 236,\n",
       " 'rnnbasearg': 237,\n",
       " 'softmax': 238,\n",
       " 'distarg': 239,\n",
       " 'eqarg': 240,\n",
       " 'batchnorm': 241,\n",
       " 'pixel': 242,\n",
       " 'gtarg': 243,\n",
       " 'type': 244,\n",
       " 'clone': 245,\n",
       " 'splitarg': 246,\n",
       " 'cumminarg': 247,\n",
       " 'contiguous': 248,\n",
       " 'sigmoidnan': 249,\n",
       " 'nearg': 250,\n",
       " 'pairwise': 251,\n",
       " 'input': 252,\n",
       " 'tanharg': 253,\n",
       " 'parg': 254,\n",
       " 'hardsigmoidarg': 255,\n",
       " 'replacement': 256,\n",
       " 'thresholdarg': 257,\n",
       " 'addrarg': 258,\n",
       " 'uv': 259,\n",
       " 'kthvaluearg': 260,\n",
       " 'isinfarg': 261,\n",
       " 'elunan': 262,\n",
       " 'tanhnan': 263,\n",
       " 'multilabelsoftmarginlossnan': 264,\n",
       " 'digammaarg': 265,\n",
       " 'l': 266,\n",
       " 'maxpool': 267,\n",
       " 'addcdivarg': 268,\n",
       " 'lossarg': 269,\n",
       " 'takearg': 270,\n",
       " 'fliplrarg': 271,\n",
       " 'logarg': 272,\n",
       " 'model': 273,\n",
       " 'affine': 274,\n",
       " 'nansumarg': 275,\n",
       " 'squarearg': 276,\n",
       " 'randarg': 277,\n",
       " 'inversearg': 278,\n",
       " 'last': 279,\n",
       " 'pos': 280,\n",
       " 'reluinplace': 281,\n",
       " 'lossnan': 282,\n",
       " 'broadcast': 283,\n",
       " 'targ': 284,\n",
       " 'innerarg': 285,\n",
       " 'argument': 286,\n",
       " 'gcdarg': 287,\n",
       " 'crossarg': 288,\n",
       " 'roundarg': 289,\n",
       " 'deg': 290,\n",
       " 'ltarg': 291,\n",
       " 'svdarg': 292,\n",
       " 'topkarg': 293,\n",
       " 'ratio': 294,\n",
       " 'nlllossnan': 295,\n",
       " 'aminarg': 296,\n",
       " 'cumsumarg': 297,\n",
       " 'softshrinknan': 298,\n",
       " 'chunkarg': 299,\n",
       " 'choleskyarg': 300,\n",
       " 'cosinesimilaritydim': 301,\n",
       " 'randintarg': 302,\n",
       " 'foldarg': 303,\n",
       " 'darg': 304,\n",
       " 'linearin': 305,\n",
       " 'consecutivearg': 306,\n",
       " 'diagonal': 307,\n",
       " 'col': 308,\n",
       " 'pinversearg': 309,\n",
       " 'bfloat': 310,\n",
       " 'alphadropoutp': 311,\n",
       " 'logical': 312,\n",
       " 'gearg': 313,\n",
       " 'uniquearg': 314,\n",
       " 'maxarg': 315,\n",
       " 'fliparg': 316,\n",
       " 'isneginfarg': 317,\n",
       " 'circular': 318,\n",
       " 'cosarg': 319,\n",
       " 'max': 320,\n",
       " 'preserve': 321,\n",
       " 'var': 322,\n",
       " 'functional': 323,\n",
       " 'hardshrinknan': 324,\n",
       " 'softminarg': 325,\n",
       " 'flattenarg': 326,\n",
       " 'lgammaarg': 327,\n",
       " 'normalizearg': 328,\n",
       " 'multilabelmarginlossnan': 329,\n",
       " 'promote': 330,\n",
       " 'softmaxdim': 331,\n",
       " 'shufflearg': 332,\n",
       " 'dkernel': 333,\n",
       " 'solvearg': 334,\n",
       " 'entropy': 335,\n",
       " 'signarg': 336,\n",
       " 'vanderarg': 337,\n",
       " 'ij': 338,\n",
       " 'powarg': 339,\n",
       " 'mode': 340,\n",
       " 'false': 341,\n",
       " 'vararg': 342,\n",
       " 'geluarg': 343,\n",
       " 'ar': 344,\n",
       " 'nhead': 345,\n",
       " 'tanhshrinknan': 346,\n",
       " 'index': 347,\n",
       " 'entropyarg': 348,\n",
       " 'adaptivemaxpool': 349,\n",
       " 'bias': 350,\n",
       " 'padarg': 351,\n",
       " 'convtranspose': 352,\n",
       " 'nll': 353,\n",
       " 'tanh': 354,\n",
       " 'clip': 355,\n",
       " 'poisson': 356,\n",
       " 'rankarg': 357,\n",
       " 'embeddingarg': 358,\n",
       " 'dropoutarg': 359,\n",
       " 'tensorarg': 360,\n",
       " 'format': 361,\n",
       " 'requires': 362,\n",
       " 'uint': 363,\n",
       " 'vstackarg': 364,\n",
       " 'lerparg': 365,\n",
       " 'cumprodarg': 366,\n",
       " 'offset': 367,\n",
       " 'eluinplace': 368,\n",
       " 'logsoftmaxnan': 369,\n",
       " 'start': 370,\n",
       " 'toarg': 371,\n",
       " 'swapdimsarg': 372,\n",
       " 'adaptive': 373,\n",
       " 'addcmularg': 374,\n",
       " 'n': 375,\n",
       " 'lstsqarg': 376,\n",
       " 'dropout': 377,\n",
       " 'indicesarg': 378,\n",
       " 'copysignarg': 379,\n",
       " 'fmodarg': 380,\n",
       " 'softshrinkarg': 381,\n",
       " 'realarg': 382,\n",
       " 'indices': 383,\n",
       " 'eps': 384,\n",
       " 'get': 385,\n",
       " 'rollarg': 386,\n",
       " 'embedarg': 387,\n",
       " 'rad': 388,\n",
       " 'logsigmoidnan': 389,\n",
       " 'sparse': 390,\n",
       " 'leaky': 391,\n",
       " 'flipudarg': 392,\n",
       " 'transformerdecoderlayerd': 393,\n",
       " 'normarg': 394,\n",
       " 'fullsize': 395,\n",
       " 'hardsigmoidnan': 396,\n",
       " 'adaptiveavgpool': 397,\n",
       " 'bcewithlogitslossnan': 398,\n",
       " 'argsortarg': 399,\n",
       " 'histcarg': 400,\n",
       " 'matrix': 401,\n",
       " 'beta': 402,\n",
       " 'softsignnan': 403,\n",
       " 'softmaxarg': 404,\n",
       " 'ones': 405,\n",
       " 'i': 406,\n",
       " 'full': 407,\n",
       " 'upsamplingnearest': 408,\n",
       " 'view': 409,\n",
       " 'reshapearg': 410,\n",
       " 'dtypearg': 411,\n",
       " 'randnarg': 412,\n",
       " 'cosharg': 413,\n",
       " 'addarg': 414,\n",
       " 'addmvarg': 415,\n",
       " 'unpool': 416,\n",
       " 'shapesarg': 417,\n",
       " 'nuc': 418,\n",
       " 'd': 419,\n",
       " 'sorted': 420,\n",
       " 'multinomialarg': 421,\n",
       " 'end': 422,\n",
       " 'layernormarg': 423,\n",
       " 'triu': 424,\n",
       " 'reflect': 425,\n",
       " 'typearg': 426,\n",
       " 'conv': 427,\n",
       " 'gerarg': 428,\n",
       " 'output': 429,\n",
       " 'softplusarg': 430,\n",
       " 'grucellarg': 431,\n",
       " 'logsoftmaxdim': 432,\n",
       " 'statenan': 433,\n",
       " 'dnan': 434,\n",
       " 'device': 435,\n",
       " 'tensordotarg': 436,\n",
       " 'isposinfarg': 437,\n",
       " 'amaxarg': 438,\n",
       " 'min': 439,\n",
       " 'dstackarg': 440,\n",
       " 'randpermarg': 441,\n",
       " 'maxunpool': 442,\n",
       " 'dropoutnan': 443,\n",
       " 'squeezearg': 444,\n",
       " 'chunks': 445,\n",
       " 'complexarg': 446,\n",
       " 'floor': 447,\n",
       " 'set': 448,\n",
       " 'arg': 449,\n",
       " 'fill': 450,\n",
       " 'unused': 451,\n",
       " 'eigenvectors': 452,\n",
       " 'orarg': 453,\n",
       " 'threshold': 454,\n",
       " 'degarg': 455,\n",
       " 'rrelu': 456,\n",
       " 'nonzeroarg': 457,\n",
       " 'identitynan': 458,\n",
       " 'sinarg': 459,\n",
       " 'notarg': 460,\n",
       " 'first': 461,\n",
       " 'descending': 462,\n",
       " 'some': 463,\n",
       " 'randintlow': 464,\n",
       " 'relunan': 465,\n",
       " 'dividearg': 466,\n",
       " 'xlogyarg': 467,\n",
       " 'utils': 468,\n",
       " 'bij': 469,\n",
       " 'cpu': 470,\n",
       " 'default': 471,\n",
       " 'seluarg': 472,\n",
       " 'padding': 473,\n",
       " 'kernel': 474,\n",
       " 'sgnarg': 475,\n",
       " 'stridedarg': 476,\n",
       " 'soft': 477,\n",
       " 'momentum': 478,\n",
       " 'rsqrtarg': 479,\n",
       " 'bidirectional': 480,\n",
       " 'silunan': 481,\n",
       " 'floorarg': 482,\n",
       " 'sigmoidarg': 483,\n",
       " 'shifts': 484,\n",
       " 'logaddexp': 485,\n",
       " 'subarg': 486,\n",
       " 'einsumarg': 487,\n",
       " 'prodarg': 488,\n",
       " 'sortarg': 489,\n",
       " 'margin': 490,\n",
       " 'absarg': 491,\n",
       " 'meanarg': 492,\n",
       " 'result': 493,\n",
       " 'memory': 494,\n",
       " 'symeigarg': 495,\n",
       " 'weight': 496,\n",
       " 'logitarg': 497,\n",
       " 'ctc': 498,\n",
       " 'andarg': 499,\n",
       " 'norm': 500,\n",
       " 'atanarg': 501,\n",
       " 'eluarg': 502,\n",
       " 'instancenorm': 503,\n",
       " 'maximumarg': 504,\n",
       " 'true': 505,\n",
       " 'features': 506,\n",
       " 'sqrtarg': 507}"
      ]
     },
     "execution_count": 23,
     "metadata": {},
     "output_type": "execute_result"
    }
   ],
   "source": [
    "word_index"
   ]
  },
  {
   "cell_type": "code",
   "execution_count": 24,
   "id": "4781c228",
   "metadata": {},
   "outputs": [],
   "source": [
    "data_ok = data.text.apply(lambda x: [word_index.get(word, 0) for word in x])"
   ]
  },
  {
   "cell_type": "code",
   "execution_count": 25,
   "id": "e4a3e7d7",
   "metadata": {},
   "outputs": [
    {
     "data": {
      "text/plain": [
       "39"
      ]
     },
     "execution_count": 25,
     "metadata": {},
     "output_type": "execute_result"
    }
   ],
   "source": [
    "len(data_ok.iloc[2])"
   ]
  },
  {
   "cell_type": "code",
   "execution_count": 26,
   "id": "92411f43",
   "metadata": {},
   "outputs": [],
   "source": [
    "maxlen = max(len(x) for x in data_ok)"
   ]
  },
  {
   "cell_type": "code",
   "execution_count": 27,
   "id": "6b54ab31",
   "metadata": {},
   "outputs": [
    {
     "data": {
      "text/plain": [
       "14262"
      ]
     },
     "execution_count": 27,
     "metadata": {},
     "output_type": "execute_result"
    }
   ],
   "source": [
    "maxlen"
   ]
  },
  {
   "cell_type": "code",
   "execution_count": 28,
   "id": "196545b7",
   "metadata": {},
   "outputs": [],
   "source": [
    "data_ok = keras.preprocessing.sequence.pad_sequences(data_ok.values, maxlen=maxlen)"
   ]
  },
  {
   "cell_type": "code",
   "execution_count": 29,
   "id": "5932f12c",
   "metadata": {},
   "outputs": [
    {
     "data": {
      "text/plain": [
       "(44143, 14262)"
      ]
     },
     "execution_count": 29,
     "metadata": {},
     "output_type": "execute_result"
    }
   ],
   "source": [
    "data_ok.shape"
   ]
  },
  {
   "cell_type": "code",
   "execution_count": 30,
   "id": "5567d7fe",
   "metadata": {},
   "outputs": [
    {
     "ename": "AttributeError",
     "evalue": "'Series' object has no attribute 'review'",
     "output_type": "error",
     "traceback": [
      "\u001b[0;31m---------------------------------------------------------------------------\u001b[0m",
      "\u001b[0;31mAttributeError\u001b[0m                            Traceback (most recent call last)",
      "Cell \u001b[0;32mIn[30], line 1\u001b[0m\n\u001b[0;32m----> 1\u001b[0m \u001b[43my\u001b[49m\u001b[38;5;241;43m.\u001b[39;49m\u001b[43mreview\u001b[49m\u001b[38;5;241m.\u001b[39mvalues\n",
      "File \u001b[0;32m~/anaconda3/lib/python3.10/site-packages/pandas/core/generic.py:5902\u001b[0m, in \u001b[0;36mNDFrame.__getattr__\u001b[0;34m(self, name)\u001b[0m\n\u001b[1;32m   5895\u001b[0m \u001b[38;5;28;01mif\u001b[39;00m (\n\u001b[1;32m   5896\u001b[0m     name \u001b[38;5;129;01mnot\u001b[39;00m \u001b[38;5;129;01min\u001b[39;00m \u001b[38;5;28mself\u001b[39m\u001b[38;5;241m.\u001b[39m_internal_names_set\n\u001b[1;32m   5897\u001b[0m     \u001b[38;5;129;01mand\u001b[39;00m name \u001b[38;5;129;01mnot\u001b[39;00m \u001b[38;5;129;01min\u001b[39;00m \u001b[38;5;28mself\u001b[39m\u001b[38;5;241m.\u001b[39m_metadata\n\u001b[1;32m   5898\u001b[0m     \u001b[38;5;129;01mand\u001b[39;00m name \u001b[38;5;129;01mnot\u001b[39;00m \u001b[38;5;129;01min\u001b[39;00m \u001b[38;5;28mself\u001b[39m\u001b[38;5;241m.\u001b[39m_accessors\n\u001b[1;32m   5899\u001b[0m     \u001b[38;5;129;01mand\u001b[39;00m \u001b[38;5;28mself\u001b[39m\u001b[38;5;241m.\u001b[39m_info_axis\u001b[38;5;241m.\u001b[39m_can_hold_identifiers_and_holds_name(name)\n\u001b[1;32m   5900\u001b[0m ):\n\u001b[1;32m   5901\u001b[0m     \u001b[38;5;28;01mreturn\u001b[39;00m \u001b[38;5;28mself\u001b[39m[name]\n\u001b[0;32m-> 5902\u001b[0m \u001b[38;5;28;01mreturn\u001b[39;00m \u001b[38;5;28;43mobject\u001b[39;49m\u001b[38;5;241;43m.\u001b[39;49m\u001b[38;5;21;43m__getattribute__\u001b[39;49m\u001b[43m(\u001b[49m\u001b[38;5;28;43mself\u001b[39;49m\u001b[43m,\u001b[49m\u001b[43m \u001b[49m\u001b[43mname\u001b[49m\u001b[43m)\u001b[49m\n",
      "\u001b[0;31mAttributeError\u001b[0m: 'Series' object has no attribute 'review'"
     ]
    }
   ],
   "source": []
  },
  {
   "cell_type": "code",
   "execution_count": 31,
   "id": "07f1b8f3",
   "metadata": {},
   "outputs": [
    {
     "name": "stderr",
     "output_type": "stream",
     "text": [
      "2023-06-27 11:44:36.030273: I tensorflow/compiler/xla/stream_executor/cuda/cuda_gpu_executor.cc:996] successful NUMA node read from SysFS had negative value (-1), but there must be at least one NUMA node, so returning NUMA node zero. See more at https://github.com/torvalds/linux/blob/v6.0/Documentation/ABI/testing/sysfs-bus-pci#L344-L355\n",
      "2023-06-27 11:44:36.415462: I tensorflow/compiler/xla/stream_executor/cuda/cuda_gpu_executor.cc:996] successful NUMA node read from SysFS had negative value (-1), but there must be at least one NUMA node, so returning NUMA node zero. See more at https://github.com/torvalds/linux/blob/v6.0/Documentation/ABI/testing/sysfs-bus-pci#L344-L355\n",
      "2023-06-27 11:44:36.415561: I tensorflow/compiler/xla/stream_executor/cuda/cuda_gpu_executor.cc:996] successful NUMA node read from SysFS had negative value (-1), but there must be at least one NUMA node, so returning NUMA node zero. See more at https://github.com/torvalds/linux/blob/v6.0/Documentation/ABI/testing/sysfs-bus-pci#L344-L355\n",
      "2023-06-27 11:44:36.416219: I tensorflow/compiler/xla/stream_executor/cuda/cuda_gpu_executor.cc:996] successful NUMA node read from SysFS had negative value (-1), but there must be at least one NUMA node, so returning NUMA node zero. See more at https://github.com/torvalds/linux/blob/v6.0/Documentation/ABI/testing/sysfs-bus-pci#L344-L355\n",
      "2023-06-27 11:44:36.416292: I tensorflow/compiler/xla/stream_executor/cuda/cuda_gpu_executor.cc:996] successful NUMA node read from SysFS had negative value (-1), but there must be at least one NUMA node, so returning NUMA node zero. See more at https://github.com/torvalds/linux/blob/v6.0/Documentation/ABI/testing/sysfs-bus-pci#L344-L355\n",
      "2023-06-27 11:44:36.416335: I tensorflow/compiler/xla/stream_executor/cuda/cuda_gpu_executor.cc:996] successful NUMA node read from SysFS had negative value (-1), but there must be at least one NUMA node, so returning NUMA node zero. See more at https://github.com/torvalds/linux/blob/v6.0/Documentation/ABI/testing/sysfs-bus-pci#L344-L355\n",
      "2023-06-27 11:44:37.334830: I tensorflow/compiler/xla/stream_executor/cuda/cuda_gpu_executor.cc:996] successful NUMA node read from SysFS had negative value (-1), but there must be at least one NUMA node, so returning NUMA node zero. See more at https://github.com/torvalds/linux/blob/v6.0/Documentation/ABI/testing/sysfs-bus-pci#L344-L355\n",
      "2023-06-27 11:44:37.334936: I tensorflow/compiler/xla/stream_executor/cuda/cuda_gpu_executor.cc:996] successful NUMA node read from SysFS had negative value (-1), but there must be at least one NUMA node, so returning NUMA node zero. See more at https://github.com/torvalds/linux/blob/v6.0/Documentation/ABI/testing/sysfs-bus-pci#L344-L355\n",
      "2023-06-27 11:44:37.334985: I tensorflow/compiler/xla/stream_executor/cuda/cuda_gpu_executor.cc:996] successful NUMA node read from SysFS had negative value (-1), but there must be at least one NUMA node, so returning NUMA node zero. See more at https://github.com/torvalds/linux/blob/v6.0/Documentation/ABI/testing/sysfs-bus-pci#L344-L355\n",
      "2023-06-27 11:44:37.335030: I tensorflow/core/common_runtime/gpu/gpu_device.cc:1635] Created device /job:localhost/replica:0/task:0/device:GPU:0 with 7425 MB memory:  -> device: 0, name: NVIDIA GeForce RTX 3080, pci bus id: 0000:01:00.0, compute capability: 8.6\n"
     ]
    }
   ],
   "source": [
    "model = tf.keras.Sequential()"
   ]
  },
  {
   "cell_type": "code",
   "execution_count": 32,
   "id": "b2e8c3ba",
   "metadata": {},
   "outputs": [],
   "source": [
    "model = tf.keras.Sequential()\n",
    "model.add(tf.keras.layers.Embedding(max_word, 50, input_length=maxlen))\n",
    "model.add(tf.keras.layers.Conv1D(32, 7, activation='relu', padding='same'))\n",
    "model.add(tf.keras.layers.MaxPooling1D(3))\n",
    "model.add(tf.keras.layers.Conv1D(32, 7, activation='relu', padding='same'))\n",
    "model.add(tf.keras.layers.GlobalAveragePooling1D())\n",
    "model.add(tf.keras.layers.Dense(1, activation='sigmoid'))"
   ]
  },
  {
   "cell_type": "code",
   "execution_count": 33,
   "id": "5b43a2e0",
   "metadata": {
    "scrolled": false
   },
   "outputs": [
    {
     "name": "stdout",
     "output_type": "stream",
     "text": [
      "Model: \"sequential_1\"\n",
      "_________________________________________________________________\n",
      " Layer (type)                Output Shape              Param #   \n",
      "=================================================================\n",
      " embedding (Embedding)       (None, 14262, 50)         25400     \n",
      "                                                                 \n",
      " conv1d (Conv1D)             (None, 14262, 32)         11232     \n",
      "                                                                 \n",
      " max_pooling1d (MaxPooling1D  (None, 4754, 32)         0         \n",
      " )                                                               \n",
      "                                                                 \n",
      " conv1d_1 (Conv1D)           (None, 4754, 32)          7200      \n",
      "                                                                 \n",
      " global_average_pooling1d (G  (None, 32)               0         \n",
      " lobalAveragePooling1D)                                          \n",
      "                                                                 \n",
      " dense (Dense)               (None, 1)                 33        \n",
      "                                                                 \n",
      "=================================================================\n",
      "Total params: 43,865\n",
      "Trainable params: 43,865\n",
      "Non-trainable params: 0\n",
      "_________________________________________________________________\n"
     ]
    }
   ],
   "source": [
    "model.summary()"
   ]
  },
  {
   "cell_type": "code",
   "execution_count": 34,
   "id": "855af6cd",
   "metadata": {},
   "outputs": [],
   "source": [
    "model.compile(optimizer=keras.optimizers.RMSprop(),loss='binary_crossentropy',metrics=['acc'])#accuricy"
   ]
  },
  {
   "cell_type": "code",
   "execution_count": 35,
   "id": "11329deb",
   "metadata": {},
   "outputs": [
    {
     "name": "stdout",
     "output_type": "stream",
     "text": [
      "Epoch 1/10\n"
     ]
    },
    {
     "name": "stderr",
     "output_type": "stream",
     "text": [
      "2023-06-27 11:44:50.098395: I tensorflow/compiler/xla/stream_executor/cuda/cuda_dnn.cc:424] Loaded cuDNN version 8600\n",
      "2023-06-27 11:44:51.730151: I tensorflow/compiler/xla/stream_executor/cuda/cuda_blas.cc:637] TensorFloat-32 will be used for the matrix multiplication. This will only be logged once.\n",
      "2023-06-27 11:44:51.733295: I tensorflow/compiler/xla/service/service.cc:169] XLA service 0x7f422c021130 initialized for platform CUDA (this does not guarantee that XLA will be used). Devices:\n",
      "2023-06-27 11:44:51.733369: I tensorflow/compiler/xla/service/service.cc:177]   StreamExecutor device (0): NVIDIA GeForce RTX 3080, Compute Capability 8.6\n",
      "2023-06-27 11:44:51.777899: I tensorflow/compiler/mlir/tensorflow/utils/dump_mlir_util.cc:269] disabling MLIR crash reproducer, set env var `MLIR_CRASH_REPRODUCER_DIRECTORY` to enable.\n",
      "2023-06-27 11:44:52.068143: I ./tensorflow/compiler/jit/device_compiler.h:180] Compiled cluster using XLA!  This line is logged at most once for the lifetime of the process.\n"
     ]
    },
    {
     "name": "stdout",
     "output_type": "stream",
     "text": [
      "276/276 [==============================] - 22s 57ms/step - loss: 0.1621 - acc: 0.9662 - val_loss: 0.1930 - val_acc: 0.9537\n",
      "Epoch 2/10\n",
      "276/276 [==============================] - 12s 43ms/step - loss: 0.1368 - acc: 0.9698 - val_loss: 0.1897 - val_acc: 0.9537\n",
      "Epoch 3/10\n",
      "276/276 [==============================] - 12s 43ms/step - loss: 0.1366 - acc: 0.9698 - val_loss: 0.1896 - val_acc: 0.9537\n",
      "Epoch 4/10\n",
      "276/276 [==============================] - 12s 43ms/step - loss: 0.1365 - acc: 0.9698 - val_loss: 0.1935 - val_acc: 0.9537\n",
      "Epoch 5/10\n",
      "276/276 [==============================] - 12s 42ms/step - loss: 0.1367 - acc: 0.9698 - val_loss: 0.2018 - val_acc: 0.9537\n",
      "Epoch 6/10\n",
      "276/276 [==============================] - 12s 42ms/step - loss: 0.1367 - acc: 0.9698 - val_loss: 0.1875 - val_acc: 0.9537\n",
      "Epoch 7/10\n",
      "276/276 [==============================] - 12s 43ms/step - loss: 0.1364 - acc: 0.9698 - val_loss: 0.1914 - val_acc: 0.9537\n",
      "Epoch 8/10\n",
      "276/276 [==============================] - 12s 42ms/step - loss: 0.1365 - acc: 0.9698 - val_loss: 0.1981 - val_acc: 0.9537\n",
      "Epoch 9/10\n",
      "276/276 [==============================] - 12s 42ms/step - loss: 0.1364 - acc: 0.9698 - val_loss: 0.1909 - val_acc: 0.9537\n",
      "Epoch 10/10\n",
      "276/276 [==============================] - 12s 42ms/step - loss: 0.1365 - acc: 0.9698 - val_loss: 0.1888 - val_acc: 0.9537\n"
     ]
    }
   ],
   "source": [
    "history=model.fit(data_ok,y,epochs=10, batch_size=128, validation_split=0.2)"
   ]
  },
  {
   "cell_type": "code",
   "execution_count": null,
   "id": "edc7f6c3",
   "metadata": {},
   "outputs": [],
   "source": [
    "history.history.keys()"
   ]
  },
  {
   "cell_type": "code",
   "execution_count": null,
   "id": "a9e957f2",
   "metadata": {},
   "outputs": [],
   "source": [
    "plt.plot(history.epoch,history.history.get('loss'))"
   ]
  },
  {
   "cell_type": "code",
   "execution_count": null,
   "id": "02adce25",
   "metadata": {},
   "outputs": [],
   "source": [
    "model.evaluate"
   ]
  },
  {
   "cell_type": "code",
   "execution_count": null,
   "id": "90be8f2a",
   "metadata": {},
   "outputs": [],
   "source": [
    "#for test data"
   ]
  },
  {
   "cell_type": "code",
   "execution_count": 36,
   "id": "3e61e38c",
   "metadata": {},
   "outputs": [],
   "source": [
    "test_data=pd.read_csv('./torch-testdata.csv')"
   ]
  },
  {
   "cell_type": "code",
   "execution_count": 39,
   "id": "9a5a8294",
   "metadata": {},
   "outputs": [],
   "source": [
    "test_data['combintedString']=test_data[['API Name','Parameters']].apply(lambda x : '{}{}'.format(x[0],x[1]), axis=1)"
   ]
  },
  {
   "cell_type": "code",
   "execution_count": 40,
   "id": "ba9cb2a7",
   "metadata": {},
   "outputs": [],
   "source": [
    "test_data['text'] = test_data.combintedString.apply(reg_text)"
   ]
  },
  {
   "cell_type": "code",
   "execution_count": 41,
   "id": "021d9453",
   "metadata": {},
   "outputs": [],
   "source": [
    "data_test_ok = test_data.text.apply(lambda x: [word_index.get(word, 0) for word in x])"
   ]
  },
  {
   "cell_type": "code",
   "execution_count": 42,
   "id": "da2a33e3",
   "metadata": {},
   "outputs": [],
   "source": [
    "data_test_ok = keras.preprocessing.sequence.pad_sequences(data_test_ok.values, maxlen=maxlen)"
   ]
  },
  {
   "cell_type": "code",
   "execution_count": 44,
   "id": "57d57a4d",
   "metadata": {},
   "outputs": [
    {
     "name": "stdout",
     "output_type": "stream",
     "text": [
      "3/3 [==============================] - 0s 3ms/step\n"
     ]
    }
   ],
   "source": [
    "predict=model.predict(data_test_ok)"
   ]
  },
  {
   "cell_type": "code",
   "execution_count": 45,
   "id": "bfe23f54",
   "metadata": {
    "scrolled": true
   },
   "outputs": [
    {
     "data": {
      "text/plain": [
       "array([[0.9635039 ],\n",
       "       [0.96348554],\n",
       "       [0.96349293],\n",
       "       [0.96376616],\n",
       "       [0.9636483 ],\n",
       "       [0.96356344],\n",
       "       [0.96349585],\n",
       "       [0.9636045 ],\n",
       "       [0.96378917],\n",
       "       [0.9636434 ],\n",
       "       [0.96356344],\n",
       "       [0.96356344],\n",
       "       [0.96349794],\n",
       "       [0.96351683],\n",
       "       [0.9635655 ],\n",
       "       [0.96357906],\n",
       "       [0.9635027 ],\n",
       "       [0.9635587 ],\n",
       "       [0.9636115 ],\n",
       "       [0.96355814],\n",
       "       [0.9635527 ],\n",
       "       [0.96355826],\n",
       "       [0.96349496],\n",
       "       [0.9635655 ],\n",
       "       [0.96365076],\n",
       "       [0.9635702 ],\n",
       "       [0.9637082 ],\n",
       "       [0.9634915 ],\n",
       "       [0.96366686],\n",
       "       [0.96355915],\n",
       "       [0.96381706],\n",
       "       [0.9636483 ],\n",
       "       [0.96357286],\n",
       "       [0.9635745 ],\n",
       "       [0.96349794],\n",
       "       [0.96358705],\n",
       "       [0.9634136 ],\n",
       "       [0.9636023 ],\n",
       "       [0.96385574],\n",
       "       [0.96363807],\n",
       "       [0.96363807],\n",
       "       [0.9635725 ],\n",
       "       [0.96359324],\n",
       "       [0.96357393],\n",
       "       [0.9636478 ],\n",
       "       [0.96368223],\n",
       "       [0.96349174],\n",
       "       [0.96364516],\n",
       "       [0.96363807],\n",
       "       [0.96349305],\n",
       "       [0.96356344],\n",
       "       [0.9636683 ],\n",
       "       [0.9635846 ],\n",
       "       [0.96363807],\n",
       "       [0.96369815],\n",
       "       [0.96355605],\n",
       "       [0.96349585],\n",
       "       [0.96349496],\n",
       "       [0.96349794],\n",
       "       [0.96349794],\n",
       "       [0.96355814],\n",
       "       [0.96366626],\n",
       "       [0.96356344],\n",
       "       [0.9635028 ],\n",
       "       [0.963515  ],\n",
       "       [0.9636542 ],\n",
       "       [0.96361524],\n",
       "       [0.9635708 ],\n",
       "       [0.96351075],\n",
       "       [0.96355814],\n",
       "       [0.96348697],\n",
       "       [0.9636683 ],\n",
       "       [0.96359134],\n",
       "       [0.9635638 ],\n",
       "       [0.96350324],\n",
       "       [0.96349394],\n",
       "       [0.9636483 ],\n",
       "       [0.96355915],\n",
       "       [0.9636723 ],\n",
       "       [0.96375763],\n",
       "       [0.9634938 ],\n",
       "       [0.96355814],\n",
       "       [0.96348697],\n",
       "       [0.9635931 ],\n",
       "       [0.9635714 ],\n",
       "       [0.9635029 ],\n",
       "       [0.9639092 ],\n",
       "       [0.96349794],\n",
       "       [0.9634996 ],\n",
       "       [0.96349794],\n",
       "       [0.96356034],\n",
       "       [0.96349794],\n",
       "       [0.9637987 ],\n",
       "       [0.96395606]], dtype=float32)"
      ]
     },
     "execution_count": 45,
     "metadata": {},
     "output_type": "execute_result"
    }
   ],
   "source": [
    "predict"
   ]
  },
  {
   "cell_type": "code",
   "execution_count": 62,
   "id": "874d466f",
   "metadata": {},
   "outputs": [
    {
     "name": "stdout",
     "output_type": "stream",
     "text": [
      "22\n"
     ]
    }
   ],
   "source": [
    "bug_count=0\n",
    "nonbug_count=0\n",
    "for numbers in predict:\n",
    "    if numbers[0]>0.9635:\n",
    "        nonbug_count+=1\n",
    "    else:\n",
    "        bug_count+=1\n",
    "print(bug_count)"
   ]
  },
  {
   "cell_type": "code",
   "execution_count": 64,
   "id": "f876fa58",
   "metadata": {},
   "outputs": [],
   "source": [
    "labels = []\n",
    "\n",
    "for prob in predict:\n",
    "    if prob >= 0.9635:\n",
    "        labels.append(\"success\")\n",
    "    else:\n",
    "        labels.append(\"fail\")\n",
    "test_data[\"Label\"]=labels\n",
    "test_data.to_csv('./outputdata.csv')"
   ]
  },
  {
   "cell_type": "code",
   "execution_count": null,
   "id": "fb0e69a6",
   "metadata": {},
   "outputs": [],
   "source": []
  }
 ],
 "metadata": {
  "kernelspec": {
   "display_name": "Python 3 (ipykernel)",
   "language": "python",
   "name": "python3"
  },
  "language_info": {
   "codemirror_mode": {
    "name": "ipython",
    "version": 3
   },
   "file_extension": ".py",
   "mimetype": "text/x-python",
   "name": "python",
   "nbconvert_exporter": "python",
   "pygments_lexer": "ipython3",
   "version": "3.10.9"
  }
 },
 "nbformat": 4,
 "nbformat_minor": 5
}
