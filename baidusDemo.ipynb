{
 "cells": [
  {
   "cell_type": "code",
   "execution_count": 1,
   "id": "53f16289",
   "metadata": {
    "scrolled": true
   },
   "outputs": [
    {
     "name": "stderr",
     "output_type": "stream",
     "text": [
      "2023-06-28 11:13:19.347805: I tensorflow/core/util/port.cc:110] oneDNN custom operations are on. You may see slightly different numerical results due to floating-point round-off errors from different computation orders. To turn them off, set the environment variable `TF_ENABLE_ONEDNN_OPTS=0`.\n",
      "2023-06-28 11:13:19.688463: I tensorflow/core/platform/cpu_feature_guard.cc:182] This TensorFlow binary is optimized to use available CPU instructions in performance-critical operations.\n",
      "To enable the following instructions: AVX2 AVX_VNNI FMA, in other operations, rebuild TensorFlow with the appropriate compiler flags.\n",
      "2023-06-28 11:13:20.449012: W tensorflow/compiler/tf2tensorrt/utils/py_utils.cc:38] TF-TRT Warning: Could not find TensorRT\n"
     ]
    }
   ],
   "source": [
    "import tensorflow as tf"
   ]
  },
  {
   "cell_type": "code",
   "execution_count": 2,
   "id": "9415d5f3",
   "metadata": {},
   "outputs": [],
   "source": [
    "from tensorflow import keras"
   ]
  },
  {
   "cell_type": "code",
   "execution_count": 3,
   "id": "08171ce2",
   "metadata": {},
   "outputs": [],
   "source": [
    "import pandas as pd\n",
    "import numpy as np\n",
    "import matplotlib.pyplot as plt"
   ]
  },
  {
   "cell_type": "code",
   "execution_count": 5,
   "id": "1fdfa67a",
   "metadata": {},
   "outputs": [],
   "source": [
    "data=pd.read_csv('balenced_torch_data.csv')"
   ]
  },
  {
   "cell_type": "code",
   "execution_count": 6,
   "id": "871d3744",
   "metadata": {},
   "outputs": [
    {
     "data": {
      "text/html": [
       "<div>\n",
       "<style scoped>\n",
       "    .dataframe tbody tr th:only-of-type {\n",
       "        vertical-align: middle;\n",
       "    }\n",
       "\n",
       "    .dataframe tbody tr th {\n",
       "        vertical-align: top;\n",
       "    }\n",
       "\n",
       "    .dataframe thead th {\n",
       "        text-align: right;\n",
       "    }\n",
       "</style>\n",
       "<table border=\"1\" class=\"dataframe\">\n",
       "  <thead>\n",
       "    <tr style=\"text-align: right;\">\n",
       "      <th></th>\n",
       "      <th>API Name</th>\n",
       "      <th>Parameters</th>\n",
       "      <th>Test case</th>\n",
       "      <th>Label</th>\n",
       "    </tr>\n",
       "  </thead>\n",
       "  <tbody>\n",
       "    <tr>\n",
       "      <th>0</th>\n",
       "      <td>torch.randint</td>\n",
       "      <td>arg_0 = 3\\narg_1_0 = 4\\narg_1_1 = 3\\narg_1_2 =...</td>\n",
       "      <td>v1.8.0/cuda-oracle/potential-bug/torch.randint...</td>\n",
       "      <td>bug</td>\n",
       "    </tr>\n",
       "    <tr>\n",
       "      <th>1</th>\n",
       "      <td>torch.unique</td>\n",
       "      <td>arg_0_tensor = torch.rand([4], dtype=torch.flo...</td>\n",
       "      <td>v1.8.0/cuda-oracle/potential-bug/torch.unique/...</td>\n",
       "      <td>bug</td>\n",
       "    </tr>\n",
       "    <tr>\n",
       "      <th>2</th>\n",
       "      <td>torch.rand</td>\n",
       "      <td>arg_0 = 20\\narg_1 = 16\\narg_2 = 4\\narg_3 = 32\\...</td>\n",
       "      <td>v1.8.0/cuda-oracle/potential-bug/torch.rand/2.py</td>\n",
       "      <td>bug</td>\n",
       "    </tr>\n",
       "    <tr>\n",
       "      <th>3</th>\n",
       "      <td>torch.diag_embed</td>\n",
       "      <td>arg_0_tensor = torch.randint(0,2,[0], dtype=to...</td>\n",
       "      <td>v1.8.0/cuda-oracle/success/torch.diag_embed/22.py</td>\n",
       "      <td>success</td>\n",
       "    </tr>\n",
       "    <tr>\n",
       "      <th>4</th>\n",
       "      <td>torch.randperm</td>\n",
       "      <td>arg_0 = 2901\\ngenerator = None\\n</td>\n",
       "      <td>v1.8.0/cuda-oracle/potential-bug/torch.randper...</td>\n",
       "      <td>bug</td>\n",
       "    </tr>\n",
       "  </tbody>\n",
       "</table>\n",
       "</div>"
      ],
      "text/plain": [
       "           API Name                                         Parameters  \\\n",
       "0     torch.randint  arg_0 = 3\\narg_1_0 = 4\\narg_1_1 = 3\\narg_1_2 =...   \n",
       "1      torch.unique  arg_0_tensor = torch.rand([4], dtype=torch.flo...   \n",
       "2        torch.rand  arg_0 = 20\\narg_1 = 16\\narg_2 = 4\\narg_3 = 32\\...   \n",
       "3  torch.diag_embed  arg_0_tensor = torch.randint(0,2,[0], dtype=to...   \n",
       "4    torch.randperm                   arg_0 = 2901\\ngenerator = None\\n   \n",
       "\n",
       "                                           Test case    Label  \n",
       "0  v1.8.0/cuda-oracle/potential-bug/torch.randint...      bug  \n",
       "1  v1.8.0/cuda-oracle/potential-bug/torch.unique/...      bug  \n",
       "2   v1.8.0/cuda-oracle/potential-bug/torch.rand/2.py      bug  \n",
       "3  v1.8.0/cuda-oracle/success/torch.diag_embed/22.py  success  \n",
       "4  v1.8.0/cuda-oracle/potential-bug/torch.randper...      bug  "
      ]
     },
     "execution_count": 6,
     "metadata": {},
     "output_type": "execute_result"
    }
   ],
   "source": [
    "data.head()"
   ]
  },
  {
   "cell_type": "code",
   "execution_count": 7,
   "id": "a71b9d4d",
   "metadata": {},
   "outputs": [
    {
     "name": "stdout",
     "output_type": "stream",
     "text": [
      "<class 'pandas.core.frame.DataFrame'>\n",
      "RangeIndex: 2954 entries, 0 to 2953\n",
      "Data columns (total 4 columns):\n",
      " #   Column      Non-Null Count  Dtype \n",
      "---  ------      --------------  ----- \n",
      " 0   API Name    2954 non-null   object\n",
      " 1   Parameters  2722 non-null   object\n",
      " 2   Test case   2954 non-null   object\n",
      " 3   Label       2954 non-null   object\n",
      "dtypes: object(4)\n",
      "memory usage: 92.4+ KB\n"
     ]
    }
   ],
   "source": [
    "data.info()"
   ]
  },
  {
   "cell_type": "code",
   "execution_count": 8,
   "id": "86933ba0",
   "metadata": {},
   "outputs": [
    {
     "data": {
      "text/plain": [
       "bug        1477\n",
       "success    1477\n",
       "Name: Label, dtype: int64"
      ]
     },
     "execution_count": 8,
     "metadata": {},
     "output_type": "execute_result"
    }
   ],
   "source": [
    "data.iloc[:,-1].value_counts()"
   ]
  },
  {
   "cell_type": "code",
   "execution_count": 9,
   "id": "ab32bd2f",
   "metadata": {},
   "outputs": [
    {
     "data": {
      "text/plain": [
       "0    v1.8.0/cuda-oracle/potential-bug/torch.randint...\n",
       "1    v1.8.0/cuda-oracle/potential-bug/torch.unique/...\n",
       "2     v1.8.0/cuda-oracle/potential-bug/torch.rand/2.py\n",
       "3    v1.8.0/cuda-oracle/success/torch.diag_embed/22.py\n",
       "4    v1.8.0/cuda-oracle/potential-bug/torch.randper...\n",
       "Name: Test case, dtype: object"
      ]
     },
     "execution_count": 9,
     "metadata": {},
     "output_type": "execute_result"
    }
   ],
   "source": [
    "data.iloc[:, -2].head()"
   ]
  },
  {
   "cell_type": "code",
   "execution_count": 10,
   "id": "3e5dd8e8",
   "metadata": {},
   "outputs": [
    {
     "data": {
      "text/plain": [
       "0    0\n",
       "1    0\n",
       "2    0\n",
       "3    1\n",
       "4    0\n",
       "Name: Label, dtype: int64"
      ]
     },
     "execution_count": 10,
     "metadata": {},
     "output_type": "execute_result"
    }
   ],
   "source": [
    "data.iloc[:, -1].replace(\"success\",1).replace(\"bug\",0).head()"
   ]
  },
  {
   "cell_type": "code",
   "execution_count": 11,
   "id": "0dc5eec1",
   "metadata": {},
   "outputs": [],
   "source": [
    "data['combintedString']=data[['API Name','Parameters']].apply(lambda x : '{}{}'.format(x[0],x[1]), axis=1)"
   ]
  },
  {
   "cell_type": "code",
   "execution_count": 12,
   "id": "9451d108",
   "metadata": {},
   "outputs": [
    {
     "data": {
      "text/html": [
       "<div>\n",
       "<style scoped>\n",
       "    .dataframe tbody tr th:only-of-type {\n",
       "        vertical-align: middle;\n",
       "    }\n",
       "\n",
       "    .dataframe tbody tr th {\n",
       "        vertical-align: top;\n",
       "    }\n",
       "\n",
       "    .dataframe thead th {\n",
       "        text-align: right;\n",
       "    }\n",
       "</style>\n",
       "<table border=\"1\" class=\"dataframe\">\n",
       "  <thead>\n",
       "    <tr style=\"text-align: right;\">\n",
       "      <th></th>\n",
       "      <th>API Name</th>\n",
       "      <th>Parameters</th>\n",
       "      <th>Test case</th>\n",
       "      <th>Label</th>\n",
       "      <th>combintedString</th>\n",
       "    </tr>\n",
       "  </thead>\n",
       "  <tbody>\n",
       "    <tr>\n",
       "      <th>0</th>\n",
       "      <td>torch.randint</td>\n",
       "      <td>arg_0 = 3\\narg_1_0 = 4\\narg_1_1 = 3\\narg_1_2 =...</td>\n",
       "      <td>v1.8.0/cuda-oracle/potential-bug/torch.randint...</td>\n",
       "      <td>bug</td>\n",
       "      <td>torch.randintarg_0 = 3\\narg_1_0 = 4\\narg_1_1 =...</td>\n",
       "    </tr>\n",
       "    <tr>\n",
       "      <th>1</th>\n",
       "      <td>torch.unique</td>\n",
       "      <td>arg_0_tensor = torch.rand([4], dtype=torch.flo...</td>\n",
       "      <td>v1.8.0/cuda-oracle/potential-bug/torch.unique/...</td>\n",
       "      <td>bug</td>\n",
       "      <td>torch.uniquearg_0_tensor = torch.rand([4], dty...</td>\n",
       "    </tr>\n",
       "    <tr>\n",
       "      <th>2</th>\n",
       "      <td>torch.rand</td>\n",
       "      <td>arg_0 = 20\\narg_1 = 16\\narg_2 = 4\\narg_3 = 32\\...</td>\n",
       "      <td>v1.8.0/cuda-oracle/potential-bug/torch.rand/2.py</td>\n",
       "      <td>bug</td>\n",
       "      <td>torch.randarg_0 = 20\\narg_1 = 16\\narg_2 = 4\\na...</td>\n",
       "    </tr>\n",
       "    <tr>\n",
       "      <th>3</th>\n",
       "      <td>torch.diag_embed</td>\n",
       "      <td>arg_0_tensor = torch.randint(0,2,[0], dtype=to...</td>\n",
       "      <td>v1.8.0/cuda-oracle/success/torch.diag_embed/22.py</td>\n",
       "      <td>success</td>\n",
       "      <td>torch.diag_embedarg_0_tensor = torch.randint(0...</td>\n",
       "    </tr>\n",
       "    <tr>\n",
       "      <th>4</th>\n",
       "      <td>torch.randperm</td>\n",
       "      <td>arg_0 = 2901\\ngenerator = None\\n</td>\n",
       "      <td>v1.8.0/cuda-oracle/potential-bug/torch.randper...</td>\n",
       "      <td>bug</td>\n",
       "      <td>torch.randpermarg_0 = 2901\\ngenerator = None\\n</td>\n",
       "    </tr>\n",
       "  </tbody>\n",
       "</table>\n",
       "</div>"
      ],
      "text/plain": [
       "           API Name                                         Parameters  \\\n",
       "0     torch.randint  arg_0 = 3\\narg_1_0 = 4\\narg_1_1 = 3\\narg_1_2 =...   \n",
       "1      torch.unique  arg_0_tensor = torch.rand([4], dtype=torch.flo...   \n",
       "2        torch.rand  arg_0 = 20\\narg_1 = 16\\narg_2 = 4\\narg_3 = 32\\...   \n",
       "3  torch.diag_embed  arg_0_tensor = torch.randint(0,2,[0], dtype=to...   \n",
       "4    torch.randperm                   arg_0 = 2901\\ngenerator = None\\n   \n",
       "\n",
       "                                           Test case    Label  \\\n",
       "0  v1.8.0/cuda-oracle/potential-bug/torch.randint...      bug   \n",
       "1  v1.8.0/cuda-oracle/potential-bug/torch.unique/...      bug   \n",
       "2   v1.8.0/cuda-oracle/potential-bug/torch.rand/2.py      bug   \n",
       "3  v1.8.0/cuda-oracle/success/torch.diag_embed/22.py  success   \n",
       "4  v1.8.0/cuda-oracle/potential-bug/torch.randper...      bug   \n",
       "\n",
       "                                     combintedString  \n",
       "0  torch.randintarg_0 = 3\\narg_1_0 = 4\\narg_1_1 =...  \n",
       "1  torch.uniquearg_0_tensor = torch.rand([4], dty...  \n",
       "2  torch.randarg_0 = 20\\narg_1 = 16\\narg_2 = 4\\na...  \n",
       "3  torch.diag_embedarg_0_tensor = torch.randint(0...  \n",
       "4     torch.randpermarg_0 = 2901\\ngenerator = None\\n  "
      ]
     },
     "execution_count": 12,
     "metadata": {},
     "output_type": "execute_result"
    }
   ],
   "source": [
    "data.head()"
   ]
  },
  {
   "cell_type": "code",
   "execution_count": 13,
   "id": "40836d4d",
   "metadata": {},
   "outputs": [],
   "source": [
    "x=data.iloc[:, -1]\n",
    "y=data.iloc[:, -2].replace(\"success\",1).replace(\"bug\",0)"
   ]
  },
  {
   "cell_type": "code",
   "execution_count": 14,
   "id": "10a94320",
   "metadata": {},
   "outputs": [
    {
     "data": {
      "text/plain": [
       "(2954,)"
      ]
     },
     "execution_count": 14,
     "metadata": {},
     "output_type": "execute_result"
    }
   ],
   "source": [
    "x.shape"
   ]
  },
  {
   "cell_type": "code",
   "execution_count": 15,
   "id": "b1ce8029",
   "metadata": {},
   "outputs": [],
   "source": [
    "import re"
   ]
  },
  {
   "cell_type": "code",
   "execution_count": 16,
   "id": "f65d56a3",
   "metadata": {},
   "outputs": [],
   "source": [
    "token = re.compile('[A-Za-z]+|[!?,.()]')"
   ]
  },
  {
   "cell_type": "code",
   "execution_count": 17,
   "id": "164c3a4f",
   "metadata": {},
   "outputs": [],
   "source": [
    "def reg_text(text):\n",
    "    new_text = token.findall(text)\n",
    "    new_text = [word.lower() for word in new_text]\n",
    "    return new_text"
   ]
  },
  {
   "cell_type": "code",
   "execution_count": 18,
   "id": "b563e5c0",
   "metadata": {},
   "outputs": [],
   "source": [
    "data['text'] = data.combintedString.apply(reg_text)"
   ]
  },
  {
   "cell_type": "code",
   "execution_count": 19,
   "id": "028ce8e4",
   "metadata": {},
   "outputs": [],
   "source": [
    "word_set = set()\n",
    "for text in data.text:\n",
    "    for word in text:\n",
    "        word_set.add(word) "
   ]
  },
  {
   "cell_type": "code",
   "execution_count": 20,
   "id": "24d7d9b2",
   "metadata": {},
   "outputs": [
    {
     "data": {
      "text/plain": [
       "485"
      ]
     },
     "execution_count": 20,
     "metadata": {},
     "output_type": "execute_result"
    }
   ],
   "source": [
    "max_word = len(word_set) + 1\n",
    "max_word"
   ]
  },
  {
   "cell_type": "code",
   "execution_count": 21,
   "id": "2d2be945",
   "metadata": {},
   "outputs": [],
   "source": [
    "word_list = list(word_set)"
   ]
  },
  {
   "cell_type": "code",
   "execution_count": 22,
   "id": "ef117da5",
   "metadata": {},
   "outputs": [
    {
     "data": {
      "text/plain": [
       "111"
      ]
     },
     "execution_count": 22,
     "metadata": {},
     "output_type": "execute_result"
    }
   ],
   "source": [
    "word_list.index('arg')"
   ]
  },
  {
   "cell_type": "code",
   "execution_count": 23,
   "id": "96d05220",
   "metadata": {},
   "outputs": [],
   "source": [
    "word_index =  dict((word, word_list.index(word) + 1) for word in word_list)"
   ]
  },
  {
   "cell_type": "code",
   "execution_count": 24,
   "id": "685dc3a0",
   "metadata": {},
   "outputs": [
    {
     "data": {
      "text/plain": [
       "{'min': 1,\n",
       " 'distarg': 2,\n",
       " 'atleast': 3,\n",
       " 'thresholdarg': 4,\n",
       " 'histcarg': 5,\n",
       " 'reflect': 6,\n",
       " 'geluarg': 7,\n",
       " 'tril': 8,\n",
       " 'poissonnlllossnan': 9,\n",
       " 'pinversearg': 10,\n",
       " 'softshrinkarg': 11,\n",
       " 'momentum': 12,\n",
       " 'exparg': 13,\n",
       " 'randint': 14,\n",
       " 'hstackarg': 15,\n",
       " 'xlogyarg': 16,\n",
       " 'dstackarg': 17,\n",
       " 'fracarg': 18,\n",
       " ',': 19,\n",
       " 'bilinear': 20,\n",
       " 'sinarg': 21,\n",
       " 'multiheadattentionarg': 22,\n",
       " 'slogdetarg': 23,\n",
       " 'conv': 24,\n",
       " 'set': 25,\n",
       " 'type': 26,\n",
       " 'pairwise': 27,\n",
       " 'rand': 28,\n",
       " 'flattenarg': 29,\n",
       " 'eps': 30,\n",
       " 'absarg': 31,\n",
       " 'logitarg': 32,\n",
       " 'tensorsarg': 33,\n",
       " 'catarg': 34,\n",
       " 'fliparg': 35,\n",
       " 'hardshrinknan': 36,\n",
       " 'flattennan': 37,\n",
       " 'baddbmmarg': 38,\n",
       " 'soft': 39,\n",
       " 'bool': 40,\n",
       " 'identitynan': 41,\n",
       " 'training': 42,\n",
       " 'selunan': 43,\n",
       " 'dtype': 44,\n",
       " 'bm': 45,\n",
       " 'view': 46,\n",
       " 'promote': 47,\n",
       " 'tanharg': 48,\n",
       " 'int': 49,\n",
       " 'triangular': 50,\n",
       " 'logaddexparg': 51,\n",
       " 'clone': 52,\n",
       " 'addcdivarg': 53,\n",
       " 'hypotarg': 54,\n",
       " 'nansumarg': 55,\n",
       " 'p': 56,\n",
       " 'meanarg': 57,\n",
       " 'generator': 58,\n",
       " 'with': 59,\n",
       " 'reciprocalarg': 60,\n",
       " 'avg': 61,\n",
       " 'num': 62,\n",
       " 'lgammaarg': 63,\n",
       " 'divarg': 64,\n",
       " 'layer': 65,\n",
       " 'chunkarg': 66,\n",
       " 'kronarg': 67,\n",
       " 'swapaxesarg': 68,\n",
       " 'erfinvarg': 69,\n",
       " 'tensordotarg': 70,\n",
       " 'softmaxdim': 71,\n",
       " 'rot': 72,\n",
       " 'truncarg': 73,\n",
       " 'mean': 74,\n",
       " 'avgpool': 75,\n",
       " 'fill': 76,\n",
       " 'upsamplingnearest': 77,\n",
       " 'conjarg': 78,\n",
       " 'indicesarg': 79,\n",
       " 'polygammaarg': 80,\n",
       " 'kthvaluearg': 81,\n",
       " 'bitwise': 82,\n",
       " 'silunan': 83,\n",
       " 'eyearg': 84,\n",
       " 'as': 85,\n",
       " 'norm': 86,\n",
       " 'preluarg': 87,\n",
       " 'triu': 88,\n",
       " 'l': 89,\n",
       " 'sum': 90,\n",
       " 'detarg': 91,\n",
       " 'erfcarg': 92,\n",
       " 'pool': 93,\n",
       " 'addarg': 94,\n",
       " 'infos': 95,\n",
       " 'argument': 96,\n",
       " 'batch': 97,\n",
       " 'margin': 98,\n",
       " 'out': 99,\n",
       " 'bins': 100,\n",
       " 'nanmedianarg': 101,\n",
       " 'parg': 102,\n",
       " 'coo': 103,\n",
       " 'scatterarg': 104,\n",
       " 'ltarg': 105,\n",
       " 'normalarg': 106,\n",
       " 'gtarg': 107,\n",
       " 'input': 108,\n",
       " 'mvlgammaarg': 109,\n",
       " 'return': 110,\n",
       " 'clip': 111,\n",
       " 'arg': 112,\n",
       " 'pixelshufflearg': 113,\n",
       " 'randn': 114,\n",
       " 'dim': 115,\n",
       " 'alphadropoutp': 116,\n",
       " 'embeddingarg': 117,\n",
       " 'inverse': 118,\n",
       " 'output': 119,\n",
       " 'offset': 120,\n",
       " 'nlllossnan': 121,\n",
       " ')': 122,\n",
       " 'contiguous': 123,\n",
       " 'multilabelmarginlossnan': 124,\n",
       " 'gcdarg': 125,\n",
       " 'entropy': 126,\n",
       " 'rad': 127,\n",
       " 'anm': 128,\n",
       " 'ratio': 129,\n",
       " 'indicesrow': 130,\n",
       " 'max': 131,\n",
       " 'is': 132,\n",
       " 'ceilarg': 133,\n",
       " 'choleskyarg': 134,\n",
       " 'counts': 135,\n",
       " 'isnanarg': 136,\n",
       " 'gatherarg': 137,\n",
       " 'hardtanharg': 138,\n",
       " 'reduction': 139,\n",
       " 'binary': 140,\n",
       " 'acosharg': 141,\n",
       " 'hardsigmoidnan': 142,\n",
       " 'eigenvectors': 143,\n",
       " 'lstmarg': 144,\n",
       " 'typesarg': 145,\n",
       " 'response': 146,\n",
       " 'value': 147,\n",
       " 'qrarg': 148,\n",
       " 'trilarg': 149,\n",
       " 'cross': 150,\n",
       " 'maxunpool': 151,\n",
       " 'logcumsumexparg': 152,\n",
       " 'targ': 153,\n",
       " 'constantpad': 154,\n",
       " 'leakyreluarg': 155,\n",
       " 'selectarg': 156,\n",
       " 'vstackarg': 157,\n",
       " 'logarg': 158,\n",
       " 'lineararg': 159,\n",
       " 'hidden': 160,\n",
       " 'logdetarg': 161,\n",
       " 'seluarg': 162,\n",
       " 'shufflearg': 163,\n",
       " 'gruinput': 164,\n",
       " 'functional': 165,\n",
       " 'reflectionpad': 166,\n",
       " 'amaxarg': 167,\n",
       " 'kernel': 168,\n",
       " 'dropout': 169,\n",
       " 'adaptivemaxpool': 170,\n",
       " 'mularg': 171,\n",
       " 'nll': 172,\n",
       " 'dropoutnan': 173,\n",
       " 'groupnormarg': 174,\n",
       " 'lp': 175,\n",
       " 'realarg': 176,\n",
       " 'tanarg': 177,\n",
       " 'eqarg': 178,\n",
       " 'ba': 179,\n",
       " 'mode': 180,\n",
       " 'triuarg': 181,\n",
       " 'digammaarg': 182,\n",
       " 'preserve': 183,\n",
       " 'tripletmarginlossmargin': 184,\n",
       " 'radarg': 185,\n",
       " 'ar': 186,\n",
       " 'channels': 187,\n",
       " 'innerarg': 188,\n",
       " 'atanarg': 189,\n",
       " 'vararg': 190,\n",
       " 'multilabel': 191,\n",
       " 'exp': 192,\n",
       " 'celunan': 193,\n",
       " 'dividearg': 194,\n",
       " 'rnn': 195,\n",
       " '(': 196,\n",
       " 'tensorarg': 197,\n",
       " 'renormarg': 198,\n",
       " 'dp': 199,\n",
       " 'inplace': 200,\n",
       " 'tuple': 201,\n",
       " 'notarg': 202,\n",
       " 'stackarg': 203,\n",
       " 'factor': 204,\n",
       " 'modearg': 205,\n",
       " 'tanhnan': 206,\n",
       " 'arangearg': 207,\n",
       " 'addmmarg': 208,\n",
       " 'cosinesimilaritydim': 209,\n",
       " 'fullarg': 210,\n",
       " 'dotarg': 211,\n",
       " 'xorarg': 212,\n",
       " 'rollarg': 213,\n",
       " 'dropoutp': 214,\n",
       " 'cumsumarg': 215,\n",
       " 'distancearg': 216,\n",
       " 'convtranspose': 217,\n",
       " 'imagarg': 218,\n",
       " 'signarg': 219,\n",
       " 'solvearg': 220,\n",
       " 'emptyarg': 221,\n",
       " 'svdarg': 222,\n",
       " 'negarg': 223,\n",
       " 'eluinplace': 224,\n",
       " 'stacklevel': 225,\n",
       " 'cumprodarg': 226,\n",
       " 'msortarg': 227,\n",
       " 'isneginfarg': 228,\n",
       " 'stride': 229,\n",
       " 'softminarg': 230,\n",
       " 'reshapearg': 231,\n",
       " 'reluarg': 232,\n",
       " 'logitsarg': 233,\n",
       " 'typearg': 234,\n",
       " 'multinomialarg': 235,\n",
       " 'parameters': 236,\n",
       " 'poisson': 237,\n",
       " 'unpool': 238,\n",
       " 'poissonarg': 239,\n",
       " 'mvarg': 240,\n",
       " 'complexarg': 241,\n",
       " 'cumminarg': 242,\n",
       " 'squeezearg': 243,\n",
       " 'cosine': 244,\n",
       " 'squarearg': 245,\n",
       " 'prodarg': 246,\n",
       " 'gruarg': 247,\n",
       " 'unused': 248,\n",
       " 'isinfarg': 249,\n",
       " 'indices': 250,\n",
       " 'rrelu': 251,\n",
       " 'eigarg': 252,\n",
       " 'get': 253,\n",
       " 'sorted': 254,\n",
       " 'einsumarg': 255,\n",
       " 'isposinfarg': 256,\n",
       " 'd': 257,\n",
       " 'sortarg': 258,\n",
       " 'consecutivearg': 259,\n",
       " 'logsigmoidnan': 260,\n",
       " 'chunks': 261,\n",
       " 'utils': 262,\n",
       " 'b': 263,\n",
       " 'logsumexparg': 264,\n",
       " 'normalizearg': 265,\n",
       " 'beta': 266,\n",
       " 'symeigarg': 267,\n",
       " 'luarg': 268,\n",
       " 'fliplrarg': 269,\n",
       " 'randpermarg': 270,\n",
       " 'swapdimsarg': 271,\n",
       " 'weight': 272,\n",
       " 'padarg': 273,\n",
       " 'index': 274,\n",
       " 'relu': 275,\n",
       " 'affine': 276,\n",
       " 'aminarg': 277,\n",
       " 'circular': 278,\n",
       " 'degarg': 279,\n",
       " 'dscale': 280,\n",
       " 'model': 281,\n",
       " 'softmax': 282,\n",
       " 'topkarg': 283,\n",
       " 'batchnorm': 284,\n",
       " 'argsortarg': 285,\n",
       " 'clonearg': 286,\n",
       " 'maxarg': 287,\n",
       " 'adaptive': 288,\n",
       " 'padding': 289,\n",
       " 'inversearg': 290,\n",
       " 'minarg': 291,\n",
       " 'subarg': 292,\n",
       " 'instance': 293,\n",
       " 'memory': 294,\n",
       " 'normarg': 295,\n",
       " 'diagonal': 296,\n",
       " 'bidirectional': 297,\n",
       " 'logical': 298,\n",
       " 'true': 299,\n",
       " 'log': 300,\n",
       " 'zeros': 301,\n",
       " 'size': 302,\n",
       " 'start': 303,\n",
       " 'transpose': 304,\n",
       " 'toarg': 305,\n",
       " 'powerarg': 306,\n",
       " 'statenan': 307,\n",
       " 'false': 308,\n",
       " 'cholesky': 309,\n",
       " 'takearg': 310,\n",
       " 'local': 311,\n",
       " 'bcewithlogitslossnan': 312,\n",
       " 'matrix': 313,\n",
       " 'addrarg': 314,\n",
       " 'narrowarg': 315,\n",
       " 'nonzeroarg': 316,\n",
       " 'rsqrtarg': 317,\n",
       " 'orarg': 318,\n",
       " 'similarityarg': 319,\n",
       " 'tor': 320,\n",
       " 'cpu': 321,\n",
       " 'nearg': 322,\n",
       " 'roundarg': 323,\n",
       " 'heavisidearg': 324,\n",
       " 'bjk': 325,\n",
       " 'bernoulliarg': 326,\n",
       " 'replicate': 327,\n",
       " 'cosarg': 328,\n",
       " 'multilabelsoftmarginlossnan': 329,\n",
       " 'addcmularg': 330,\n",
       " 'andarg': 331,\n",
       " 'nhead': 332,\n",
       " 'replacement': 333,\n",
       " 'randintarg': 334,\n",
       " 'lppool': 335,\n",
       " 'full': 336,\n",
       " 'fractionalmaxpool': 337,\n",
       " 'steps': 338,\n",
       " 'deg': 339,\n",
       " 'learg': 340,\n",
       " 'sqrtarg': 341,\n",
       " 'last': 342,\n",
       " 'pixel': 343,\n",
       " 'erfarg': 344,\n",
       " 'entropyarg': 345,\n",
       " 'atan': 346,\n",
       " 'trapzarg': 347,\n",
       " 'sigmoidarg': 348,\n",
       " 'n': 349,\n",
       " 'replicationpad': 350,\n",
       " 'minimumarg': 351,\n",
       " 'shapesarg': 352,\n",
       " 'reluinplace': 353,\n",
       " 'tensor': 354,\n",
       " 'crossarg': 355,\n",
       " 'medianarg': 356,\n",
       " 'upper': 357,\n",
       " 'siluarg': 358,\n",
       " 'maxpool': 359,\n",
       " 'bij': 360,\n",
       " 'fro': 361,\n",
       " 'nn': 362,\n",
       " 'device': 363,\n",
       " 'eluarg': 364,\n",
       " 'constant': 365,\n",
       " 'rng': 366,\n",
       " 'transformerdecoderlayerd': 367,\n",
       " 'requires': 368,\n",
       " 'leaky': 369,\n",
       " 'var': 370,\n",
       " 'maximumarg': 371,\n",
       " 'softsignnan': 372,\n",
       " 'splitarg': 373,\n",
       " 'default': 374,\n",
       " 'sigmoidnan': 375,\n",
       " 'unsqueezearg': 376,\n",
       " 'complex': 377,\n",
       " 'embedarg': 378,\n",
       " 'igammaarg': 379,\n",
       " 'scatter': 380,\n",
       " 'darg': 381,\n",
       " 'marginrankinglossnan': 382,\n",
       " 'threshold': 383,\n",
       " 'floorarg': 384,\n",
       " 'uv': 385,\n",
       " 'result': 386,\n",
       " 'floor': 387,\n",
       " 'adaptiveavgpool': 388,\n",
       " 'normalmean': 389,\n",
       " 'tanhshrinkarg': 390,\n",
       " 'gearg': 391,\n",
       " 'fullsize': 392,\n",
       " 'broadcast': 393,\n",
       " 'pos': 394,\n",
       " 'dkernel': 395,\n",
       " 'grad': 396,\n",
       " 'bcelossnan': 397,\n",
       " 'compute': 398,\n",
       " 'prelunan': 399,\n",
       " 'diagarg': 400,\n",
       " 'dropoutarg': 401,\n",
       " 'rnnbasearg': 402,\n",
       " 'gerarg': 403,\n",
       " 'largest': 404,\n",
       " 'cartesian': 405,\n",
       " 'diagonalarg': 406,\n",
       " 'uniquearg': 407,\n",
       " 'addmvarg': 408,\n",
       " 'tanhshrinknan': 409,\n",
       " 'anglearg': 410,\n",
       " 'e': 411,\n",
       " 'isrealarg': 412,\n",
       " 'ctclossnan': 413,\n",
       " 'lossarg': 414,\n",
       " 'softmaxarg': 415,\n",
       " 'likearg': 416,\n",
       " 'lstsqarg': 417,\n",
       " 'sumarg': 418,\n",
       " 'bik': 419,\n",
       " 'matmularg': 420,\n",
       " 'softplusarg': 421,\n",
       " 'torch': 422,\n",
       " 'ctc': 423,\n",
       " 'celuarg': 424,\n",
       " 'float': 425,\n",
       " 'layers': 426,\n",
       " 'lstmcellarg': 427,\n",
       " 'instancenorm': 428,\n",
       " 'signbitarg': 429,\n",
       " 'unbindarg': 430,\n",
       " 'diag': 431,\n",
       " 'flipudarg': 432,\n",
       " 'shifts': 433,\n",
       " 'lerparg': 434,\n",
       " 'ones': 435,\n",
       " 'grucellarg': 436,\n",
       " 'layernormarg': 437,\n",
       " 'format': 438,\n",
       " 'sgnarg': 439,\n",
       " 'foldarg': 440,\n",
       " 'logaddexp': 441,\n",
       " 'first': 442,\n",
       " 'block': 443,\n",
       " 'softshrinknan': 444,\n",
       " 'cdistarg': 445,\n",
       " 'fmodarg': 446,\n",
       " 'i': 447,\n",
       " 'zeropad': 448,\n",
       " 'cosharg': 449,\n",
       " 'tanh': 450,\n",
       " 'none': 451,\n",
       " 'dims': 452,\n",
       " 'sinharg': 453,\n",
       " 'randarg': 454,\n",
       " 'crossentropylossnan': 455,\n",
       " 'bn': 456,\n",
       " 'hardsigmoidarg': 457,\n",
       " 'stridedarg': 458,\n",
       " 'unique': 459,\n",
       " 'bfloat': 460,\n",
       " 'randnarg': 461,\n",
       " 'searchsortedarg': 462,\n",
       " 'rnncellarg': 463,\n",
       " 'copysignarg': 464,\n",
       " 'powarg': 465,\n",
       " 'sparse': 466,\n",
       " 'hardshrinkarg': 467,\n",
       " 'increasing': 468,\n",
       " 'softplusnan': 469,\n",
       " 'lossnan': 470,\n",
       " '.': 471,\n",
       " 'vanderarg': 472,\n",
       " 'identityarg': 473,\n",
       " 'ravelarg': 474,\n",
       " 'isfinitearg': 475,\n",
       " 'dtypearg': 476,\n",
       " 'std': 477,\n",
       " 'linspacearg': 478,\n",
       " 'bilineararg': 479,\n",
       " 'col': 480,\n",
       " 'dnan': 481,\n",
       " 'ranking': 482,\n",
       " 'rankarg': 483,\n",
       " 'uint': 484}"
      ]
     },
     "execution_count": 24,
     "metadata": {},
     "output_type": "execute_result"
    }
   ],
   "source": [
    "word_index"
   ]
  },
  {
   "cell_type": "code",
   "execution_count": 25,
   "id": "4781c228",
   "metadata": {},
   "outputs": [],
   "source": [
    "data_ok = data.text.apply(lambda x: [word_index.get(word, 0) for word in x])"
   ]
  },
  {
   "cell_type": "code",
   "execution_count": 26,
   "id": "e4a3e7d7",
   "metadata": {},
   "outputs": [
    {
     "data": {
      "text/plain": [
       "11"
      ]
     },
     "execution_count": 26,
     "metadata": {},
     "output_type": "execute_result"
    }
   ],
   "source": [
    "len(data_ok.iloc[2])"
   ]
  },
  {
   "cell_type": "code",
   "execution_count": 27,
   "id": "92411f43",
   "metadata": {},
   "outputs": [],
   "source": [
    "maxlen = max(len(x) for x in data_ok)"
   ]
  },
  {
   "cell_type": "code",
   "execution_count": 28,
   "id": "6b54ab31",
   "metadata": {},
   "outputs": [
    {
     "data": {
      "text/plain": [
       "14262"
      ]
     },
     "execution_count": 28,
     "metadata": {},
     "output_type": "execute_result"
    }
   ],
   "source": [
    "maxlen"
   ]
  },
  {
   "cell_type": "code",
   "execution_count": 29,
   "id": "196545b7",
   "metadata": {},
   "outputs": [],
   "source": [
    "data_ok = keras.preprocessing.sequence.pad_sequences(data_ok.values, maxlen=maxlen)"
   ]
  },
  {
   "cell_type": "code",
   "execution_count": 30,
   "id": "5932f12c",
   "metadata": {},
   "outputs": [
    {
     "data": {
      "text/plain": [
       "(2954, 14262)"
      ]
     },
     "execution_count": 30,
     "metadata": {},
     "output_type": "execute_result"
    }
   ],
   "source": [
    "data_ok.shape"
   ]
  },
  {
   "cell_type": "code",
   "execution_count": 31,
   "id": "07f1b8f3",
   "metadata": {},
   "outputs": [
    {
     "name": "stderr",
     "output_type": "stream",
     "text": [
      "2023-06-28 11:14:51.517204: I tensorflow/compiler/xla/stream_executor/cuda/cuda_gpu_executor.cc:996] successful NUMA node read from SysFS had negative value (-1), but there must be at least one NUMA node, so returning NUMA node zero. See more at https://github.com/torvalds/linux/blob/v6.0/Documentation/ABI/testing/sysfs-bus-pci#L344-L355\n",
      "2023-06-28 11:14:51.917677: I tensorflow/compiler/xla/stream_executor/cuda/cuda_gpu_executor.cc:996] successful NUMA node read from SysFS had negative value (-1), but there must be at least one NUMA node, so returning NUMA node zero. See more at https://github.com/torvalds/linux/blob/v6.0/Documentation/ABI/testing/sysfs-bus-pci#L344-L355\n",
      "2023-06-28 11:14:51.917777: I tensorflow/compiler/xla/stream_executor/cuda/cuda_gpu_executor.cc:996] successful NUMA node read from SysFS had negative value (-1), but there must be at least one NUMA node, so returning NUMA node zero. See more at https://github.com/torvalds/linux/blob/v6.0/Documentation/ABI/testing/sysfs-bus-pci#L344-L355\n",
      "2023-06-28 11:14:51.918547: I tensorflow/compiler/xla/stream_executor/cuda/cuda_gpu_executor.cc:996] successful NUMA node read from SysFS had negative value (-1), but there must be at least one NUMA node, so returning NUMA node zero. See more at https://github.com/torvalds/linux/blob/v6.0/Documentation/ABI/testing/sysfs-bus-pci#L344-L355\n",
      "2023-06-28 11:14:51.918619: I tensorflow/compiler/xla/stream_executor/cuda/cuda_gpu_executor.cc:996] successful NUMA node read from SysFS had negative value (-1), but there must be at least one NUMA node, so returning NUMA node zero. See more at https://github.com/torvalds/linux/blob/v6.0/Documentation/ABI/testing/sysfs-bus-pci#L344-L355\n",
      "2023-06-28 11:14:51.918662: I tensorflow/compiler/xla/stream_executor/cuda/cuda_gpu_executor.cc:996] successful NUMA node read from SysFS had negative value (-1), but there must be at least one NUMA node, so returning NUMA node zero. See more at https://github.com/torvalds/linux/blob/v6.0/Documentation/ABI/testing/sysfs-bus-pci#L344-L355\n",
      "2023-06-28 11:14:52.860018: I tensorflow/compiler/xla/stream_executor/cuda/cuda_gpu_executor.cc:996] successful NUMA node read from SysFS had negative value (-1), but there must be at least one NUMA node, so returning NUMA node zero. See more at https://github.com/torvalds/linux/blob/v6.0/Documentation/ABI/testing/sysfs-bus-pci#L344-L355\n",
      "2023-06-28 11:14:52.860117: I tensorflow/compiler/xla/stream_executor/cuda/cuda_gpu_executor.cc:996] successful NUMA node read from SysFS had negative value (-1), but there must be at least one NUMA node, so returning NUMA node zero. See more at https://github.com/torvalds/linux/blob/v6.0/Documentation/ABI/testing/sysfs-bus-pci#L344-L355\n",
      "2023-06-28 11:14:52.860165: I tensorflow/compiler/xla/stream_executor/cuda/cuda_gpu_executor.cc:996] successful NUMA node read from SysFS had negative value (-1), but there must be at least one NUMA node, so returning NUMA node zero. See more at https://github.com/torvalds/linux/blob/v6.0/Documentation/ABI/testing/sysfs-bus-pci#L344-L355\n",
      "2023-06-28 11:14:52.860210: I tensorflow/core/common_runtime/gpu/gpu_device.cc:1635] Created device /job:localhost/replica:0/task:0/device:GPU:0 with 7553 MB memory:  -> device: 0, name: NVIDIA GeForce RTX 3080, pci bus id: 0000:01:00.0, compute capability: 8.6\n"
     ]
    }
   ],
   "source": [
    "model = tf.keras.Sequential()"
   ]
  },
  {
   "cell_type": "code",
   "execution_count": 56,
   "id": "b2e8c3ba",
   "metadata": {},
   "outputs": [],
   "source": [
    "model = tf.keras.Sequential()\n",
    "model.add(tf.keras.layers.Embedding(max_word, 50, input_length=maxlen))\n",
    "model.add(tf.keras.layers.Conv1D(32, 7, activation='relu', padding='same'))\n",
    "model.add(tf.keras.layers.MaxPooling1D(3))\n",
    "model.add(tf.keras.layers.Conv1D(32, 7, activation='relu', padding='same'))\n",
    "model.add(tf.keras.layers.GlobalAveragePooling1D())\n",
    "model.add(tf.keras.layers.Dense(1, activation='sigmoid'))"
   ]
  },
  {
   "cell_type": "code",
   "execution_count": 57,
   "id": "5b43a2e0",
   "metadata": {
    "scrolled": false
   },
   "outputs": [
    {
     "name": "stdout",
     "output_type": "stream",
     "text": [
      "Model: \"sequential_5\"\n",
      "_________________________________________________________________\n",
      " Layer (type)                Output Shape              Param #   \n",
      "=================================================================\n",
      " embedding_4 (Embedding)     (None, 14262, 50)         24250     \n",
      "                                                                 \n",
      " conv1d_35 (Conv1D)          (None, 14262, 32)         11232     \n",
      "                                                                 \n",
      " max_pooling1d_13 (MaxPoolin  (None, 4754, 32)         0         \n",
      " g1D)                                                            \n",
      "                                                                 \n",
      " conv1d_36 (Conv1D)          (None, 4754, 32)          7200      \n",
      "                                                                 \n",
      " global_average_pooling1d_4   (None, 32)               0         \n",
      " (GlobalAveragePooling1D)                                        \n",
      "                                                                 \n",
      " dense_6 (Dense)             (None, 1)                 33        \n",
      "                                                                 \n",
      "=================================================================\n",
      "Total params: 42,715\n",
      "Trainable params: 42,715\n",
      "Non-trainable params: 0\n",
      "_________________________________________________________________\n"
     ]
    }
   ],
   "source": [
    "model.summary()"
   ]
  },
  {
   "cell_type": "code",
   "execution_count": 58,
   "id": "855af6cd",
   "metadata": {},
   "outputs": [],
   "source": [
    "model.compile(optimizer=keras.optimizers.RMSprop(),loss='binary_crossentropy',metrics=['acc'])#accuricy"
   ]
  },
  {
   "cell_type": "code",
   "execution_count": 60,
   "id": "11329deb",
   "metadata": {},
   "outputs": [
    {
     "name": "stdout",
     "output_type": "stream",
     "text": [
      "Epoch 1/10\n",
      "19/19 [==============================] - 1s 49ms/step - loss: 0.6933 - acc: 0.4930 - val_loss: 0.6932 - val_acc: 0.4958\n",
      "Epoch 2/10\n",
      "19/19 [==============================] - 1s 47ms/step - loss: 0.6934 - acc: 0.5011 - val_loss: 0.6930 - val_acc: 0.4958\n",
      "Epoch 3/10\n",
      "19/19 [==============================] - 1s 44ms/step - loss: 0.6933 - acc: 0.5011 - val_loss: 0.6930 - val_acc: 0.4958\n",
      "Epoch 4/10\n",
      "19/19 [==============================] - 1s 48ms/step - loss: 0.6932 - acc: 0.5011 - val_loss: 0.6929 - val_acc: 0.4958\n",
      "Epoch 5/10\n",
      "19/19 [==============================] - 1s 45ms/step - loss: 0.6932 - acc: 0.4917 - val_loss: 0.6929 - val_acc: 0.4958\n",
      "Epoch 6/10\n",
      "19/19 [==============================] - 1s 48ms/step - loss: 0.6932 - acc: 0.4909 - val_loss: 0.6929 - val_acc: 0.4958\n",
      "Epoch 7/10\n",
      "19/19 [==============================] - 1s 45ms/step - loss: 0.6931 - acc: 0.5011 - val_loss: 0.6929 - val_acc: 0.4958\n",
      "Epoch 8/10\n",
      "19/19 [==============================] - 1s 45ms/step - loss: 0.6932 - acc: 0.5015 - val_loss: 0.6928 - val_acc: 0.4958\n",
      "Epoch 9/10\n",
      "19/19 [==============================] - 1s 44ms/step - loss: 0.6931 - acc: 0.4989 - val_loss: 0.6931 - val_acc: 0.4958\n",
      "Epoch 10/10\n",
      "19/19 [==============================] - 1s 46ms/step - loss: 0.6932 - acc: 0.5032 - val_loss: 0.6928 - val_acc: 0.4958\n"
     ]
    }
   ],
   "source": [
    "history=model.fit(data_ok,y,epochs=10, batch_size=128, validation_split=0.2)"
   ]
  },
  {
   "cell_type": "code",
   "execution_count": 36,
   "id": "edc7f6c3",
   "metadata": {},
   "outputs": [
    {
     "data": {
      "text/plain": [
       "dict_keys(['loss', 'acc', 'val_loss', 'val_acc'])"
      ]
     },
     "execution_count": 36,
     "metadata": {},
     "output_type": "execute_result"
    }
   ],
   "source": [
    "history.history.keys()"
   ]
  },
  {
   "cell_type": "code",
   "execution_count": 61,
   "id": "a9e957f2",
   "metadata": {},
   "outputs": [
    {
     "data": {
      "text/plain": [
       "[<matplotlib.lines.Line2D at 0x7eff0dd60910>]"
      ]
     },
     "execution_count": 61,
     "metadata": {},
     "output_type": "execute_result"
    },
    {
     "data": {
      "image/png": "[encoded data removed]",
      "text/plain": [
       "<Figure size 640x480 with 1 Axes>"
      ]
     },
     "metadata": {},
     "output_type": "display_data"
    }
   ],
   "source": [
    "plt.plot(history.epoch,history.history.get('loss'))"
   ]
  },
  {
   "cell_type": "code",
   "execution_count": 62,
   "id": "695dfbc2",
   "metadata": {},
   "outputs": [
    {
     "data": {
      "text/plain": [
       "[<matplotlib.lines.Line2D at 0x7eff0e019240>]"
      ]
     },
     "execution_count": 62,
     "metadata": {},
     "output_type": "execute_result"
    },
    {
     "data": {
      "image/png": "[encoded data removed]",
      "text/plain": [
       "<Figure size 640x480 with 1 Axes>"
      ]
     },
     "metadata": {},
     "output_type": "display_data"
    }
   ],
   "source": [
    "plt.plot(history.epoch,history.history.get('acc'))"
   ]
  },
  {
   "cell_type": "code",
   "execution_count": null,
   "id": "90be8f2a",
   "metadata": {},
   "outputs": [],
   "source": [
    "#for test data"
   ]
  },
  {
   "cell_type": "code",
   "execution_count": 63,
   "id": "3e61e38c",
   "metadata": {},
   "outputs": [],
   "source": [
    "test_data=pd.read_csv('./torch-testdata.csv')"
   ]
  },
  {
   "cell_type": "code",
   "execution_count": 64,
   "id": "9a5a8294",
   "metadata": {},
   "outputs": [],
   "source": [
    "test_data['combintedString']=test_data[['API Name','Parameters']].apply(lambda x : '{}{}'.format(x[0],x[1]), axis=1)"
   ]
  },
  {
   "cell_type": "code",
   "execution_count": 65,
   "id": "ba9cb2a7",
   "metadata": {},
   "outputs": [],
   "source": [
    "test_data['text'] = test_data.combintedString.apply(reg_text)"
   ]
  },
  {
   "cell_type": "code",
   "execution_count": 66,
   "id": "021d9453",
   "metadata": {},
   "outputs": [],
   "source": [
    "data_test_ok = test_data.text.apply(lambda x: [word_index.get(word, 0) for word in x])"
   ]
  },
  {
   "cell_type": "code",
   "execution_count": 67,
   "id": "da2a33e3",
   "metadata": {},
   "outputs": [],
   "source": [
    "data_test_ok = keras.preprocessing.sequence.pad_sequences(data_test_ok.values, maxlen=maxlen)"
   ]
  },
  {
   "cell_type": "code",
   "execution_count": 68,
   "id": "57d57a4d",
   "metadata": {},
   "outputs": [
    {
     "name": "stdout",
     "output_type": "stream",
     "text": [
      "3/3 [==============================] - 0s 45ms/step\n"
     ]
    }
   ],
   "source": [
    "predict=model.predict(data_test_ok)"
   ]
  },
  {
   "cell_type": "code",
   "execution_count": 69,
   "id": "bfe23f54",
   "metadata": {
    "scrolled": true
   },
   "outputs": [
    {
     "data": {
      "text/plain": [
       "array([[0.5021259 ],\n",
       "       [0.50212985],\n",
       "       [0.50211746],\n",
       "       [0.5023535 ],\n",
       "       [0.502262  ],\n",
       "       [0.5021802 ],\n",
       "       [0.50212306],\n",
       "       [0.50220716],\n",
       "       [0.50240177],\n",
       "       [0.50229096],\n",
       "       [0.5021802 ],\n",
       "       [0.5021802 ],\n",
       "       [0.5021194 ],\n",
       "       [0.5021345 ],\n",
       "       [0.5021845 ],\n",
       "       [0.50221294],\n",
       "       [0.50212395],\n",
       "       [0.50219214],\n",
       "       [0.50217336],\n",
       "       [0.50217795],\n",
       "       [0.5021923 ],\n",
       "       [0.5022154 ],\n",
       "       [0.5021251 ],\n",
       "       [0.5021833 ],\n",
       "       [0.50226045],\n",
       "       [0.50220853],\n",
       "       [0.5023948 ],\n",
       "       [0.50212336],\n",
       "       [0.50227493],\n",
       "       [0.50219077],\n",
       "       [0.50242853],\n",
       "       [0.502262  ],\n",
       "       [0.5022262 ],\n",
       "       [0.50218576],\n",
       "       [0.5021194 ],\n",
       "       [0.5021954 ],\n",
       "       [0.50217223],\n",
       "       [0.5022283 ],\n",
       "       [0.50242645],\n",
       "       [0.50225675],\n",
       "       [0.50225675],\n",
       "       [0.50221735],\n",
       "       [0.50222766],\n",
       "       [0.5021899 ],\n",
       "       [0.5022613 ],\n",
       "       [0.5022761 ],\n",
       "       [0.5021245 ],\n",
       "       [0.5022622 ],\n",
       "       [0.50225675],\n",
       "       [0.5021199 ],\n",
       "       [0.5021802 ],\n",
       "       [0.5022686 ],\n",
       "       [0.5021915 ],\n",
       "       [0.50225675],\n",
       "       [0.5022467 ],\n",
       "       [0.50220656],\n",
       "       [0.5021147 ],\n",
       "       [0.5021233 ],\n",
       "       [0.50211614],\n",
       "       [0.5021194 ],\n",
       "       [0.50217795],\n",
       "       [0.50226694],\n",
       "       [0.5021802 ],\n",
       "       [0.502131  ],\n",
       "       [0.5021362 ],\n",
       "       [0.50227356],\n",
       "       [0.50223744],\n",
       "       [0.50220156],\n",
       "       [0.5021252 ],\n",
       "       [0.50217795],\n",
       "       [0.5021254 ],\n",
       "       [0.5022686 ],\n",
       "       [0.5021993 ],\n",
       "       [0.5022012 ],\n",
       "       [0.5021285 ],\n",
       "       [0.5021218 ],\n",
       "       [0.502262  ],\n",
       "       [0.50219077],\n",
       "       [0.50228155],\n",
       "       [0.5023705 ],\n",
       "       [0.5021189 ],\n",
       "       [0.50217795],\n",
       "       [0.5021254 ],\n",
       "       [0.5021981 ],\n",
       "       [0.50218195],\n",
       "       [0.50211674],\n",
       "       [0.5025174 ],\n",
       "       [0.5021194 ],\n",
       "       [0.50211614],\n",
       "       [0.5021194 ],\n",
       "       [0.5021868 ],\n",
       "       [0.5021194 ],\n",
       "       [0.5023698 ],\n",
       "       [0.50231606]], dtype=float32)"
      ]
     },
     "execution_count": 69,
     "metadata": {},
     "output_type": "execute_result"
    }
   ],
   "source": [
    "predict"
   ]
  },
  {
   "cell_type": "code",
   "execution_count": 70,
   "id": "874d466f",
   "metadata": {},
   "outputs": [
    {
     "name": "stdout",
     "output_type": "stream",
     "text": [
      "0\n"
     ]
    }
   ],
   "source": [
    "bug_count=0\n",
    "nonbug_count=0\n",
    "for numbers in predict:\n",
    "    if numbers[0]>0.5:\n",
    "        nonbug_count+=1\n",
    "    else:\n",
    "        bug_count+=1\n",
    "print(bug_count)"
   ]
  },
  {
   "cell_type": "code",
   "execution_count": 71,
   "id": "f876fa58",
   "metadata": {},
   "outputs": [],
   "source": [
    "labels = []\n",
    "\n",
    "for prob in predict:\n",
    "    if prob >= 0.5:\n",
    "        labels.append(\"success\")\n",
    "    else:\n",
    "        labels.append(\"fail\")\n",
    "test_data[\"Label\"]=labels\n",
    "test_data.to_csv('./outputdata_5050_balence_data.csv')"
   ]
  },
  {
   "cell_type": "code",
   "execution_count": null,
   "id": "fb0e69a6",
   "metadata": {},
   "outputs": [],
   "source": []
  }
 ],
 "metadata": {
  "kernelspec": {
   "display_name": "Python 3 (ipykernel)",
   "language": "python",
   "name": "python3"
  },
  "language_info": {
   "codemirror_mode": {
    "name": "ipython",
    "version": 3
   },
   "file_extension": ".py",
   "mimetype": "text/x-python",
   "name": "python",
   "nbconvert_exporter": "python",
   "pygments_lexer": "ipython3",
   "version": "3.10.9"
  }
 },
 "nbformat": 4,
 "nbformat_minor": 5
}
